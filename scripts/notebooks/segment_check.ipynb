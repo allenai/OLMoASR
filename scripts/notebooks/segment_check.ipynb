{
 "cells": [
  {
   "cell_type": "code",
   "execution_count": 2,
   "metadata": {},
   "outputs": [],
   "source": [
    "import os\n",
    "from moviepy.editor import AudioFileClip, TextClip, CompositeVideoClip\n",
    "from moviepy.video.tools.subtitles import SubtitlesClip\n",
    "from IPython.display import Video\n",
    "from open_whisper import preprocess\n",
    "import subprocess"
   ]
  },
  {
   "cell_type": "code",
   "execution_count": 3,
   "metadata": {},
   "outputs": [],
   "source": [
    "preprocess.download_transcript(\n",
    "    video_id=\"eh77AUKedyM\",\n",
    "    lang_code=\"en-US\",\n",
    "    output_dir=\"/home/ubuntu/open_whisper/scripts/notebooks\",\n",
    "    sub_format=\"vtt\",\n",
    ")"
   ]
  },
  {
   "cell_type": "code",
   "execution_count": 6,
   "metadata": {},
   "outputs": [
    {
     "name": "stdout",
     "output_type": "stream",
     "text": [
      "[youtube] Extracting URL: https://www.youtube.com/watch?v=jDwJawAsDbg\n",
      "[youtube] jDwJawAsDbg: Downloading webpage\n",
      "[youtube] jDwJawAsDbg: Downloading ios player API JSON\n",
      "[youtube] jDwJawAsDbg: Downloading android player API JSON\n",
      "[youtube] jDwJawAsDbg: Downloading m3u8 information\n",
      "[info] Available automatic captions for jDwJawAsDbg:\n",
      "Language      Name                                                Formats\n",
      "en-GB                                                             vtt\n",
      "af-en-GB      Afrikaans from English (United Kingdom)             vtt, ttml, srv3, srv2, srv1, json3\n",
      "ak-en-GB      Akan from English (United Kingdom)                  vtt, ttml, srv3, srv2, srv1, json3\n",
      "sq-en-GB      Albanian from English (United Kingdom)              vtt, ttml, srv3, srv2, srv1, json3\n",
      "am-en-GB      Amharic from English (United Kingdom)               vtt, ttml, srv3, srv2, srv1, json3\n",
      "ar-en-GB      Arabic from English (United Kingdom)                vtt, ttml, srv3, srv2, srv1, json3\n",
      "hy-en-GB      Armenian from English (United Kingdom)              vtt, ttml, srv3, srv2, srv1, json3\n",
      "as-en-GB      Assamese from English (United Kingdom)              vtt, ttml, srv3, srv2, srv1, json3\n",
      "ay-en-GB      Aymara from English (United Kingdom)                vtt, ttml, srv3, srv2, srv1, json3\n",
      "az-en-GB      Azerbaijani from English (United Kingdom)           vtt, ttml, srv3, srv2, srv1, json3\n",
      "bn-en-GB      Bangla from English (United Kingdom)                vtt, ttml, srv3, srv2, srv1, json3\n",
      "eu-en-GB      Basque from English (United Kingdom)                vtt, ttml, srv3, srv2, srv1, json3\n",
      "be-en-GB      Belarusian from English (United Kingdom)            vtt, ttml, srv3, srv2, srv1, json3\n",
      "bho-en-GB     Bhojpuri from English (United Kingdom)              vtt, ttml, srv3, srv2, srv1, json3\n",
      "bs-en-GB      Bosnian from English (United Kingdom)               vtt, ttml, srv3, srv2, srv1, json3\n",
      "bg-en-GB      Bulgarian from English (United Kingdom)             vtt, ttml, srv3, srv2, srv1, json3\n",
      "my-en-GB      Burmese from English (United Kingdom)               vtt, ttml, srv3, srv2, srv1, json3\n",
      "ca-en-GB      Catalan from English (United Kingdom)               vtt, ttml, srv3, srv2, srv1, json3\n",
      "ceb-en-GB     Cebuano from English (United Kingdom)               vtt, ttml, srv3, srv2, srv1, json3\n",
      "zh-Hans-en-GB Chinese (Simplified) from English (United Kingdom)  vtt, ttml, srv3, srv2, srv1, json3\n",
      "zh-Hant-en-GB Chinese (Traditional) from English (United Kingdom) vtt, ttml, srv3, srv2, srv1, json3\n",
      "co-en-GB      Corsican from English (United Kingdom)              vtt, ttml, srv3, srv2, srv1, json3\n",
      "hr-en-GB      Croatian from English (United Kingdom)              vtt, ttml, srv3, srv2, srv1, json3\n",
      "cs-en-GB      Czech from English (United Kingdom)                 vtt, ttml, srv3, srv2, srv1, json3\n",
      "da-en-GB      Danish from English (United Kingdom)                vtt, ttml, srv3, srv2, srv1, json3\n",
      "dv-en-GB      Divehi from English (United Kingdom)                vtt, ttml, srv3, srv2, srv1, json3\n",
      "nl-en-GB      Dutch from English (United Kingdom)                 vtt, ttml, srv3, srv2, srv1, json3\n",
      "en-en-GB      English from English (United Kingdom)               vtt, ttml, srv3, srv2, srv1, json3\n",
      "eo-en-GB      Esperanto from English (United Kingdom)             vtt, ttml, srv3, srv2, srv1, json3\n",
      "et-en-GB      Estonian from English (United Kingdom)              vtt, ttml, srv3, srv2, srv1, json3\n",
      "ee-en-GB      Ewe from English (United Kingdom)                   vtt, ttml, srv3, srv2, srv1, json3\n",
      "fil-en-GB     Filipino from English (United Kingdom)              vtt, ttml, srv3, srv2, srv1, json3\n",
      "fi-en-GB      Finnish from English (United Kingdom)               vtt, ttml, srv3, srv2, srv1, json3\n",
      "fr-en-GB      French from English (United Kingdom)                vtt, ttml, srv3, srv2, srv1, json3\n",
      "gl-en-GB      Galician from English (United Kingdom)              vtt, ttml, srv3, srv2, srv1, json3\n",
      "lg-en-GB      Ganda from English (United Kingdom)                 vtt, ttml, srv3, srv2, srv1, json3\n",
      "ka-en-GB      Georgian from English (United Kingdom)              vtt, ttml, srv3, srv2, srv1, json3\n",
      "de-en-GB      German from English (United Kingdom)                vtt, ttml, srv3, srv2, srv1, json3\n",
      "el-en-GB      Greek from English (United Kingdom)                 vtt, ttml, srv3, srv2, srv1, json3\n",
      "gn-en-GB      Guarani from English (United Kingdom)               vtt, ttml, srv3, srv2, srv1, json3\n",
      "gu-en-GB      Gujarati from English (United Kingdom)              vtt, ttml, srv3, srv2, srv1, json3\n",
      "ht-en-GB      Haitian Creole from English (United Kingdom)        vtt, ttml, srv3, srv2, srv1, json3\n",
      "ha-en-GB      Hausa from English (United Kingdom)                 vtt, ttml, srv3, srv2, srv1, json3\n",
      "haw-en-GB     Hawaiian from English (United Kingdom)              vtt, ttml, srv3, srv2, srv1, json3\n",
      "iw-en-GB      Hebrew from English (United Kingdom)                vtt, ttml, srv3, srv2, srv1, json3\n",
      "hi-en-GB      Hindi from English (United Kingdom)                 vtt, ttml, srv3, srv2, srv1, json3\n",
      "hmn-en-GB     Hmong from English (United Kingdom)                 vtt, ttml, srv3, srv2, srv1, json3\n",
      "hu-en-GB      Hungarian from English (United Kingdom)             vtt, ttml, srv3, srv2, srv1, json3\n",
      "is-en-GB      Icelandic from English (United Kingdom)             vtt, ttml, srv3, srv2, srv1, json3\n",
      "ig-en-GB      Igbo from English (United Kingdom)                  vtt, ttml, srv3, srv2, srv1, json3\n",
      "id-en-GB      Indonesian from English (United Kingdom)            vtt, ttml, srv3, srv2, srv1, json3\n",
      "ga-en-GB      Irish from English (United Kingdom)                 vtt, ttml, srv3, srv2, srv1, json3\n",
      "it-en-GB      Italian from English (United Kingdom)               vtt, ttml, srv3, srv2, srv1, json3\n",
      "ja-en-GB      Japanese from English (United Kingdom)              vtt, ttml, srv3, srv2, srv1, json3\n",
      "jv-en-GB      Javanese from English (United Kingdom)              vtt, ttml, srv3, srv2, srv1, json3\n",
      "kn-en-GB      Kannada from English (United Kingdom)               vtt, ttml, srv3, srv2, srv1, json3\n",
      "kk-en-GB      Kazakh from English (United Kingdom)                vtt, ttml, srv3, srv2, srv1, json3\n",
      "km-en-GB      Khmer from English (United Kingdom)                 vtt, ttml, srv3, srv2, srv1, json3\n",
      "rw-en-GB      Kinyarwanda from English (United Kingdom)           vtt, ttml, srv3, srv2, srv1, json3\n",
      "ko-en-GB      Korean from English (United Kingdom)                vtt, ttml, srv3, srv2, srv1, json3\n",
      "kri-en-GB     Krio from English (United Kingdom)                  vtt, ttml, srv3, srv2, srv1, json3\n",
      "ku-en-GB      Kurdish from English (United Kingdom)               vtt, ttml, srv3, srv2, srv1, json3\n",
      "ky-en-GB      Kyrgyz from English (United Kingdom)                vtt, ttml, srv3, srv2, srv1, json3\n",
      "lo-en-GB      Lao from English (United Kingdom)                   vtt, ttml, srv3, srv2, srv1, json3\n",
      "la-en-GB      Latin from English (United Kingdom)                 vtt, ttml, srv3, srv2, srv1, json3\n",
      "lv-en-GB      Latvian from English (United Kingdom)               vtt, ttml, srv3, srv2, srv1, json3\n",
      "ln-en-GB      Lingala from English (United Kingdom)               vtt, ttml, srv3, srv2, srv1, json3\n",
      "lt-en-GB      Lithuanian from English (United Kingdom)            vtt, ttml, srv3, srv2, srv1, json3\n",
      "lb-en-GB      Luxembourgish from English (United Kingdom)         vtt, ttml, srv3, srv2, srv1, json3\n",
      "mk-en-GB      Macedonian from English (United Kingdom)            vtt, ttml, srv3, srv2, srv1, json3\n",
      "mg-en-GB      Malagasy from English (United Kingdom)              vtt, ttml, srv3, srv2, srv1, json3\n",
      "ms-en-GB      Malay from English (United Kingdom)                 vtt, ttml, srv3, srv2, srv1, json3\n",
      "ml-en-GB      Malayalam from English (United Kingdom)             vtt, ttml, srv3, srv2, srv1, json3\n",
      "mt-en-GB      Maltese from English (United Kingdom)               vtt, ttml, srv3, srv2, srv1, json3\n",
      "mi-en-GB      Māori from English (United Kingdom)                 vtt, ttml, srv3, srv2, srv1, json3\n",
      "mr-en-GB      Marathi from English (United Kingdom)               vtt, ttml, srv3, srv2, srv1, json3\n",
      "mn-en-GB      Mongolian from English (United Kingdom)             vtt, ttml, srv3, srv2, srv1, json3\n",
      "ne-en-GB      Nepali from English (United Kingdom)                vtt, ttml, srv3, srv2, srv1, json3\n",
      "nso-en-GB     Northern Sotho from English (United Kingdom)        vtt, ttml, srv3, srv2, srv1, json3\n",
      "no-en-GB      Norwegian from English (United Kingdom)             vtt, ttml, srv3, srv2, srv1, json3\n",
      "ny-en-GB      Nyanja from English (United Kingdom)                vtt, ttml, srv3, srv2, srv1, json3\n",
      "or-en-GB      Odia from English (United Kingdom)                  vtt, ttml, srv3, srv2, srv1, json3\n",
      "om-en-GB      Oromo from English (United Kingdom)                 vtt, ttml, srv3, srv2, srv1, json3\n",
      "ps-en-GB      Pashto from English (United Kingdom)                vtt, ttml, srv3, srv2, srv1, json3\n",
      "fa-en-GB      Persian from English (United Kingdom)               vtt, ttml, srv3, srv2, srv1, json3\n",
      "pl-en-GB      Polish from English (United Kingdom)                vtt, ttml, srv3, srv2, srv1, json3\n",
      "pt-en-GB      Portuguese from English (United Kingdom)            vtt, ttml, srv3, srv2, srv1, json3\n",
      "pa-en-GB      Punjabi from English (United Kingdom)               vtt, ttml, srv3, srv2, srv1, json3\n",
      "qu-en-GB      Quechua from English (United Kingdom)               vtt, ttml, srv3, srv2, srv1, json3\n",
      "ro-en-GB      Romanian from English (United Kingdom)              vtt, ttml, srv3, srv2, srv1, json3\n",
      "ru-en-GB      Russian from English (United Kingdom)               vtt, ttml, srv3, srv2, srv1, json3\n",
      "sm-en-GB      Samoan from English (United Kingdom)                vtt, ttml, srv3, srv2, srv1, json3\n",
      "sa-en-GB      Sanskrit from English (United Kingdom)              vtt, ttml, srv3, srv2, srv1, json3\n",
      "gd-en-GB      Scottish Gaelic from English (United Kingdom)       vtt, ttml, srv3, srv2, srv1, json3\n",
      "sr-en-GB      Serbian from English (United Kingdom)               vtt, ttml, srv3, srv2, srv1, json3\n",
      "sn-en-GB      Shona from English (United Kingdom)                 vtt, ttml, srv3, srv2, srv1, json3\n",
      "sd-en-GB      Sindhi from English (United Kingdom)                vtt, ttml, srv3, srv2, srv1, json3\n",
      "si-en-GB      Sinhala from English (United Kingdom)               vtt, ttml, srv3, srv2, srv1, json3\n",
      "sk-en-GB      Slovak from English (United Kingdom)                vtt, ttml, srv3, srv2, srv1, json3\n",
      "sl-en-GB      Slovenian from English (United Kingdom)             vtt, ttml, srv3, srv2, srv1, json3\n",
      "so-en-GB      Somali from English (United Kingdom)                vtt, ttml, srv3, srv2, srv1, json3\n",
      "st-en-GB      Southern Sotho from English (United Kingdom)        vtt, ttml, srv3, srv2, srv1, json3\n",
      "es-en-GB      Spanish from English (United Kingdom)               vtt, ttml, srv3, srv2, srv1, json3\n",
      "su-en-GB      Sundanese from English (United Kingdom)             vtt, ttml, srv3, srv2, srv1, json3\n",
      "sw-en-GB      Swahili from English (United Kingdom)               vtt, ttml, srv3, srv2, srv1, json3\n",
      "sv-en-GB      Swedish from English (United Kingdom)               vtt, ttml, srv3, srv2, srv1, json3\n",
      "tg-en-GB      Tajik from English (United Kingdom)                 vtt, ttml, srv3, srv2, srv1, json3\n",
      "ta-en-GB      Tamil from English (United Kingdom)                 vtt, ttml, srv3, srv2, srv1, json3\n",
      "tt-en-GB      Tatar from English (United Kingdom)                 vtt, ttml, srv3, srv2, srv1, json3\n",
      "te-en-GB      Telugu from English (United Kingdom)                vtt, ttml, srv3, srv2, srv1, json3\n",
      "th-en-GB      Thai from English (United Kingdom)                  vtt, ttml, srv3, srv2, srv1, json3\n",
      "ti-en-GB      Tigrinya from English (United Kingdom)              vtt, ttml, srv3, srv2, srv1, json3\n",
      "ts-en-GB      Tsonga from English (United Kingdom)                vtt, ttml, srv3, srv2, srv1, json3\n",
      "tr-en-GB      Turkish from English (United Kingdom)               vtt, ttml, srv3, srv2, srv1, json3\n",
      "tk-en-GB      Turkmen from English (United Kingdom)               vtt, ttml, srv3, srv2, srv1, json3\n",
      "uk-en-GB      Ukrainian from English (United Kingdom)             vtt, ttml, srv3, srv2, srv1, json3\n",
      "ur-en-GB      Urdu from English (United Kingdom)                  vtt, ttml, srv3, srv2, srv1, json3\n",
      "ug-en-GB      Uyghur from English (United Kingdom)                vtt, ttml, srv3, srv2, srv1, json3\n",
      "uz-en-GB      Uzbek from English (United Kingdom)                 vtt, ttml, srv3, srv2, srv1, json3\n",
      "vi-en-GB      Vietnamese from English (United Kingdom)            vtt, ttml, srv3, srv2, srv1, json3\n",
      "cy-en-GB      Welsh from English (United Kingdom)                 vtt, ttml, srv3, srv2, srv1, json3\n",
      "fy-en-GB      Western Frisian from English (United Kingdom)       vtt, ttml, srv3, srv2, srv1, json3\n",
      "xh-en-GB      Xhosa from English (United Kingdom)                 vtt, ttml, srv3, srv2, srv1, json3\n",
      "yi-en-GB      Yiddish from English (United Kingdom)               vtt, ttml, srv3, srv2, srv1, json3\n",
      "yo-en-GB      Yoruba from English (United Kingdom)                vtt, ttml, srv3, srv2, srv1, json3\n",
      "zu-en-GB      Zulu from English (United Kingdom)                  vtt, ttml, srv3, srv2, srv1, json3\n",
      "[info] Available subtitles for jDwJawAsDbg:\n",
      "Language Name                     Formats\n",
      "en-GB    English (United Kingdom) vtt, ttml, srv3, srv2, srv1, json3\n"
     ]
    },
    {
     "data": {
      "text/plain": [
       "CompletedProcess(args=['yt-dlp', '--list-subs', 'https://www.youtube.com/watch?v=jDwJawAsDbg'], returncode=0)"
      ]
     },
     "execution_count": 6,
     "metadata": {},
     "output_type": "execute_result"
    }
   ],
   "source": [
    "command = [\"yt-dlp\", \"--list-subs\", \"https://www.youtube.com/watch?v=jDwJawAsDbg\"]\n",
    "subprocess.run(command, check=True)"
   ]
  },
  {
   "cell_type": "code",
   "execution_count": 24,
   "metadata": {},
   "outputs": [],
   "source": [
    "transcript_file = \"/home/ubuntu/open_whisper/data/transcripts/eh77AUKedyM/segments/00:00:01.501_00:00:30.071.srt\"\n",
    "audio_file = \"/home/ubuntu/open_whisper/data/audio/eh77AUKedyM/segments/00:00:01.501_00:00:30.071.wav\""
   ]
  },
  {
   "cell_type": "code",
   "execution_count": 25,
   "metadata": {},
   "outputs": [
    {
     "data": {
      "text/plain": [
       "28.57"
      ]
     },
     "execution_count": 25,
     "metadata": {},
     "output_type": "execute_result"
    }
   ],
   "source": [
    "audio_clip = AudioFileClip(audio_file)\n",
    "audio_clip.duration"
   ]
  },
  {
   "cell_type": "code",
   "execution_count": 34,
   "metadata": {},
   "outputs": [],
   "source": [
    "start_time = 0\n",
    "generator = lambda text: TextClip(text, font=\"Helvetica\", fontsize=24, color=\"white\")\n",
    "subtitles = SubtitlesClip(transcript_file, generator).set_position((\"center\", \"bottom\"))"
   ]
  },
  {
   "cell_type": "code",
   "execution_count": 35,
   "metadata": {},
   "outputs": [],
   "source": [
    "video = CompositeVideoClip([subtitles], size=(800, 420)).set_audio(audio_clip)"
   ]
  },
  {
   "cell_type": "code",
   "execution_count": 36,
   "metadata": {},
   "outputs": [
    {
     "name": "stdout",
     "output_type": "stream",
     "text": [
      "Moviepy - Building video /home/ubuntu/open_whisper/data/sanity-check/test.mp4.\n",
      "MoviePy - Writing audio in testTEMP_MPY_wvf_snd.mp3\n"
     ]
    },
    {
     "name": "stderr",
     "output_type": "stream",
     "text": [
      "                                                                    \r"
     ]
    },
    {
     "name": "stdout",
     "output_type": "stream",
     "text": [
      "MoviePy - Done.\n",
      "Moviepy - Writing video /home/ubuntu/open_whisper/data/sanity-check/test.mp4\n",
      "\n"
     ]
    },
    {
     "name": "stderr",
     "output_type": "stream",
     "text": [
      "                                                               "
     ]
    },
    {
     "name": "stdout",
     "output_type": "stream",
     "text": [
      "Moviepy - Done !\n",
      "Moviepy - video ready /home/ubuntu/open_whisper/data/sanity-check/test.mp4\n"
     ]
    },
    {
     "name": "stderr",
     "output_type": "stream",
     "text": [
      "\r"
     ]
    }
   ],
   "source": [
    "video.write_videofile(\"/home/ubuntu/open_whisper/data/sanity-check/test.mp4\", fps=24)"
   ]
  },
  {
   "cell_type": "code",
   "execution_count": 37,
   "metadata": {},
   "outputs": [
    {
     "data": {
      "text/html": [
       "<video src=\"/home/ubuntu/open_whisper/data/sanity-check/test.mp4\" controls  width=\"800\"  height=\"420\">\n",
       "      Your browser does not support the <code>video</code> element.\n",
       "    </video>"
      ],
      "text/plain": [
       "<IPython.core.display.Video object>"
      ]
     },
     "execution_count": 37,
     "metadata": {},
     "output_type": "execute_result"
    }
   ],
   "source": [
    "Video(\"/home/ubuntu/open_whisper/data/sanity-check/test.mp4\", width=800, height=420)"
   ]
  },
  {
   "cell_type": "code",
   "execution_count": null,
   "metadata": {},
   "outputs": [],
   "source": []
  }
 ],
 "metadata": {
  "kernelspec": {
   "display_name": "open_whisper",
   "language": "python",
   "name": "python3"
  },
  "language_info": {
   "codemirror_mode": {
    "name": "ipython",
    "version": 3
   },
   "file_extension": ".py",
   "mimetype": "text/x-python",
   "name": "python",
   "nbconvert_exporter": "python",
   "pygments_lexer": "ipython3",
   "version": "3.10.13"
  }
 },
 "nbformat": 4,
 "nbformat_minor": 2
}
