{
 "cells": [
  {
   "cell_type": "code",
   "execution_count": 1,
   "metadata": {},
   "outputs": [],
   "source": [
    "import os\n",
    "from moviepy.editor import AudioFileClip, TextClip, CompositeVideoClip\n",
    "from moviepy.video.tools.subtitles import SubtitlesClip\n",
    "from IPython.display import Video\n",
    "from open_whisper import preprocess"
   ]
  },
  {
   "cell_type": "code",
   "execution_count": null,
   "metadata": {},
   "outputs": [],
   "source": [
    "preprocess.download_transcript()"
   ]
  },
  {
   "cell_type": "code",
   "execution_count": 2,
   "metadata": {},
   "outputs": [],
   "source": [
    "transcript_file = \"/home/ubuntu/open_whisper/data/transcripts/eh77AUKedyM/segments/00:00:01.501_00:00:30.071.vtt\"\n",
    "audio_file = \"/home/ubuntu/open_whisper/data/audio/eh77AUKedyM/segments/00:00:01.501_00:00:30.071.wav\""
   ]
  },
  {
   "cell_type": "code",
   "execution_count": 3,
   "metadata": {},
   "outputs": [
    {
     "data": {
      "text/plain": [
       "28.57"
      ]
     },
     "execution_count": 3,
     "metadata": {},
     "output_type": "execute_result"
    }
   ],
   "source": [
    "audio_clip = AudioFileClip(audio_file)\n",
    "audio_clip.duration"
   ]
  },
  {
   "cell_type": "code",
   "execution_count": null,
   "metadata": {},
   "outputs": [],
   "source": [
    "start_time = 0\n",
    "generator = lambda text: TextClip(text, font=\"Helvetica\", fontsize=24, color=\"white\")\n",
    "subtitles = SubtitlesClip(transcript_file, generator)"
   ]
  },
  {
   "cell_type": "code",
   "execution_count": null,
   "metadata": {},
   "outputs": [],
   "source": [
    "transcript_text = open(transcript_file).read()\n",
    "text_clip = (\n",
    "    TextClip(\n",
    "        txt=transcript_text,\n",
    "        fontsize=24,\n",
    "        color=\"white\",\n",
    "        bg_color=\"black\",\n",
    "        font=\"Helvetica\",\n",
    "    )\n",
    "    .set_duration(audio_clip.duration)\n",
    "    .set_start(start_time)\n",
    "    .set_position((\"center\", \"bottom\"))\n",
    ")"
   ]
  },
  {
   "cell_type": "code",
   "execution_count": 14,
   "metadata": {},
   "outputs": [],
   "source": [
    "video = CompositeVideoClip([text_clip], size=(800, 420)).set_audio(audio_clip)"
   ]
  },
  {
   "cell_type": "code",
   "execution_count": null,
   "metadata": {},
   "outputs": [],
   "source": [
    "video.write_videofile(\"/home/ubuntu/open_whisper/data/sanity-check/test.mp4\", fps=24)"
   ]
  },
  {
   "cell_type": "code",
   "execution_count": 16,
   "metadata": {},
   "outputs": [
    {
     "data": {
      "text/html": [
       "<video src=\"/home/ubuntu/open_whisper/data/sanity-check/test.mp4\" controls  width=\"800\"  height=\"420\">\n",
       "      Your browser does not support the <code>video</code> element.\n",
       "    </video>"
      ],
      "text/plain": [
       "<IPython.core.display.Video object>"
      ]
     },
     "execution_count": 16,
     "metadata": {},
     "output_type": "execute_result"
    }
   ],
   "source": [
    "from IPython.display import Video\n",
    "\n",
    "Video(\"/home/ubuntu/open_whisper/data/sanity-check/test.mp4\", width=800, height=420)"
   ]
  },
  {
   "cell_type": "code",
   "execution_count": null,
   "metadata": {},
   "outputs": [],
   "source": []
  }
 ],
 "metadata": {
  "kernelspec": {
   "display_name": "open_whisper",
   "language": "python",
   "name": "python3"
  },
  "language_info": {
   "codemirror_mode": {
    "name": "ipython",
    "version": 3
   },
   "file_extension": ".py",
   "mimetype": "text/x-python",
   "name": "python",
   "nbconvert_exporter": "python",
   "pygments_lexer": "ipython3",
   "version": "3.10.13"
  }
 },
 "nbformat": 4,
 "nbformat_minor": 2
}
