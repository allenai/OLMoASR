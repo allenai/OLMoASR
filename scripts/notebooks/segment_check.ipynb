{
 "cells": [
  {
   "cell_type": "code",
   "execution_count": 1,
   "metadata": {},
   "outputs": [],
   "source": [
    "import os\n",
    "from moviepy.editor import AudioFileClip, TextClip, CompositeVideoClip\n",
    "from moviepy.video.tools.subtitles import SubtitlesClip\n",
    "from IPython.display import Video\n",
    "from open_whisper import preprocess\n",
    "import subprocess"
   ]
  },
  {
   "cell_type": "code",
   "execution_count": 2,
   "metadata": {},
   "outputs": [],
   "source": [
    "preprocess.download_audio(\n",
    "    video_id=\"eh77AUKedyM\",\n",
    "    output_dir=\"/home/ubuntu/open_whisper/data/audio/eh77AUKedyM\",\n",
    "    ext=\"m4a\"\n",
    ")"
   ]
  },
  {
   "cell_type": "code",
   "execution_count": 3,
   "metadata": {},
   "outputs": [],
   "source": [
    "preprocess.download_transcript(\n",
    "    video_id=\"eh77AUKedyM\",\n",
    "    lang_code=\"en-US\",\n",
    "    output_dir=\"/home/ubuntu/open_whisper/scripts/notebooks\",\n",
    "    sub_format=\"vtt\",\n",
    ")"
   ]
  },
  {
   "cell_type": "code",
   "execution_count": 3,
   "metadata": {},
   "outputs": [
    {
     "name": "stdout",
     "output_type": "stream",
     "text": [
      "[youtube] Extracting URL: https://www.youtube.com/watch?v=eh77AUKedyM\n",
      "[youtube] eh77AUKedyM: Downloading webpage\n",
      "[youtube] eh77AUKedyM: Downloading ios player API JSON\n",
      "[youtube] eh77AUKedyM: Downloading android player API JSON\n",
      "[youtube] eh77AUKedyM: Downloading m3u8 information\n",
      "[info] Available formats for eh77AUKedyM:\n",
      "ID  EXT   RESOLUTION FPS CH |   FILESIZE    TBR PROTO | VCODEC           VBR ACODEC      ABR ASR MORE INFO\n",
      "-------------------------------------------------------------------------------------------------------------------------\n",
      "sb2 mhtml 48x27        1    |                   mhtml | images                                   storyboard\n",
      "sb1 mhtml 80x45        1    |                   mhtml | images                                   storyboard\n",
      "sb0 mhtml 160x90       1    |                   mhtml | images                                   storyboard\n",
      "233 mp4   audio only        |                   m3u8  | audio only           unknown             [en] Default\n",
      "234 mp4   audio only        |                   m3u8  | audio only           unknown             [en] Default\n",
      "599 m4a   audio only      2 |  600.77KiB    31k https | audio only           mp4a.40.5   31k 22k [en] ultralow, m4a_dash\n",
      "600 webm  audio only      2 |  748.78KiB    38k https | audio only           opus        38k 48k [en] ultralow, webm_dash\n",
      "139 m4a   audio only      2 |  951.69KiB    49k https | audio only           mp4a.40.5   49k 22k [en] low, m4a_dash\n",
      "249 webm  audio only      2 |    1.08MiB    57k https | audio only           opus        57k 48k [en] low, webm_dash\n",
      "250 webm  audio only      2 |    1.42MiB    74k https | audio only           opus        74k 48k [en] low, webm_dash\n",
      "140 m4a   audio only      2 |    2.46MiB   130k https | audio only           mp4a.40.2  130k 44k [en] medium, m4a_dash\n",
      "251 webm  audio only      2 |    2.77MiB   145k https | audio only           opus       145k 48k [en] medium, webm_dash\n",
      "597 mp4   256x144     12    |  630.91KiB    32k https | avc1.4d400b      32k video only          144p, mp4_dash\n",
      "602 mp4   256x144     12    | ~  1.78MiB    91k m3u8  | vp09.00.10.08    91k video only\n",
      "598 webm  256x144     12    |  574.53KiB    29k https | vp9              29k video only          144p, webm_dash\n",
      "269 mp4   256x144     24    | ~  3.08MiB   158k m3u8  | avc1.4D400C     158k video only\n",
      "160 mp4   256x144     24    |    1.21MiB    63k https | avc1.4D400C      63k video only          144p, mp4_dash\n",
      "603 mp4   256x144     24    | ~  2.95MiB   151k m3u8  | vp09.00.11.08   151k video only\n",
      "278 webm  256x144     24    |    1.46MiB    77k https | vp09.00.11.08    77k video only          144p, webm_dash\n",
      "229 mp4   426x240     24    | ~  5.08MiB   260k m3u8  | avc1.4D4015     260k video only\n",
      "133 mp4   426x240     24    |    2.56MiB   135k https | avc1.4D4015     135k video only          240p, mp4_dash\n",
      "604 mp4   426x240     24    | ~  4.79MiB   245k m3u8  | vp09.00.20.08   245k video only\n",
      "242 webm  426x240     24    |    2.16MiB   114k https | vp09.00.20.08   114k video only          240p, webm_dash\n",
      "230 mp4   640x360     24    | ~ 10.07MiB   516k m3u8  | avc1.4D401E     516k video only\n",
      "134 mp4   640x360     24    |    4.68MiB   246k https | avc1.4D401E     246k video only          360p, mp4_dash\n",
      "18  mp4   640x360     24  2 | ≈  7.31MiB   374k https | avc1.42001E          mp4a.40.2       44k [en] 360p\n",
      "605 mp4   640x360     24    | ~  9.29MiB   476k m3u8  | vp09.00.21.08   476k video only\n",
      "243 webm  640x360     24    |    3.71MiB   195k https | vp09.00.21.08   195k video only          360p, webm_dash\n",
      "231 mp4   854x480     24    | ~ 19.00MiB   973k m3u8  | avc1.4D401E     973k video only\n",
      "135 mp4   854x480     24    |    9.71MiB   510k https | avc1.4D401E     510k video only          480p, mp4_dash\n",
      "606 mp4   854x480     24    | ~ 13.64MiB   698k m3u8  | vp09.00.30.08   698k video only\n",
      "244 webm  854x480     24    |    6.05MiB   318k https | vp09.00.30.08   318k video only          480p, webm_dash\n",
      "22  mp4   1280x720    24  2 | ≈ 21.15MiB  1083k https | avc1.64001F          mp4a.40.2       44k [en] 720p\n",
      "232 mp4   1280x720    24    | ~ 40.58MiB  2078k m3u8  | avc1.64001F    2078k video only\n",
      "136 mp4   1280x720    24    |   18.15MiB   954k https | avc1.64001F     954k video only          720p, mp4_dash\n",
      "609 mp4   1280x720    24    | ~ 22.84MiB  1169k m3u8  | vp09.00.31.08  1169k video only\n",
      "247 webm  1280x720    24    |   11.22MiB   590k https | vp09.00.31.08   590k video only          720p, webm_dash\n",
      "270 mp4   1920x1080   24    | ~ 72.89MiB  3732k m3u8  | avc1.640028    3732k video only\n",
      "137 mp4   1920x1080   24    |   33.31MiB  1751k https | avc1.640028    1751k video only          1080p, mp4_dash\n",
      "614 mp4   1920x1080   24    | ~ 41.08MiB  2103k m3u8  | vp09.00.40.08  2103k video only\n",
      "248 webm  1920x1080   24    |   18.47MiB   971k https | vp09.00.40.08   971k video only          1080p, webm_dash\n",
      "620 mp4   2560x1440   24    | ~131.05MiB  6710k m3u8  | vp09.00.50.08  6710k video only\n",
      "271 webm  2560x1440   24    |   60.70MiB  3191k https | vp09.00.50.08  3191k video only          1440p, webm_dash\n",
      "625 mp4   3840x2160   24    | ~220.30MiB 11279k m3u8  | vp09.00.50.08 11279k video only\n",
      "313 webm  3840x2160   24    |  120.30MiB  6324k https | vp09.00.50.08  6324k video only          2160p, webm_dash\n"
     ]
    },
    {
     "data": {
      "text/plain": [
       "CompletedProcess(args=['yt-dlp', '--list-formats', 'https://www.youtube.com/watch?v=eh77AUKedyM'], returncode=0)"
      ]
     },
     "execution_count": 3,
     "metadata": {},
     "output_type": "execute_result"
    }
   ],
   "source": [
    "command = [\"yt-dlp\", \"--list-formats\", \"https://www.youtube.com/watch?v=eh77AUKedyM\"]\n",
    "subprocess.run(command)"
   ]
  },
  {
   "cell_type": "code",
   "execution_count": 6,
   "metadata": {},
   "outputs": [
    {
     "name": "stdout",
     "output_type": "stream",
     "text": [
      "[youtube] Extracting URL: https://www.youtube.com/watch?v=jDwJawAsDbg\n",
      "[youtube] jDwJawAsDbg: Downloading webpage\n",
      "[youtube] jDwJawAsDbg: Downloading ios player API JSON\n",
      "[youtube] jDwJawAsDbg: Downloading android player API JSON\n",
      "[youtube] jDwJawAsDbg: Downloading m3u8 information\n",
      "[info] Available automatic captions for jDwJawAsDbg:\n",
      "Language      Name                                                Formats\n",
      "en-GB                                                             vtt\n",
      "af-en-GB      Afrikaans from English (United Kingdom)             vtt, ttml, srv3, srv2, srv1, json3\n",
      "ak-en-GB      Akan from English (United Kingdom)                  vtt, ttml, srv3, srv2, srv1, json3\n",
      "sq-en-GB      Albanian from English (United Kingdom)              vtt, ttml, srv3, srv2, srv1, json3\n",
      "am-en-GB      Amharic from English (United Kingdom)               vtt, ttml, srv3, srv2, srv1, json3\n",
      "ar-en-GB      Arabic from English (United Kingdom)                vtt, ttml, srv3, srv2, srv1, json3\n",
      "hy-en-GB      Armenian from English (United Kingdom)              vtt, ttml, srv3, srv2, srv1, json3\n",
      "as-en-GB      Assamese from English (United Kingdom)              vtt, ttml, srv3, srv2, srv1, json3\n",
      "ay-en-GB      Aymara from English (United Kingdom)                vtt, ttml, srv3, srv2, srv1, json3\n",
      "az-en-GB      Azerbaijani from English (United Kingdom)           vtt, ttml, srv3, srv2, srv1, json3\n",
      "bn-en-GB      Bangla from English (United Kingdom)                vtt, ttml, srv3, srv2, srv1, json3\n",
      "eu-en-GB      Basque from English (United Kingdom)                vtt, ttml, srv3, srv2, srv1, json3\n",
      "be-en-GB      Belarusian from English (United Kingdom)            vtt, ttml, srv3, srv2, srv1, json3\n",
      "bho-en-GB     Bhojpuri from English (United Kingdom)              vtt, ttml, srv3, srv2, srv1, json3\n",
      "bs-en-GB      Bosnian from English (United Kingdom)               vtt, ttml, srv3, srv2, srv1, json3\n",
      "bg-en-GB      Bulgarian from English (United Kingdom)             vtt, ttml, srv3, srv2, srv1, json3\n",
      "my-en-GB      Burmese from English (United Kingdom)               vtt, ttml, srv3, srv2, srv1, json3\n",
      "ca-en-GB      Catalan from English (United Kingdom)               vtt, ttml, srv3, srv2, srv1, json3\n",
      "ceb-en-GB     Cebuano from English (United Kingdom)               vtt, ttml, srv3, srv2, srv1, json3\n",
      "zh-Hans-en-GB Chinese (Simplified) from English (United Kingdom)  vtt, ttml, srv3, srv2, srv1, json3\n",
      "zh-Hant-en-GB Chinese (Traditional) from English (United Kingdom) vtt, ttml, srv3, srv2, srv1, json3\n",
      "co-en-GB      Corsican from English (United Kingdom)              vtt, ttml, srv3, srv2, srv1, json3\n",
      "hr-en-GB      Croatian from English (United Kingdom)              vtt, ttml, srv3, srv2, srv1, json3\n",
      "cs-en-GB      Czech from English (United Kingdom)                 vtt, ttml, srv3, srv2, srv1, json3\n",
      "da-en-GB      Danish from English (United Kingdom)                vtt, ttml, srv3, srv2, srv1, json3\n",
      "dv-en-GB      Divehi from English (United Kingdom)                vtt, ttml, srv3, srv2, srv1, json3\n",
      "nl-en-GB      Dutch from English (United Kingdom)                 vtt, ttml, srv3, srv2, srv1, json3\n",
      "en-en-GB      English from English (United Kingdom)               vtt, ttml, srv3, srv2, srv1, json3\n",
      "eo-en-GB      Esperanto from English (United Kingdom)             vtt, ttml, srv3, srv2, srv1, json3\n",
      "et-en-GB      Estonian from English (United Kingdom)              vtt, ttml, srv3, srv2, srv1, json3\n",
      "ee-en-GB      Ewe from English (United Kingdom)                   vtt, ttml, srv3, srv2, srv1, json3\n",
      "fil-en-GB     Filipino from English (United Kingdom)              vtt, ttml, srv3, srv2, srv1, json3\n",
      "fi-en-GB      Finnish from English (United Kingdom)               vtt, ttml, srv3, srv2, srv1, json3\n",
      "fr-en-GB      French from English (United Kingdom)                vtt, ttml, srv3, srv2, srv1, json3\n",
      "gl-en-GB      Galician from English (United Kingdom)              vtt, ttml, srv3, srv2, srv1, json3\n",
      "lg-en-GB      Ganda from English (United Kingdom)                 vtt, ttml, srv3, srv2, srv1, json3\n",
      "ka-en-GB      Georgian from English (United Kingdom)              vtt, ttml, srv3, srv2, srv1, json3\n",
      "de-en-GB      German from English (United Kingdom)                vtt, ttml, srv3, srv2, srv1, json3\n",
      "el-en-GB      Greek from English (United Kingdom)                 vtt, ttml, srv3, srv2, srv1, json3\n",
      "gn-en-GB      Guarani from English (United Kingdom)               vtt, ttml, srv3, srv2, srv1, json3\n",
      "gu-en-GB      Gujarati from English (United Kingdom)              vtt, ttml, srv3, srv2, srv1, json3\n",
      "ht-en-GB      Haitian Creole from English (United Kingdom)        vtt, ttml, srv3, srv2, srv1, json3\n",
      "ha-en-GB      Hausa from English (United Kingdom)                 vtt, ttml, srv3, srv2, srv1, json3\n",
      "haw-en-GB     Hawaiian from English (United Kingdom)              vtt, ttml, srv3, srv2, srv1, json3\n",
      "iw-en-GB      Hebrew from English (United Kingdom)                vtt, ttml, srv3, srv2, srv1, json3\n",
      "hi-en-GB      Hindi from English (United Kingdom)                 vtt, ttml, srv3, srv2, srv1, json3\n",
      "hmn-en-GB     Hmong from English (United Kingdom)                 vtt, ttml, srv3, srv2, srv1, json3\n",
      "hu-en-GB      Hungarian from English (United Kingdom)             vtt, ttml, srv3, srv2, srv1, json3\n",
      "is-en-GB      Icelandic from English (United Kingdom)             vtt, ttml, srv3, srv2, srv1, json3\n",
      "ig-en-GB      Igbo from English (United Kingdom)                  vtt, ttml, srv3, srv2, srv1, json3\n",
      "id-en-GB      Indonesian from English (United Kingdom)            vtt, ttml, srv3, srv2, srv1, json3\n",
      "ga-en-GB      Irish from English (United Kingdom)                 vtt, ttml, srv3, srv2, srv1, json3\n",
      "it-en-GB      Italian from English (United Kingdom)               vtt, ttml, srv3, srv2, srv1, json3\n",
      "ja-en-GB      Japanese from English (United Kingdom)              vtt, ttml, srv3, srv2, srv1, json3\n",
      "jv-en-GB      Javanese from English (United Kingdom)              vtt, ttml, srv3, srv2, srv1, json3\n",
      "kn-en-GB      Kannada from English (United Kingdom)               vtt, ttml, srv3, srv2, srv1, json3\n",
      "kk-en-GB      Kazakh from English (United Kingdom)                vtt, ttml, srv3, srv2, srv1, json3\n",
      "km-en-GB      Khmer from English (United Kingdom)                 vtt, ttml, srv3, srv2, srv1, json3\n",
      "rw-en-GB      Kinyarwanda from English (United Kingdom)           vtt, ttml, srv3, srv2, srv1, json3\n",
      "ko-en-GB      Korean from English (United Kingdom)                vtt, ttml, srv3, srv2, srv1, json3\n",
      "kri-en-GB     Krio from English (United Kingdom)                  vtt, ttml, srv3, srv2, srv1, json3\n",
      "ku-en-GB      Kurdish from English (United Kingdom)               vtt, ttml, srv3, srv2, srv1, json3\n",
      "ky-en-GB      Kyrgyz from English (United Kingdom)                vtt, ttml, srv3, srv2, srv1, json3\n",
      "lo-en-GB      Lao from English (United Kingdom)                   vtt, ttml, srv3, srv2, srv1, json3\n",
      "la-en-GB      Latin from English (United Kingdom)                 vtt, ttml, srv3, srv2, srv1, json3\n",
      "lv-en-GB      Latvian from English (United Kingdom)               vtt, ttml, srv3, srv2, srv1, json3\n",
      "ln-en-GB      Lingala from English (United Kingdom)               vtt, ttml, srv3, srv2, srv1, json3\n",
      "lt-en-GB      Lithuanian from English (United Kingdom)            vtt, ttml, srv3, srv2, srv1, json3\n",
      "lb-en-GB      Luxembourgish from English (United Kingdom)         vtt, ttml, srv3, srv2, srv1, json3\n",
      "mk-en-GB      Macedonian from English (United Kingdom)            vtt, ttml, srv3, srv2, srv1, json3\n",
      "mg-en-GB      Malagasy from English (United Kingdom)              vtt, ttml, srv3, srv2, srv1, json3\n",
      "ms-en-GB      Malay from English (United Kingdom)                 vtt, ttml, srv3, srv2, srv1, json3\n",
      "ml-en-GB      Malayalam from English (United Kingdom)             vtt, ttml, srv3, srv2, srv1, json3\n",
      "mt-en-GB      Maltese from English (United Kingdom)               vtt, ttml, srv3, srv2, srv1, json3\n",
      "mi-en-GB      Māori from English (United Kingdom)                 vtt, ttml, srv3, srv2, srv1, json3\n",
      "mr-en-GB      Marathi from English (United Kingdom)               vtt, ttml, srv3, srv2, srv1, json3\n",
      "mn-en-GB      Mongolian from English (United Kingdom)             vtt, ttml, srv3, srv2, srv1, json3\n",
      "ne-en-GB      Nepali from English (United Kingdom)                vtt, ttml, srv3, srv2, srv1, json3\n",
      "nso-en-GB     Northern Sotho from English (United Kingdom)        vtt, ttml, srv3, srv2, srv1, json3\n",
      "no-en-GB      Norwegian from English (United Kingdom)             vtt, ttml, srv3, srv2, srv1, json3\n",
      "ny-en-GB      Nyanja from English (United Kingdom)                vtt, ttml, srv3, srv2, srv1, json3\n",
      "or-en-GB      Odia from English (United Kingdom)                  vtt, ttml, srv3, srv2, srv1, json3\n",
      "om-en-GB      Oromo from English (United Kingdom)                 vtt, ttml, srv3, srv2, srv1, json3\n",
      "ps-en-GB      Pashto from English (United Kingdom)                vtt, ttml, srv3, srv2, srv1, json3\n",
      "fa-en-GB      Persian from English (United Kingdom)               vtt, ttml, srv3, srv2, srv1, json3\n",
      "pl-en-GB      Polish from English (United Kingdom)                vtt, ttml, srv3, srv2, srv1, json3\n",
      "pt-en-GB      Portuguese from English (United Kingdom)            vtt, ttml, srv3, srv2, srv1, json3\n",
      "pa-en-GB      Punjabi from English (United Kingdom)               vtt, ttml, srv3, srv2, srv1, json3\n",
      "qu-en-GB      Quechua from English (United Kingdom)               vtt, ttml, srv3, srv2, srv1, json3\n",
      "ro-en-GB      Romanian from English (United Kingdom)              vtt, ttml, srv3, srv2, srv1, json3\n",
      "ru-en-GB      Russian from English (United Kingdom)               vtt, ttml, srv3, srv2, srv1, json3\n",
      "sm-en-GB      Samoan from English (United Kingdom)                vtt, ttml, srv3, srv2, srv1, json3\n",
      "sa-en-GB      Sanskrit from English (United Kingdom)              vtt, ttml, srv3, srv2, srv1, json3\n",
      "gd-en-GB      Scottish Gaelic from English (United Kingdom)       vtt, ttml, srv3, srv2, srv1, json3\n",
      "sr-en-GB      Serbian from English (United Kingdom)               vtt, ttml, srv3, srv2, srv1, json3\n",
      "sn-en-GB      Shona from English (United Kingdom)                 vtt, ttml, srv3, srv2, srv1, json3\n",
      "sd-en-GB      Sindhi from English (United Kingdom)                vtt, ttml, srv3, srv2, srv1, json3\n",
      "si-en-GB      Sinhala from English (United Kingdom)               vtt, ttml, srv3, srv2, srv1, json3\n",
      "sk-en-GB      Slovak from English (United Kingdom)                vtt, ttml, srv3, srv2, srv1, json3\n",
      "sl-en-GB      Slovenian from English (United Kingdom)             vtt, ttml, srv3, srv2, srv1, json3\n",
      "so-en-GB      Somali from English (United Kingdom)                vtt, ttml, srv3, srv2, srv1, json3\n",
      "st-en-GB      Southern Sotho from English (United Kingdom)        vtt, ttml, srv3, srv2, srv1, json3\n",
      "es-en-GB      Spanish from English (United Kingdom)               vtt, ttml, srv3, srv2, srv1, json3\n",
      "su-en-GB      Sundanese from English (United Kingdom)             vtt, ttml, srv3, srv2, srv1, json3\n",
      "sw-en-GB      Swahili from English (United Kingdom)               vtt, ttml, srv3, srv2, srv1, json3\n",
      "sv-en-GB      Swedish from English (United Kingdom)               vtt, ttml, srv3, srv2, srv1, json3\n",
      "tg-en-GB      Tajik from English (United Kingdom)                 vtt, ttml, srv3, srv2, srv1, json3\n",
      "ta-en-GB      Tamil from English (United Kingdom)                 vtt, ttml, srv3, srv2, srv1, json3\n",
      "tt-en-GB      Tatar from English (United Kingdom)                 vtt, ttml, srv3, srv2, srv1, json3\n",
      "te-en-GB      Telugu from English (United Kingdom)                vtt, ttml, srv3, srv2, srv1, json3\n",
      "th-en-GB      Thai from English (United Kingdom)                  vtt, ttml, srv3, srv2, srv1, json3\n",
      "ti-en-GB      Tigrinya from English (United Kingdom)              vtt, ttml, srv3, srv2, srv1, json3\n",
      "ts-en-GB      Tsonga from English (United Kingdom)                vtt, ttml, srv3, srv2, srv1, json3\n",
      "tr-en-GB      Turkish from English (United Kingdom)               vtt, ttml, srv3, srv2, srv1, json3\n",
      "tk-en-GB      Turkmen from English (United Kingdom)               vtt, ttml, srv3, srv2, srv1, json3\n",
      "uk-en-GB      Ukrainian from English (United Kingdom)             vtt, ttml, srv3, srv2, srv1, json3\n",
      "ur-en-GB      Urdu from English (United Kingdom)                  vtt, ttml, srv3, srv2, srv1, json3\n",
      "ug-en-GB      Uyghur from English (United Kingdom)                vtt, ttml, srv3, srv2, srv1, json3\n",
      "uz-en-GB      Uzbek from English (United Kingdom)                 vtt, ttml, srv3, srv2, srv1, json3\n",
      "vi-en-GB      Vietnamese from English (United Kingdom)            vtt, ttml, srv3, srv2, srv1, json3\n",
      "cy-en-GB      Welsh from English (United Kingdom)                 vtt, ttml, srv3, srv2, srv1, json3\n",
      "fy-en-GB      Western Frisian from English (United Kingdom)       vtt, ttml, srv3, srv2, srv1, json3\n",
      "xh-en-GB      Xhosa from English (United Kingdom)                 vtt, ttml, srv3, srv2, srv1, json3\n",
      "yi-en-GB      Yiddish from English (United Kingdom)               vtt, ttml, srv3, srv2, srv1, json3\n",
      "yo-en-GB      Yoruba from English (United Kingdom)                vtt, ttml, srv3, srv2, srv1, json3\n",
      "zu-en-GB      Zulu from English (United Kingdom)                  vtt, ttml, srv3, srv2, srv1, json3\n",
      "[info] Available subtitles for jDwJawAsDbg:\n",
      "Language Name                     Formats\n",
      "en-GB    English (United Kingdom) vtt, ttml, srv3, srv2, srv1, json3\n"
     ]
    },
    {
     "data": {
      "text/plain": [
       "CompletedProcess(args=['yt-dlp', '--list-subs', 'https://www.youtube.com/watch?v=jDwJawAsDbg'], returncode=0)"
      ]
     },
     "execution_count": 6,
     "metadata": {},
     "output_type": "execute_result"
    }
   ],
   "source": [
    "command = [\"yt-dlp\", \"--list-subs\", \"https://www.youtube.com/watch?v=jDwJawAsDbg\"]\n",
    "subprocess.run(command, check=True)"
   ]
  },
  {
   "cell_type": "markdown",
   "metadata": {},
   "source": [
    "### FFMpeg - doesn't work so slay"
   ]
  },
  {
   "cell_type": "code",
   "execution_count": 23,
   "metadata": {},
   "outputs": [],
   "source": [
    "transcript_file = \"/home/ubuntu/open_whisper/data/transcripts/eh77AUKedyM/segments/00:00:01.501_00:00:30.071.vtt\"\n",
    "audio_file = \"/home/ubuntu/open_whisper/data/audio/eh77AUKedyM/segments/00:00:01.501_00:00:30.071.m4a\""
   ]
  },
  {
   "cell_type": "code",
   "execution_count": 25,
   "metadata": {},
   "outputs": [
    {
     "name": "stderr",
     "output_type": "stream",
     "text": [
      "ffmpeg version 4.2.7-0ubuntu0.1 Copyright (c) 2000-2022 the FFmpeg developers\n",
      "  built with gcc 9 (Ubuntu 9.4.0-1ubuntu1~20.04.1)\n",
      "  configuration: --prefix=/usr --extra-version=0ubuntu0.1 --toolchain=hardened --libdir=/usr/lib/x86_64-linux-gnu --incdir=/usr/include/x86_64-linux-gnu --arch=amd64 --enable-gpl --disable-stripping --enable-avresample --disable-filter=resample --enable-avisynth --enable-gnutls --enable-ladspa --enable-libaom --enable-libass --enable-libbluray --enable-libbs2b --enable-libcaca --enable-libcdio --enable-libcodec2 --enable-libflite --enable-libfontconfig --enable-libfreetype --enable-libfribidi --enable-libgme --enable-libgsm --enable-libjack --enable-libmp3lame --enable-libmysofa --enable-libopenjpeg --enable-libopenmpt --enable-libopus --enable-libpulse --enable-librsvg --enable-librubberband --enable-libshine --enable-libsnappy --enable-libsoxr --enable-libspeex --enable-libssh --enable-libtheora --enable-libtwolame --enable-libvidstab --enable-libvorbis --enable-libvpx --enable-libwavpack --enable-libwebp --enable-libx265 --enable-libxml2 --enable-libxvid --enable-libzmq --enable-libzvbi --enable-lv2 --enable-omx --enable-openal --enable-opencl --enable-opengl --enable-sdl2 --enable-libdc1394 --enable-libdrm --enable-libiec61883 --enable-nvenc --enable-chromaprint --enable-frei0r --enable-libx264 --enable-shared\n",
      "  libavutil      56. 31.100 / 56. 31.100\n",
      "  libavcodec     58. 54.100 / 58. 54.100\n",
      "  libavformat    58. 29.100 / 58. 29.100\n",
      "  libavdevice    58.  8.100 / 58.  8.100\n",
      "  libavfilter     7. 57.100 /  7. 57.100\n",
      "  libavresample   4.  0.  0 /  4.  0.  0\n",
      "  libswscale      5.  5.100 /  5.  5.100\n",
      "  libswresample   3.  5.100 /  3.  5.100\n",
      "  libpostproc    55.  5.100 / 55.  5.100\n",
      "Input #0, lavfi, from 'color=c=black:s=1280x720:r=30':\n",
      "  Duration: N/A, start: 0.000000, bitrate: N/A\n",
      "    Stream #0:0: Video: rawvideo (I420 / 0x30323449), yuv420p, 1280x720 [SAR 1:1 DAR 16:9], 30 tbr, 30 tbn, 30 tbc\n",
      "Input #1, mov,mp4,m4a,3gp,3g2,mj2, from '/home/ubuntu/open_whisper/data/audio/eh77AUKedyM/segments/00:00:01.501_00:00:30.071.m4a':\n",
      "  Metadata:\n",
      "    major_brand     : M4A \n",
      "    minor_version   : 512\n",
      "    compatible_brands: isomiso2\n",
      "    encoder         : Lavf58.29.100\n",
      "  Duration: 00:00:28.58, start: 0.008005, bitrate: 129 kb/s\n",
      "    Stream #1:0(eng): Audio: aac (LC) (mp4a / 0x6134706D), 44100 Hz, stereo, fltp, 127 kb/s (default)\n",
      "    Metadata:\n",
      "      handler_name    : ISO Media file produced by Google Inc.\n",
      "Stream mapping:\n",
      "  Stream #0:0 -> #0:0 (rawvideo (native) -> h264 (libx264))\n",
      "  Stream #1:0 -> #0:1 (aac (native) -> aac (native))\n",
      "Press [q] to stop, [?] for help\n",
      "[subtitles @ 0x5557cbce3ac0] Unable to parse option value \"00\" as image size\n",
      "    Last message repeated 1 times\n",
      "[subtitles @ 0x5557cbce3ac0] Error setting option original_size to value 00.\n",
      "[Parsed_subtitles_0 @ 0x5557cbce39c0] Error applying options to the filter.\n",
      "[AVFilterGraph @ 0x5557cbcdb480] Error initializing filter 'subtitles' with args '/home/ubuntu/open_whisper/data/transcripts/eh77AUKedyM/segments/00:00:01.501_00:00:30.071.vtt'\n",
      "Error reinitializing filters!\n",
      "Failed to inject frame into filter network: Invalid argument\n",
      "Error while processing the decoded data for stream #0:0\n",
      "Conversion failed!\n"
     ]
    },
    {
     "data": {
      "text/plain": [
       "CompletedProcess(args=['ffmpeg', '-f', 'lavfi', '-i', 'color=c=black:s=1280x720:r=30', '-i', '/home/ubuntu/open_whisper/data/audio/eh77AUKedyM/segments/00:00:01.501_00:00:30.071.m4a', '-vf', 'subtitles=/home/ubuntu/open_whisper/data/transcripts/eh77AUKedyM/segments/00:00:01.501_00:00:30.071.vtt', '-c:v', 'libx264', '-c:a', 'aac', '/home/ubuntu/open_whisper/data/sanity-check/output.mp4'], returncode=1)"
      ]
     },
     "execution_count": 25,
     "metadata": {},
     "output_type": "execute_result"
    }
   ],
   "source": [
    "command = [\n",
    "    \"ffmpeg\",\n",
    "    \"-f\",\n",
    "    \"lavfi\",\n",
    "    \"-i\",\n",
    "    \"color=c=black:s=1280x720:r=30\",\n",
    "    \"-i\",\n",
    "    f\"{audio_file}\",\n",
    "    \"-vf\",\n",
    "    f\"subtitles={transcript_file}\",\n",
    "    \"-c:v\",\n",
    "    \"libx264\",\n",
    "    \"-c:a\",\n",
    "    \"aac\",\n",
    "    \"/home/ubuntu/open_whisper/data/sanity-check/output.mp4\",\n",
    "]\n",
    "subprocess.run(command)"
   ]
  },
  {
   "cell_type": "markdown",
   "metadata": {},
   "source": [
    "### MoviePy - works! so slay"
   ]
  },
  {
   "cell_type": "code",
   "execution_count": 36,
   "metadata": {},
   "outputs": [],
   "source": [
    "transcript_file = \"/home/ubuntu/open_whisper/data/transcripts/eh77AUKedyM/segments/00:00:01.501_00:00:30.071.srt\"\n",
    "audio_file = \"/home/ubuntu/open_whisper/data/audio/eh77AUKedyM/segments/00:00:01.501_00:00:30.071.m4a\""
   ]
  },
  {
   "cell_type": "code",
   "execution_count": 37,
   "metadata": {},
   "outputs": [
    {
     "data": {
      "text/plain": [
       "28.58"
      ]
     },
     "execution_count": 37,
     "metadata": {},
     "output_type": "execute_result"
    }
   ],
   "source": [
    "audio_clip = AudioFileClip(audio_file)\n",
    "audio_clip.duration"
   ]
  },
  {
   "cell_type": "code",
   "execution_count": 38,
   "metadata": {},
   "outputs": [],
   "source": [
    "start_time = 0\n",
    "generator = lambda text: TextClip(text, font=\"Helvetica\", fontsize=24, color=\"white\")\n",
    "subtitles = SubtitlesClip(transcript_file, generator).set_position((\"center\", \"bottom\"))"
   ]
  },
  {
   "cell_type": "code",
   "execution_count": 39,
   "metadata": {},
   "outputs": [],
   "source": [
    "video = CompositeVideoClip([subtitles], size=(800, 420)).set_audio(audio_clip)"
   ]
  },
  {
   "cell_type": "code",
   "execution_count": 40,
   "metadata": {},
   "outputs": [
    {
     "name": "stdout",
     "output_type": "stream",
     "text": [
      "Moviepy - Building video /home/ubuntu/open_whisper/data/sanity-check/test.mp4.\n",
      "MoviePy - Writing audio in testTEMP_MPY_wvf_snd.mp3\n"
     ]
    },
    {
     "name": "stderr",
     "output_type": "stream",
     "text": [
      "                                                                    \r"
     ]
    },
    {
     "name": "stdout",
     "output_type": "stream",
     "text": [
      "MoviePy - Done.\n",
      "Moviepy - Writing video /home/ubuntu/open_whisper/data/sanity-check/test.mp4\n",
      "\n"
     ]
    },
    {
     "name": "stderr",
     "output_type": "stream",
     "text": [
      "                                                               "
     ]
    },
    {
     "name": "stdout",
     "output_type": "stream",
     "text": [
      "Moviepy - Done !\n",
      "Moviepy - video ready /home/ubuntu/open_whisper/data/sanity-check/test.mp4\n"
     ]
    },
    {
     "name": "stderr",
     "output_type": "stream",
     "text": [
      "\r"
     ]
    }
   ],
   "source": [
    "video.write_videofile(\"/home/ubuntu/open_whisper/data/sanity-check/test.mp4\", fps=24)"
   ]
  },
  {
   "cell_type": "code",
   "execution_count": 41,
   "metadata": {},
   "outputs": [
    {
     "data": {
      "text/html": [
       "<video src=\"/home/ubuntu/open_whisper/data/sanity-check/test.mp4\" controls  width=\"800\"  height=\"420\">\n",
       "      Your browser does not support the <code>video</code> element.\n",
       "    </video>"
      ],
      "text/plain": [
       "<IPython.core.display.Video object>"
      ]
     },
     "execution_count": 41,
     "metadata": {},
     "output_type": "execute_result"
    }
   ],
   "source": [
    "Video(\"/home/ubuntu/open_whisper/data/sanity-check/test.mp4\", width=800, height=420)"
   ]
  },
  {
   "cell_type": "code",
   "execution_count": null,
   "metadata": {},
   "outputs": [],
   "source": []
  }
 ],
 "metadata": {
  "kernelspec": {
   "display_name": "open_whisper",
   "language": "python",
   "name": "python3"
  },
  "language_info": {
   "codemirror_mode": {
    "name": "ipython",
    "version": 3
   },
   "file_extension": ".py",
   "mimetype": "text/x-python",
   "name": "python",
   "nbconvert_exporter": "python",
   "pygments_lexer": "ipython3",
   "version": "3.10.13"
  }
 },
 "nbformat": 4,
 "nbformat_minor": 2
}
