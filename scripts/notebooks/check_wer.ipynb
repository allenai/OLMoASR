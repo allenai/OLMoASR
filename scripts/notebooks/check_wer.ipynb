{
 "cells": [
  {
   "cell_type": "code",
   "execution_count": 16,
   "source": [
    "from open_whisper import utils\n",
    "import jiwer"
   ],
   "outputs": [],
   "metadata": {}
  },
  {
   "cell_type": "code",
   "execution_count": 17,
   "source": [
    "jiwer.wer(\n",
    "    \"thanks to blinkist for helping support this episode must animate more clones wait is this even going to work this episode was made possible by generous supporters on patreon hey crazies\",\n",
    "    \"thanks to blinkist for helping support this episode cl must animate and more close wait is this even going to work this episode was made possible by generous supporters on patreon hey crazies this 100 the a this it it theack n b ack it oughough it the it and w andw b the waud like b wa it it it like it and and the ch b ch it it b udoughough like b like ch ch it it it this ch b it that like this it it the the it and z the attention like subscribe 2 .\",\n",
    ")"
   ],
   "outputs": [
    {
     "output_type": "execute_result",
     "data": {
      "text/plain": [
       "2.2903225806451615"
      ]
     },
     "metadata": {},
     "execution_count": 17
    }
   ],
   "metadata": {}
  },
  {
   "cell_type": "code",
   "execution_count": 18,
   "source": [
    "jiwer.wer(\n",
    "    \"what can we do to help people start developing a sense of safety and empowerment well 1st let us start looking at the symptoms dizziness or nausea when remembering the trauma this happens when we are flooded with stress hormones that increase our blood sugar remarkably that increase our adrenaline levels you know we are flooded with all of these\",\n",
    "    \"what can we do to help people start developing a sense of safety and empowerment well 1st let us start looking at the dizziness or nausea when remembering the trauma this happens when we are flooded with stress hormones that increase our blood sugar remarkably that increase our adrenaline levels you know we are flooded with all of these uminglingatedling our\",\n",
    ")"
   ],
   "outputs": [
    {
     "output_type": "execute_result",
     "data": {
      "text/plain": [
       "0.05"
      ]
     },
     "metadata": {},
     "execution_count": 18
    }
   ],
   "metadata": {}
  },
  {
   "cell_type": "code",
   "execution_count": 19,
   "source": [
    "jiwer.wer(\n",
    "    \"but the 5s it is just in a different league gaming wise the 5s is no slouch so even with the newer titles such as asphalt xtreme not only are we getting a nice smooth frame rate but this still actually looks pretty decent although my driving skills are not so decent one thing i am really curious about is camera performance so when the 5s came out it had a great camera however the last few years have seen smartphone cameras especially on the budget end get so much better this is pretty close so i think the moto g has the big advantage in detail so those 13 megapixels actually do make a noticeable difference\",\n",
    "    \"but the 5s it is just inin a different league gaming wisewise the 5s is no slouch so even even with the newer titles such such as asphalt extreme en not only are we getting aa nice move frame rate but this still actually lookslooks pretty decent all my driving skillsskills are not so decent one thing i am really curious aboutabout is camera performance so when the 5s came out it had a great camera however the last few years have seemed smartphone cameras especially on the budget end gets so much better this is pretty close so i think the moto has the big advantage in detail so those 13 megapixels actually do make a noticeable difference of of of of of version x x x 13 x actually as card 2 x x x x of of of of 2 2 x different difference actually does noticeable 2 of of one of of of of 2 is pretty of is of of pretty of of of much is one the 2 2 2 2 2 of 2 2 2 2 2 is different 2 of difference of difference x x x is of of 2 of of difference of of of 2 of of is of of of of of 2 is of of of of of of of of of is of of of\",\n",
    ")"
   ],
   "outputs": [
    {
     "output_type": "execute_result",
     "data": {
      "text/plain": [
       "1.0598290598290598"
      ]
     },
     "metadata": {},
     "execution_count": 19
    }
   ],
   "metadata": {}
  },
  {
   "cell_type": "code",
   "execution_count": 20,
   "source": [
    "tgt_text = [\n",
    "    \"thanks to blinkist for helping support this episode must animate more clones wait is this even going to work this episode was made possible by generous supporters on patreon hey crazies\",\n",
    "    \"what can we do to help people start developing a sense of safety and empowerment well 1st let us start looking at the symptoms dizziness or nausea when remembering the trauma this happens when we are flooded with stress hormones that increase our blood sugar remarkably that increase our adrenaline levels you know we are flooded with all of these\",\n",
    "    \"but the 5s it is just in a different league gaming wise the 5s is no slouch so even with the newer titles such as asphalt xtreme not only are we getting a nice smooth frame rate but this still actually looks pretty decent although my driving skills are not so decent one thing i am really curious about is camera performance so when the 5s came out it had a great camera however the last few years have seen smartphone cameras especially on the budget end get so much better this is pretty close so i think the moto g has the big advantage in detail so those 13 megapixels actually do make a noticeable difference\",\n",
    "]"
   ],
   "outputs": [],
   "metadata": {}
  },
  {
   "cell_type": "code",
   "execution_count": 21,
   "source": [
    "pred_text = [\n",
    "    \"thanks to blinkist for helping support this episode cl must animate and more close wait is this even going to work this episode was made possible by generous supporters on patreon hey crazies this 100 the a this it it theack n b ack it oughough it the it and w andw b the waud like b wa it it it like it and and the ch b ch it it b udoughough like b like ch ch it it it this ch b it that like this it it the the it and z the attention like subscribe 2 .\",\n",
    "    \"what can we do to help people start developing a sense of safety and empowerment well 1st let us start looking at the dizziness or nausea when remembering the trauma this happens when we are flooded with stress hormones that increase our blood sugar remarkably that increase our adrenaline levels you know we are flooded with all of these uminglingatedling our\",\n",
    "    \"but the 5s it is just inin a different league gaming wisewise the 5s is no slouch so even even with the newer titles such such as asphalt extreme en not only are we getting aa nice move frame rate but this still actually lookslooks pretty decent all my driving skillsskills are not so decent one thing i am really curious aboutabout is camera performance so when the 5s came out it had a great camera however the last few years have seemed smartphone cameras especially on the budget end gets so much better this is pretty close so i think the moto has the big advantage in detail so those 13 megapixels actually do make a noticeable difference of of of of of version x x x 13 x actually as card 2 x x x x of of of of 2 2 x different difference actually does noticeable 2 of of one of of of of 2 is pretty of is of of pretty of of of much is one the 2 2 2 2 2 of 2 2 2 2 2 is different 2 of difference of difference x x x is of of 2 of of difference of of of 2 of of is of of of of of 2 is of of of of of of of of of is of of of\",\n",
    "]"
   ],
   "outputs": [],
   "metadata": {}
  },
  {
   "cell_type": "code",
   "execution_count": 22,
   "source": [
    "temp = list(zip(tgt_text, pred_text))\n",
    "temp"
   ],
   "outputs": [
    {
     "output_type": "execute_result",
     "data": {
      "text/plain": [
       "[('thanks to blinkist for helping support this episode must animate more clones wait is this even going to work this episode was made possible by generous supporters on patreon hey crazies',\n",
       "  'thanks to blinkist for helping support this episode cl must animate and more close wait is this even going to work this episode was made possible by generous supporters on patreon hey crazies this 100 the a this it it theack n b ack it oughough it the it and w andw b the waud like b wa it it it like it and and the ch b ch it it b udoughough like b like ch ch it it it this ch b it that like this it it the the it and z the attention like subscribe 2 .'),\n",
       " ('what can we do to help people start developing a sense of safety and empowerment well 1st let us start looking at the symptoms dizziness or nausea when remembering the trauma this happens when we are flooded with stress hormones that increase our blood sugar remarkably that increase our adrenaline levels you know we are flooded with all of these',\n",
       "  'what can we do to help people start developing a sense of safety and empowerment well 1st let us start looking at the dizziness or nausea when remembering the trauma this happens when we are flooded with stress hormones that increase our blood sugar remarkably that increase our adrenaline levels you know we are flooded with all of these uminglingatedling our'),\n",
       " ('but the 5s it is just in a different league gaming wise the 5s is no slouch so even with the newer titles such as asphalt xtreme not only are we getting a nice smooth frame rate but this still actually looks pretty decent although my driving skills are not so decent one thing i am really curious about is camera performance so when the 5s came out it had a great camera however the last few years have seen smartphone cameras especially on the budget end get so much better this is pretty close so i think the moto g has the big advantage in detail so those 13 megapixels actually do make a noticeable difference',\n",
       "  'but the 5s it is just inin a different league gaming wisewise the 5s is no slouch so even even with the newer titles such such as asphalt extreme en not only are we getting aa nice move frame rate but this still actually lookslooks pretty decent all my driving skillsskills are not so decent one thing i am really curious aboutabout is camera performance so when the 5s came out it had a great camera however the last few years have seemed smartphone cameras especially on the budget end gets so much better this is pretty close so i think the moto has the big advantage in detail so those 13 megapixels actually do make a noticeable difference of of of of of version x x x 13 x actually as card 2 x x x x of of of of 2 2 x different difference actually does noticeable 2 of of one of of of of 2 is pretty of is of of pretty of of of much is one the 2 2 2 2 2 of 2 2 2 2 2 is different 2 of difference of difference x x x is of of 2 of of difference of of of 2 of of is of of of of of 2 is of of of of of of of of of is of of of')]"
      ]
     },
     "metadata": {},
     "execution_count": 22
    }
   ],
   "metadata": {}
  },
  {
   "cell_type": "code",
   "execution_count": 23,
   "source": [
    "utils.average_wer(temp)"
   ],
   "outputs": [
    {
     "output_type": "execute_result",
     "data": {
      "text/plain": [
       "113.0"
      ]
     },
     "metadata": {},
     "execution_count": 23
    }
   ],
   "metadata": {}
  },
  {
   "cell_type": "code",
   "execution_count": 24,
   "source": [
    "((2.2903225806451615 + 1.0598290598290598 + 0.05) / 3) * 100"
   ],
   "outputs": [
    {
     "output_type": "execute_result",
     "data": {
      "text/plain": [
       "113.33838801580738"
      ]
     },
     "metadata": {},
     "execution_count": 24
    }
   ],
   "metadata": {}
  }
 ],
 "nbformat": 4,
 "nbformat_minor": 2,
 "metadata": {
  "language_info": {
   "codemirror_mode": {
    "name": "ipython",
    "version": 3
   },
   "file_extension": ".py",
   "mimetype": "text/x-python",
   "name": "python",
   "nbconvert_exporter": "python",
   "pygments_lexer": "ipython3",
   "version": 3
  }
 }
}