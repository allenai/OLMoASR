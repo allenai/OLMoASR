{
 "cells": [
  {
   "cell_type": "code",
   "execution_count": 1,
   "metadata": {},
   "outputs": [],
   "source": [
    "from whisper import whisper"
   ]
  },
  {
   "cell_type": "code",
   "execution_count": 2,
   "metadata": {},
   "outputs": [],
   "source": [
    "model = whisper.load_model(\n",
    "    \"checkpoints/archive/comic-cloud-73/tiny-en-non-ddp_250_tiny-en_ddp-train_grad-acc_fp16_subset=full_lr=0.0015_batch_size=8_workers=18_epochs=25_train_val_split=0.99.pt\"\n",
    ")"
   ]
  },
  {
   "cell_type": "code",
   "execution_count": 3,
   "metadata": {},
   "outputs": [],
   "source": [
    "audio = whisper.load_audio(\"data/eval/artie-bias-corpus/common_voice_en_250.mp3\")\n",
    "audio = whisper.pad_or_trim(audio)\n",
    "mel = whisper.log_mel_spectrogram(audio).to(model.device)"
   ]
  },
  {
   "cell_type": "code",
   "execution_count": 4,
   "metadata": {},
   "outputs": [],
   "source": [
    "options = whisper.DecodingOptions(language=\"en\", without_timestamps=True)"
   ]
  },
  {
   "cell_type": "code",
   "execution_count": 5,
   "metadata": {},
   "outputs": [
    {
     "data": {
      "text/plain": [
       "'it S third anrowghph\\n installingrib th siseignph\\nld08 do. cont optimAm\\nyslandic.ments go S third.\\nys go S up Mus.mentslandic.\\nyslandic.ments go S got.\\nys go S got.ments go S got.\\nys go S got.ments go S got.\\nys go S got.ments go S got.\\nys go S got.ments go S got.\\nys go S got.ments go S got.\\nys go S got.ments go S got.\\nys go S got.ments exp.\\nys go S got.ments go S got.\\nys exp.ments go S got.\\nys exp.ments exp.\\nys exp.ments exp.\\nys exp.ments exp.\\nys exp.ments exp.ments exp.\\nys exp.ments exp.\\nys exp.ments exp.\\nys exp.ments exp.ments exp.ments exp.\\nys exp...xgh S a faceing en. exp'"
      ]
     },
     "execution_count": 5,
     "metadata": {},
     "output_type": "execute_result"
    }
   ],
   "source": [
    "result = whisper.decode(model, mel, options)\n",
    "result.text"
   ]
  },
  {
   "cell_type": "code",
   "execution_count": 6,
   "metadata": {},
   "outputs": [
    {
     "name": "stdout",
     "output_type": "stream",
     "text": [
      "it S third anrowghph\n",
      " installingrib th siseignph\n",
      "ld08 do. cont optimAm\n",
      "yslandic.ments go S third.\n",
      "ys go S up Mus.mentslandic.\n",
      "yslandic.ments go S got.\n",
      "ys go S got.ments go S got.\n",
      "ys go S got.ments go S got.\n",
      "ys go S got.ments go S got.\n",
      "ys go S got.ments go S got.\n",
      "ys go S got.ments go S got.\n",
      "ys go S got.ments go S got.\n",
      "ys go S got.ments exp.\n",
      "ys go S got.ments go S got.\n",
      "ys exp.ments go S got.\n",
      "ys exp.ments exp.\n",
      "ys exp.ments exp.\n",
      "ys exp.ments exp.\n",
      "ys exp.ments exp.ments exp.\n",
      "ys exp.ments exp.\n",
      "ys exp.ments exp.\n",
      "ys exp.ments exp.ments exp.ments exp.\n",
      "ys exp...xgh S a faceing en. exp\n"
     ]
    }
   ],
   "source": [
    "print(result.text)"
   ]
  },
  {
   "cell_type": "code",
   "execution_count": null,
   "metadata": {},
   "outputs": [],
   "source": []
  }
 ],
 "metadata": {
  "language_info": {
   "codemirror_mode": {
    "name": "ipython",
    "version": 3
   },
   "file_extension": ".py",
   "mimetype": "text/x-python",
   "name": "python",
   "nbconvert_exporter": "python",
   "pygments_lexer": "ipython3",
   "version": 3
  }
 },
 "nbformat": 4,
 "nbformat_minor": 2
}
