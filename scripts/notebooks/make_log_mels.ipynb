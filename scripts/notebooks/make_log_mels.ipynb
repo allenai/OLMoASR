{
 "cells": [
  {
   "cell_type": "code",
   "execution_count": 12,
   "source": [
    "from open_whisper import audio\n",
    "import multiprocessing\n",
    "from tqdm import tqdm\n",
    "import os\n",
    "import numpy"
   ],
   "outputs": [],
   "metadata": {}
  },
  {
   "cell_type": "code",
   "execution_count": 13,
   "source": [
    "audio_files = []\n",
    "for root, dirs, files in os.walk(\"data/audio\"):\n",
    "    if \"segments\" in root:\n",
    "        audio_files.extend([os.path.join(root, f) for f in os.listdir(root)])"
   ],
   "outputs": [],
   "metadata": {}
  },
  {
   "cell_type": "code",
   "execution_count": 14,
   "source": [
    "len(audio_files)"
   ],
   "outputs": [
    {
     "output_type": "execute_result",
     "data": {
      "text/plain": [
       "619382"
      ]
     },
     "metadata": {},
     "execution_count": 14
    }
   ],
   "metadata": {}
  },
  {
   "cell_type": "code",
   "execution_count": 15,
   "source": [
    "audio_files[:10]"
   ],
   "outputs": [
    {
     "output_type": "execute_result",
     "data": {
      "text/plain": [
       "['data/audio/-Spgba1gDg4/segments/00:01:48.060_00:01:53.910.m4a',\n",
       " 'data/audio/-Spgba1gDg4/segments/00:00:06.220_00:00:29.750.m4a',\n",
       " 'data/audio/-Spgba1gDg4/segments/00:01:19.330_00:01:48.060.m4a',\n",
       " 'data/audio/-Spgba1gDg4/segments/00:00:59.750_00:01:19.330.m4a',\n",
       " 'data/audio/-Spgba1gDg4/segments/00:00:29.750_00:00:59.750.m4a',\n",
       " 'data/audio/9OYNyr8enD4/segments/00:04:05.250_00:04:18.950.m4a',\n",
       " 'data/audio/9OYNyr8enD4/segments/00:00:09.050_00:00:38.640.m4a',\n",
       " 'data/audio/9OYNyr8enD4/segments/00:01:01.739_00:01:29.880.m4a',\n",
       " 'data/audio/9OYNyr8enD4/segments/00:03:13.140_00:03:42.239.m4a',\n",
       " 'data/audio/9OYNyr8enD4/segments/00:02:53.730_00:03:17.190.m4a']"
      ]
     },
     "metadata": {},
     "execution_count": 15
    }
   ],
   "metadata": {}
  },
  {
   "cell_type": "code",
   "execution_count": 16,
   "source": [
    "def get_mel(audio_file):\n",
    "    audio_arr = audio.load_audio(audio_file, sr=16000)\n",
    "    audio_arr = audio.pad_or_trim(audio_arr)\n",
    "    mel_spec = audio.log_mel_spectrogram(audio_arr)\n",
    "    return mel_spec"
   ],
   "outputs": [],
   "metadata": {}
  },
  {
   "cell_type": "code",
   "execution_count": 17,
   "source": [
    "mel_spec = get_mel(audio_files[0])\n",
    "mel_spec"
   ],
   "outputs": [
    {
     "output_type": "execute_result",
     "data": {
      "text/plain": [
       "tensor([[ 0.1160,  0.1530,  0.4855,  ..., -0.9567, -0.9567, -0.9567],\n",
       "        [ 0.6158,  0.7153,  0.5615,  ..., -0.9567, -0.9567, -0.9567],\n",
       "        [ 0.4551,  0.8930,  0.9121,  ..., -0.9567, -0.9567, -0.9567],\n",
       "        ...,\n",
       "        [-0.9567, -0.6724, -0.5740,  ..., -0.9567, -0.9567, -0.9567],\n",
       "        [-0.9451, -0.6921, -0.6158,  ..., -0.9567, -0.9567, -0.9567],\n",
       "        [-0.9567, -0.8314, -0.6260,  ..., -0.9567, -0.9567, -0.9567]])"
      ]
     },
     "metadata": {},
     "execution_count": 17
    }
   ],
   "metadata": {}
  },
  {
   "cell_type": "code",
   "execution_count": 20,
   "source": [
    "mel_arr = mel_spec.numpy()\n",
    "numpy.save(\"data/mel_spec.npy\", mel_arr)"
   ],
   "outputs": [],
   "metadata": {}
  },
  {
   "cell_type": "code",
   "execution_count": 21,
   "source": [
    "def get_mel(audio_file):\n",
    "    audio_arr = audio.load_audio(audio_file, sr=16000)\n",
    "    audio_arr = audio.pad_or_trim(audio_arr)\n",
    "    mel_spec = audio.log_mel_spectrogram(audio_arr)\n",
    "    return (audio_file, mel_spec)"
   ],
   "outputs": [],
   "metadata": {}
  },
  {
   "cell_type": "code",
   "execution_count": 24,
   "source": [
    "with multiprocessing.Pool() as pool:\n",
    "    file_mel = list(\n",
    "        tqdm(\n",
    "            pool.imap_unordered(get_mel, audio_files[:10]), total=len(audio_files[:10])\n",
    "        )\n",
    "    )"
   ],
   "outputs": [
    {
     "output_type": "stream",
     "name": "stderr",
     "text": [
      "  0%|          | 0/10 [01:08<?, ?it/s]\n"
     ]
    },
    {
     "output_type": "error",
     "ename": "KeyboardInterrupt",
     "evalue": "",
     "traceback": [
      "\u001b[0;31m---------------------------------------------------------------------------\u001b[0m",
      "\u001b[0;31mIndexError\u001b[0m                                Traceback (most recent call last)",
      "File \u001b[0;32m~/anaconda3/envs/open_whisper/lib/python3.10/multiprocessing/pool.py:856\u001b[0m, in \u001b[0;36mIMapIterator.next\u001b[0;34m(self, timeout)\u001b[0m\n\u001b[1;32m    855\u001b[0m \u001b[39mtry\u001b[39;00m:\n\u001b[0;32m--> 856\u001b[0m     item \u001b[39m=\u001b[39m \u001b[39mself\u001b[39;49m\u001b[39m.\u001b[39;49m_items\u001b[39m.\u001b[39;49mpopleft()\n\u001b[1;32m    857\u001b[0m \u001b[39mexcept\u001b[39;00m \u001b[39mIndexError\u001b[39;00m:\n",
      "\u001b[0;31mIndexError\u001b[0m: pop from an empty deque",
      "\nDuring handling of the above exception, another exception occurred:\n",
      "\u001b[0;31mKeyboardInterrupt\u001b[0m                         Traceback (most recent call last)",
      "Cell \u001b[0;32mIn[24], line 2\u001b[0m\n\u001b[1;32m      1\u001b[0m \u001b[39mwith\u001b[39;00m multiprocessing\u001b[39m.\u001b[39mPool() \u001b[39mas\u001b[39;00m pool:\n\u001b[0;32m----> 2\u001b[0m     file_mel \u001b[39m=\u001b[39m \u001b[39mlist\u001b[39;49m(\n\u001b[1;32m      3\u001b[0m         tqdm(\n\u001b[1;32m      4\u001b[0m             pool\u001b[39m.\u001b[39;49mimap_unordered(get_mel, audio_files[:\u001b[39m10\u001b[39;49m]), total\u001b[39m=\u001b[39;49m\u001b[39mlen\u001b[39;49m(audio_files[:\u001b[39m10\u001b[39;49m])\n\u001b[1;32m      5\u001b[0m         )\n\u001b[1;32m      6\u001b[0m     )\n",
      "File \u001b[0;32m~/anaconda3/envs/open_whisper/lib/python3.10/site-packages/tqdm/std.py:1182\u001b[0m, in \u001b[0;36mtqdm.__iter__\u001b[0;34m(self)\u001b[0m\n\u001b[1;32m   1179\u001b[0m time \u001b[39m=\u001b[39m \u001b[39mself\u001b[39m\u001b[39m.\u001b[39m_time\n\u001b[1;32m   1181\u001b[0m \u001b[39mtry\u001b[39;00m:\n\u001b[0;32m-> 1182\u001b[0m     \u001b[39mfor\u001b[39;00m obj \u001b[39min\u001b[39;00m iterable:\n\u001b[1;32m   1183\u001b[0m         \u001b[39myield\u001b[39;00m obj\n\u001b[1;32m   1184\u001b[0m         \u001b[39m# Update and possibly print the progressbar.\u001b[39;00m\n\u001b[1;32m   1185\u001b[0m         \u001b[39m# Note: does not call self.update(1) for speed optimisation.\u001b[39;00m\n",
      "File \u001b[0;32m~/anaconda3/envs/open_whisper/lib/python3.10/multiprocessing/pool.py:861\u001b[0m, in \u001b[0;36mIMapIterator.next\u001b[0;34m(self, timeout)\u001b[0m\n\u001b[1;32m    859\u001b[0m     \u001b[39mself\u001b[39m\u001b[39m.\u001b[39m_pool \u001b[39m=\u001b[39m \u001b[39mNone\u001b[39;00m\n\u001b[1;32m    860\u001b[0m     \u001b[39mraise\u001b[39;00m \u001b[39mStopIteration\u001b[39;00m \u001b[39mfrom\u001b[39;00m \u001b[39mNone\u001b[39;00m\n\u001b[0;32m--> 861\u001b[0m \u001b[39mself\u001b[39;49m\u001b[39m.\u001b[39;49m_cond\u001b[39m.\u001b[39;49mwait(timeout)\n\u001b[1;32m    862\u001b[0m \u001b[39mtry\u001b[39;00m:\n\u001b[1;32m    863\u001b[0m     item \u001b[39m=\u001b[39m \u001b[39mself\u001b[39m\u001b[39m.\u001b[39m_items\u001b[39m.\u001b[39mpopleft()\n",
      "File \u001b[0;32m~/anaconda3/envs/open_whisper/lib/python3.10/threading.py:320\u001b[0m, in \u001b[0;36mCondition.wait\u001b[0;34m(self, timeout)\u001b[0m\n\u001b[1;32m    318\u001b[0m \u001b[39mtry\u001b[39;00m:    \u001b[39m# restore state no matter what (e.g., KeyboardInterrupt)\u001b[39;00m\n\u001b[1;32m    319\u001b[0m     \u001b[39mif\u001b[39;00m timeout \u001b[39mis\u001b[39;00m \u001b[39mNone\u001b[39;00m:\n\u001b[0;32m--> 320\u001b[0m         waiter\u001b[39m.\u001b[39;49macquire()\n\u001b[1;32m    321\u001b[0m         gotit \u001b[39m=\u001b[39m \u001b[39mTrue\u001b[39;00m\n\u001b[1;32m    322\u001b[0m     \u001b[39melse\u001b[39;00m:\n",
      "\u001b[0;31mKeyboardInterrupt\u001b[0m: "
     ]
    }
   ],
   "metadata": {}
  },
  {
   "cell_type": "code",
   "execution_count": 25,
   "source": [
    "def get_mel(audio_file):\n",
    "    audio_arr = audio.load_audio(audio_file, sr=16000)\n",
    "    audio_arr = audio.pad_or_trim(audio_arr)\n",
    "    mel_spec = audio.log_mel_spectrogram(audio_arr)\n",
    "    return mel_spec"
   ],
   "outputs": [],
   "metadata": {}
  },
  {
   "cell_type": "code",
   "execution_count": 26,
   "source": [
    "with multiprocessing.Pool() as pool:\n",
    "    file_mel = list(\n",
    "        tqdm(\n",
    "            pool.imap_unordered(get_mel, audio_files[:10]), total=len(audio_files[:10])\n",
    "        )\n",
    "    )"
   ],
   "outputs": [
    {
     "output_type": "stream",
     "name": "stderr",
     "text": [
      "  0%|          | 0/10 [00:14<?, ?it/s]\n"
     ]
    },
    {
     "output_type": "error",
     "ename": "KeyboardInterrupt",
     "evalue": "",
     "traceback": [
      "\u001b[0;31m---------------------------------------------------------------------------\u001b[0m",
      "\u001b[0;31mIndexError\u001b[0m                                Traceback (most recent call last)",
      "File \u001b[0;32m~/anaconda3/envs/open_whisper/lib/python3.10/multiprocessing/pool.py:856\u001b[0m, in \u001b[0;36mIMapIterator.next\u001b[0;34m(self, timeout)\u001b[0m\n\u001b[1;32m    855\u001b[0m \u001b[39mtry\u001b[39;00m:\n\u001b[0;32m--> 856\u001b[0m     item \u001b[39m=\u001b[39m \u001b[39mself\u001b[39;49m\u001b[39m.\u001b[39;49m_items\u001b[39m.\u001b[39;49mpopleft()\n\u001b[1;32m    857\u001b[0m \u001b[39mexcept\u001b[39;00m \u001b[39mIndexError\u001b[39;00m:\n",
      "\u001b[0;31mIndexError\u001b[0m: pop from an empty deque",
      "\nDuring handling of the above exception, another exception occurred:\n",
      "\u001b[0;31mKeyboardInterrupt\u001b[0m                         Traceback (most recent call last)",
      "Cell \u001b[0;32mIn[26], line 2\u001b[0m\n\u001b[1;32m      1\u001b[0m \u001b[39mwith\u001b[39;00m multiprocessing\u001b[39m.\u001b[39mPool() \u001b[39mas\u001b[39;00m pool:\n\u001b[0;32m----> 2\u001b[0m     file_mel \u001b[39m=\u001b[39m \u001b[39mlist\u001b[39;49m(\n\u001b[1;32m      3\u001b[0m         tqdm(\n\u001b[1;32m      4\u001b[0m             pool\u001b[39m.\u001b[39;49mimap_unordered(get_mel, audio_files[:\u001b[39m10\u001b[39;49m]), total\u001b[39m=\u001b[39;49m\u001b[39mlen\u001b[39;49m(audio_files[:\u001b[39m10\u001b[39;49m])\n\u001b[1;32m      5\u001b[0m         )\n\u001b[1;32m      6\u001b[0m     )\n",
      "File \u001b[0;32m~/anaconda3/envs/open_whisper/lib/python3.10/site-packages/tqdm/std.py:1182\u001b[0m, in \u001b[0;36mtqdm.__iter__\u001b[0;34m(self)\u001b[0m\n\u001b[1;32m   1179\u001b[0m time \u001b[39m=\u001b[39m \u001b[39mself\u001b[39m\u001b[39m.\u001b[39m_time\n\u001b[1;32m   1181\u001b[0m \u001b[39mtry\u001b[39;00m:\n\u001b[0;32m-> 1182\u001b[0m     \u001b[39mfor\u001b[39;00m obj \u001b[39min\u001b[39;00m iterable:\n\u001b[1;32m   1183\u001b[0m         \u001b[39myield\u001b[39;00m obj\n\u001b[1;32m   1184\u001b[0m         \u001b[39m# Update and possibly print the progressbar.\u001b[39;00m\n\u001b[1;32m   1185\u001b[0m         \u001b[39m# Note: does not call self.update(1) for speed optimisation.\u001b[39;00m\n",
      "File \u001b[0;32m~/anaconda3/envs/open_whisper/lib/python3.10/multiprocessing/pool.py:861\u001b[0m, in \u001b[0;36mIMapIterator.next\u001b[0;34m(self, timeout)\u001b[0m\n\u001b[1;32m    859\u001b[0m     \u001b[39mself\u001b[39m\u001b[39m.\u001b[39m_pool \u001b[39m=\u001b[39m \u001b[39mNone\u001b[39;00m\n\u001b[1;32m    860\u001b[0m     \u001b[39mraise\u001b[39;00m \u001b[39mStopIteration\u001b[39;00m \u001b[39mfrom\u001b[39;00m \u001b[39mNone\u001b[39;00m\n\u001b[0;32m--> 861\u001b[0m \u001b[39mself\u001b[39;49m\u001b[39m.\u001b[39;49m_cond\u001b[39m.\u001b[39;49mwait(timeout)\n\u001b[1;32m    862\u001b[0m \u001b[39mtry\u001b[39;00m:\n\u001b[1;32m    863\u001b[0m     item \u001b[39m=\u001b[39m \u001b[39mself\u001b[39m\u001b[39m.\u001b[39m_items\u001b[39m.\u001b[39mpopleft()\n",
      "File \u001b[0;32m~/anaconda3/envs/open_whisper/lib/python3.10/threading.py:320\u001b[0m, in \u001b[0;36mCondition.wait\u001b[0;34m(self, timeout)\u001b[0m\n\u001b[1;32m    318\u001b[0m \u001b[39mtry\u001b[39;00m:    \u001b[39m# restore state no matter what (e.g., KeyboardInterrupt)\u001b[39;00m\n\u001b[1;32m    319\u001b[0m     \u001b[39mif\u001b[39;00m timeout \u001b[39mis\u001b[39;00m \u001b[39mNone\u001b[39;00m:\n\u001b[0;32m--> 320\u001b[0m         waiter\u001b[39m.\u001b[39;49macquire()\n\u001b[1;32m    321\u001b[0m         gotit \u001b[39m=\u001b[39m \u001b[39mTrue\u001b[39;00m\n\u001b[1;32m    322\u001b[0m     \u001b[39melse\u001b[39;00m:\n",
      "\u001b[0;31mKeyboardInterrupt\u001b[0m: "
     ]
    }
   ],
   "metadata": {}
  },
  {
   "cell_type": "code",
   "execution_count": 27,
   "source": [
    "def get_mel(audio_file):\n",
    "    audio_arr = audio.load_audio(audio_file, sr=16000)\n",
    "    audio_arr = audio.pad_or_trim(audio_arr)\n",
    "    return audio_arr"
   ],
   "outputs": [],
   "metadata": {}
  },
  {
   "cell_type": "code",
   "execution_count": 28,
   "source": [
    "with multiprocessing.Pool() as pool:\n",
    "    file_mel = list(\n",
    "        tqdm(\n",
    "            pool.imap_unordered(get_mel, audio_files[:10]), total=len(audio_files[:10])\n",
    "        )\n",
    "    )"
   ],
   "outputs": [
    {
     "output_type": "stream",
     "name": "stderr",
     "text": [
      "100%|██████████| 10/10 [00:00<00:00, 63.60it/s]\n"
     ]
    }
   ],
   "metadata": {}
  },
  {
   "cell_type": "code",
   "execution_count": 30,
   "source": [
    "import torch\n",
    "\n",
    "DEVICE = torch.device(\"cuda:0\")"
   ],
   "outputs": [],
   "metadata": {}
  },
  {
   "cell_type": "code",
   "execution_count": 31,
   "source": [
    "def get_mel(audio_file):\n",
    "    audio_arr = audio.load_audio(audio_file, sr=16000)\n",
    "    audio_arr = audio.pad_or_trim(audio_arr)\n",
    "    mel_spec = audio.log_mel_spectrogram(audio_arr, device=DEVICE)\n",
    "    return (audio_file, mel_spec)"
   ],
   "outputs": [],
   "metadata": {}
  },
  {
   "cell_type": "code",
   "execution_count": 32,
   "source": [
    "with multiprocessing.Pool() as pool:\n",
    "    file_mel = list(\n",
    "        tqdm(\n",
    "            pool.imap_unordered(get_mel, audio_files[:10]), total=len(audio_files[:10])\n",
    "        )\n",
    "    )"
   ],
   "outputs": [
    {
     "output_type": "stream",
     "name": "stderr",
     "text": [
      "100%|██████████| 10/10 [00:01<00:00,  6.50it/s]\n"
     ]
    }
   ],
   "metadata": {}
  },
  {
   "cell_type": "code",
   "execution_count": 36,
   "source": [
    "file_mel"
   ],
   "outputs": [
    {
     "output_type": "execute_result",
     "data": {
      "text/plain": [
       "[('data/audio/9OYNyr8enD4/segments/00:00:09.050_00:00:38.640.m4a',\n",
       "  tensor([[-0.4770, -0.4770, -0.4770,  ..., -0.4770, -0.4770, -0.4770],\n",
       "          [-0.4770, -0.4770, -0.4770,  ..., -0.4770, -0.4770, -0.4770],\n",
       "          [-0.4770, -0.4770, -0.4770,  ..., -0.4770, -0.4770, -0.4770],\n",
       "          ...,\n",
       "          [-0.4770, -0.4770, -0.4770,  ..., -0.4770, -0.4770, -0.4770],\n",
       "          [-0.4770, -0.4770, -0.4770,  ..., -0.4770, -0.4770, -0.4770],\n",
       "          [-0.4770, -0.4770, -0.4770,  ..., -0.4770, -0.4770, -0.4770]],\n",
       "         device='cuda:0')),\n",
       " ('data/audio/9OYNyr8enD4/segments/00:04:05.250_00:04:18.950.m4a',\n",
       "  tensor([[ 0.3252,  0.2922,  0.2629,  ..., -0.5691, -0.5691, -0.5691],\n",
       "          [ 0.5234,  0.7157,  0.7435,  ..., -0.5691, -0.5691, -0.5691],\n",
       "          [ 0.6741,  0.7174,  0.9868,  ..., -0.5691, -0.5691, -0.5691],\n",
       "          ...,\n",
       "          [-0.2623, -0.0566,  0.0435,  ..., -0.5691, -0.5691, -0.5691],\n",
       "          [-0.3610, -0.1951, -0.0284,  ..., -0.5691, -0.5691, -0.5691],\n",
       "          [-0.5691, -0.4011, -0.3263,  ..., -0.5691, -0.5691, -0.5691]],\n",
       "         device='cuda:0')),\n",
       " ('data/audio/9OYNyr8enD4/segments/00:02:53.730_00:03:17.190.m4a',\n",
       "  tensor([[ 0.1043, -0.2558,  0.2228,  ..., -0.5524, -0.5524, -0.5524],\n",
       "          [-0.1691,  0.1579,  0.4075,  ..., -0.5524, -0.5524, -0.5524],\n",
       "          [ 0.4308,  0.4335,  0.6044,  ..., -0.5524, -0.5524, -0.5524],\n",
       "          ...,\n",
       "          [ 0.1697,  0.4623,  0.5141,  ..., -0.5524, -0.5524, -0.5524],\n",
       "          [ 0.1878,  0.3472,  0.5212,  ..., -0.5524, -0.5524, -0.5524],\n",
       "          [-0.0526,  0.0955,  0.2778,  ..., -0.5524, -0.5524, -0.5524]],\n",
       "         device='cuda:0')),\n",
       " ('data/audio/-Spgba1gDg4/segments/00:00:29.750_00:00:59.750.m4a',\n",
       "  tensor([[ 0.2983,  0.4497,  0.6273,  ...,  0.4281,  0.4131,  0.4123],\n",
       "          [ 0.4981,  0.2233,  0.3991,  ...,  0.6186,  0.5787,  0.5754],\n",
       "          [ 0.5036,  0.7576,  0.8500,  ...,  0.8169,  0.7897,  0.7851],\n",
       "          ...,\n",
       "          [-0.6536, -0.5565, -0.3433,  ..., -0.2173, -0.2583, -0.2742],\n",
       "          [-0.7463, -0.4290, -0.3563,  ..., -0.2687, -0.2326, -0.2319],\n",
       "          [-0.7573, -0.4817, -0.4467,  ..., -0.3518, -0.3334, -0.2824]],\n",
       "         device='cuda:0')),\n",
       " ('data/audio/-Spgba1gDg4/segments/00:01:19.330_00:01:48.060.m4a',\n",
       "  tensor([[ 0.1593,  0.4085,  0.4013,  ..., -0.8631, -0.8631, -0.8631],\n",
       "          [-0.0167,  0.5129,  0.5035,  ..., -0.8631, -0.8631, -0.8631],\n",
       "          [ 0.2608,  0.4533,  0.3627,  ..., -0.8631, -0.8631, -0.8631],\n",
       "          ...,\n",
       "          [-0.8596, -0.6130, -0.5198,  ..., -0.8631, -0.8631, -0.8631],\n",
       "          [-0.8136, -0.6120, -0.5520,  ..., -0.8631, -0.8631, -0.8631],\n",
       "          [-0.8631, -0.7739, -0.7179,  ..., -0.8631, -0.8631, -0.8631]],\n",
       "         device='cuda:0')),\n",
       " ('data/audio/-Spgba1gDg4/segments/00:00:06.220_00:00:29.750.m4a',\n",
       "  tensor([[-0.0963, -0.2407, -0.0760,  ..., -0.9372, -0.9372, -0.9372],\n",
       "          [ 0.1569,  0.1667,  0.3168,  ..., -0.9372, -0.9372, -0.9372],\n",
       "          [ 0.1580,  0.4825,  0.4720,  ..., -0.9372, -0.9372, -0.9372],\n",
       "          ...,\n",
       "          [-0.9004, -0.5051, -0.6239,  ..., -0.9372, -0.9372, -0.9372],\n",
       "          [-0.8735, -0.6410, -0.5914,  ..., -0.9372, -0.9372, -0.9372],\n",
       "          [-0.9220, -0.5521, -0.6444,  ..., -0.9372, -0.9372, -0.9372]],\n",
       "         device='cuda:0')),\n",
       " ('data/audio/-Spgba1gDg4/segments/00:01:48.060_00:01:53.910.m4a',\n",
       "  tensor([[ 0.1160,  0.1530,  0.4855,  ..., -0.9567, -0.9567, -0.9567],\n",
       "          [ 0.6158,  0.7153,  0.5615,  ..., -0.9567, -0.9567, -0.9567],\n",
       "          [ 0.4551,  0.8930,  0.9121,  ..., -0.9567, -0.9567, -0.9567],\n",
       "          ...,\n",
       "          [-0.9567, -0.6724, -0.5740,  ..., -0.9567, -0.9567, -0.9567],\n",
       "          [-0.9451, -0.6921, -0.6158,  ..., -0.9567, -0.9567, -0.9567],\n",
       "          [-0.9567, -0.8314, -0.6260,  ..., -0.9567, -0.9567, -0.9567]],\n",
       "         device='cuda:0')),\n",
       " ('data/audio/9OYNyr8enD4/segments/00:03:13.140_00:03:42.239.m4a',\n",
       "  tensor([[ 0.2927,  0.3983,  0.4614,  ..., -0.5916, -0.5916, -0.5916],\n",
       "          [ 0.3838,  0.3450,  0.7199,  ..., -0.5916, -0.5916, -0.5916],\n",
       "          [ 0.3325,  0.5143,  0.7727,  ..., -0.5916, -0.5916, -0.5916],\n",
       "          ...,\n",
       "          [-0.5916, -0.5916, -0.5916,  ..., -0.5916, -0.5916, -0.5916],\n",
       "          [-0.5916, -0.5916, -0.5916,  ..., -0.5916, -0.5916, -0.5916],\n",
       "          [-0.5916, -0.5916, -0.5916,  ..., -0.5916, -0.5916, -0.5916]],\n",
       "         device='cuda:0')),\n",
       " ('data/audio/9OYNyr8enD4/segments/00:01:01.739_00:01:29.880.m4a',\n",
       "  tensor([[ 0.2699,  0.2842,  0.3920,  ..., -0.4460, -0.4460, -0.4460],\n",
       "          [ 0.7331,  0.8330,  0.7542,  ..., -0.4460, -0.4460, -0.4460],\n",
       "          [ 0.5546,  1.0196,  1.0737,  ..., -0.4460, -0.4460, -0.4460],\n",
       "          ...,\n",
       "          [-0.4407, -0.3266, -0.1622,  ..., -0.4460, -0.4460, -0.4460],\n",
       "          [-0.3333, -0.2654, -0.0176,  ..., -0.4460, -0.4460, -0.4460],\n",
       "          [-0.4460, -0.2661, -0.1469,  ..., -0.4460, -0.4460, -0.4460]],\n",
       "         device='cuda:0')),\n",
       " ('data/audio/-Spgba1gDg4/segments/00:00:59.750_00:01:19.330.m4a',\n",
       "  tensor([[ 0.2354,  0.2031,  0.3321,  ..., -0.9657, -0.9657, -0.9657],\n",
       "          [ 0.0111,  0.3962,  0.6137,  ..., -0.9657, -0.9657, -0.9657],\n",
       "          [ 0.3549,  0.2089,  0.7662,  ..., -0.9657, -0.9657, -0.9657],\n",
       "          ...,\n",
       "          [-0.6105, -0.4503, -0.2107,  ..., -0.9657, -0.9657, -0.9657],\n",
       "          [-0.6371, -0.4329, -0.2590,  ..., -0.9657, -0.9657, -0.9657],\n",
       "          [-0.6923, -0.3003, -0.3502,  ..., -0.9657, -0.9657, -0.9657]],\n",
       "         device='cuda:0'))]"
      ]
     },
     "metadata": {},
     "execution_count": 36
    }
   ],
   "metadata": {}
  },
  {
   "cell_type": "code",
   "execution_count": 34,
   "source": [
    "def get_mel(audio_file):\n",
    "    audio_arr = audio.load_audio(audio_file, sr=16000)\n",
    "    audio_arr = audio.pad_or_trim(audio_arr)\n",
    "    mel_spec = audio.log_mel_spectrogram(audio_arr, device=torch.device(\"cpu\"))\n",
    "    return (audio_file, mel_spec)"
   ],
   "outputs": [],
   "metadata": {}
  },
  {
   "cell_type": "code",
   "execution_count": 35,
   "source": [
    "with multiprocessing.Pool() as pool:\n",
    "    file_mel = list(\n",
    "        tqdm(\n",
    "            pool.imap_unordered(get_mel, audio_files[:10]), total=len(audio_files[:10])\n",
    "        )\n",
    "    )"
   ],
   "outputs": [
    {
     "output_type": "stream",
     "name": "stderr",
     "text": [
      "  0%|          | 0/10 [00:05<?, ?it/s]\n"
     ]
    },
    {
     "output_type": "error",
     "ename": "KeyboardInterrupt",
     "evalue": "",
     "traceback": [
      "\u001b[0;31m---------------------------------------------------------------------------\u001b[0m",
      "\u001b[0;31mIndexError\u001b[0m                                Traceback (most recent call last)",
      "File \u001b[0;32m~/anaconda3/envs/open_whisper/lib/python3.10/multiprocessing/pool.py:856\u001b[0m, in \u001b[0;36mIMapIterator.next\u001b[0;34m(self, timeout)\u001b[0m\n\u001b[1;32m    855\u001b[0m \u001b[39mtry\u001b[39;00m:\n\u001b[0;32m--> 856\u001b[0m     item \u001b[39m=\u001b[39m \u001b[39mself\u001b[39;49m\u001b[39m.\u001b[39;49m_items\u001b[39m.\u001b[39;49mpopleft()\n\u001b[1;32m    857\u001b[0m \u001b[39mexcept\u001b[39;00m \u001b[39mIndexError\u001b[39;00m:\n",
      "\u001b[0;31mIndexError\u001b[0m: pop from an empty deque",
      "\nDuring handling of the above exception, another exception occurred:\n",
      "\u001b[0;31mKeyboardInterrupt\u001b[0m                         Traceback (most recent call last)",
      "Cell \u001b[0;32mIn[35], line 2\u001b[0m\n\u001b[1;32m      1\u001b[0m \u001b[39mwith\u001b[39;00m multiprocessing\u001b[39m.\u001b[39mPool() \u001b[39mas\u001b[39;00m pool:\n\u001b[0;32m----> 2\u001b[0m     file_mel \u001b[39m=\u001b[39m \u001b[39mlist\u001b[39;49m(\n\u001b[1;32m      3\u001b[0m         tqdm(\n\u001b[1;32m      4\u001b[0m             pool\u001b[39m.\u001b[39;49mimap_unordered(get_mel, audio_files[:\u001b[39m10\u001b[39;49m]), total\u001b[39m=\u001b[39;49m\u001b[39mlen\u001b[39;49m(audio_files[:\u001b[39m10\u001b[39;49m])\n\u001b[1;32m      5\u001b[0m         )\n\u001b[1;32m      6\u001b[0m     )\n",
      "File \u001b[0;32m~/anaconda3/envs/open_whisper/lib/python3.10/site-packages/tqdm/std.py:1182\u001b[0m, in \u001b[0;36mtqdm.__iter__\u001b[0;34m(self)\u001b[0m\n\u001b[1;32m   1179\u001b[0m time \u001b[39m=\u001b[39m \u001b[39mself\u001b[39m\u001b[39m.\u001b[39m_time\n\u001b[1;32m   1181\u001b[0m \u001b[39mtry\u001b[39;00m:\n\u001b[0;32m-> 1182\u001b[0m     \u001b[39mfor\u001b[39;00m obj \u001b[39min\u001b[39;00m iterable:\n\u001b[1;32m   1183\u001b[0m         \u001b[39myield\u001b[39;00m obj\n\u001b[1;32m   1184\u001b[0m         \u001b[39m# Update and possibly print the progressbar.\u001b[39;00m\n\u001b[1;32m   1185\u001b[0m         \u001b[39m# Note: does not call self.update(1) for speed optimisation.\u001b[39;00m\n",
      "File \u001b[0;32m~/anaconda3/envs/open_whisper/lib/python3.10/multiprocessing/pool.py:861\u001b[0m, in \u001b[0;36mIMapIterator.next\u001b[0;34m(self, timeout)\u001b[0m\n\u001b[1;32m    859\u001b[0m     \u001b[39mself\u001b[39m\u001b[39m.\u001b[39m_pool \u001b[39m=\u001b[39m \u001b[39mNone\u001b[39;00m\n\u001b[1;32m    860\u001b[0m     \u001b[39mraise\u001b[39;00m \u001b[39mStopIteration\u001b[39;00m \u001b[39mfrom\u001b[39;00m \u001b[39mNone\u001b[39;00m\n\u001b[0;32m--> 861\u001b[0m \u001b[39mself\u001b[39;49m\u001b[39m.\u001b[39;49m_cond\u001b[39m.\u001b[39;49mwait(timeout)\n\u001b[1;32m    862\u001b[0m \u001b[39mtry\u001b[39;00m:\n\u001b[1;32m    863\u001b[0m     item \u001b[39m=\u001b[39m \u001b[39mself\u001b[39m\u001b[39m.\u001b[39m_items\u001b[39m.\u001b[39mpopleft()\n",
      "File \u001b[0;32m~/anaconda3/envs/open_whisper/lib/python3.10/threading.py:320\u001b[0m, in \u001b[0;36mCondition.wait\u001b[0;34m(self, timeout)\u001b[0m\n\u001b[1;32m    318\u001b[0m \u001b[39mtry\u001b[39;00m:    \u001b[39m# restore state no matter what (e.g., KeyboardInterrupt)\u001b[39;00m\n\u001b[1;32m    319\u001b[0m     \u001b[39mif\u001b[39;00m timeout \u001b[39mis\u001b[39;00m \u001b[39mNone\u001b[39;00m:\n\u001b[0;32m--> 320\u001b[0m         waiter\u001b[39m.\u001b[39;49macquire()\n\u001b[1;32m    321\u001b[0m         gotit \u001b[39m=\u001b[39m \u001b[39mTrue\u001b[39;00m\n\u001b[1;32m    322\u001b[0m     \u001b[39melse\u001b[39;00m:\n",
      "\u001b[0;31mKeyboardInterrupt\u001b[0m: "
     ]
    }
   ],
   "metadata": {}
  },
  {
   "cell_type": "code",
   "execution_count": 37,
   "source": [
    "audio_files, mel_specs = zip(*file_mel)"
   ],
   "outputs": [],
   "metadata": {}
  },
  {
   "cell_type": "code",
   "execution_count": 38,
   "source": [
    "audio_files"
   ],
   "outputs": [
    {
     "output_type": "execute_result",
     "data": {
      "text/plain": [
       "('data/audio/9OYNyr8enD4/segments/00:00:09.050_00:00:38.640.m4a',\n",
       " 'data/audio/9OYNyr8enD4/segments/00:04:05.250_00:04:18.950.m4a',\n",
       " 'data/audio/9OYNyr8enD4/segments/00:02:53.730_00:03:17.190.m4a',\n",
       " 'data/audio/-Spgba1gDg4/segments/00:00:29.750_00:00:59.750.m4a',\n",
       " 'data/audio/-Spgba1gDg4/segments/00:01:19.330_00:01:48.060.m4a',\n",
       " 'data/audio/-Spgba1gDg4/segments/00:00:06.220_00:00:29.750.m4a',\n",
       " 'data/audio/-Spgba1gDg4/segments/00:01:48.060_00:01:53.910.m4a',\n",
       " 'data/audio/9OYNyr8enD4/segments/00:03:13.140_00:03:42.239.m4a',\n",
       " 'data/audio/9OYNyr8enD4/segments/00:01:01.739_00:01:29.880.m4a',\n",
       " 'data/audio/-Spgba1gDg4/segments/00:00:59.750_00:01:19.330.m4a')"
      ]
     },
     "metadata": {},
     "execution_count": 38
    }
   ],
   "metadata": {}
  },
  {
   "cell_type": "code",
   "execution_count": 39,
   "source": [
    "mel_specs"
   ],
   "outputs": [
    {
     "output_type": "execute_result",
     "data": {
      "text/plain": [
       "(tensor([[-0.4770, -0.4770, -0.4770,  ..., -0.4770, -0.4770, -0.4770],\n",
       "         [-0.4770, -0.4770, -0.4770,  ..., -0.4770, -0.4770, -0.4770],\n",
       "         [-0.4770, -0.4770, -0.4770,  ..., -0.4770, -0.4770, -0.4770],\n",
       "         ...,\n",
       "         [-0.4770, -0.4770, -0.4770,  ..., -0.4770, -0.4770, -0.4770],\n",
       "         [-0.4770, -0.4770, -0.4770,  ..., -0.4770, -0.4770, -0.4770],\n",
       "         [-0.4770, -0.4770, -0.4770,  ..., -0.4770, -0.4770, -0.4770]],\n",
       "        device='cuda:0'),\n",
       " tensor([[ 0.3252,  0.2922,  0.2629,  ..., -0.5691, -0.5691, -0.5691],\n",
       "         [ 0.5234,  0.7157,  0.7435,  ..., -0.5691, -0.5691, -0.5691],\n",
       "         [ 0.6741,  0.7174,  0.9868,  ..., -0.5691, -0.5691, -0.5691],\n",
       "         ...,\n",
       "         [-0.2623, -0.0566,  0.0435,  ..., -0.5691, -0.5691, -0.5691],\n",
       "         [-0.3610, -0.1951, -0.0284,  ..., -0.5691, -0.5691, -0.5691],\n",
       "         [-0.5691, -0.4011, -0.3263,  ..., -0.5691, -0.5691, -0.5691]],\n",
       "        device='cuda:0'),\n",
       " tensor([[ 0.1043, -0.2558,  0.2228,  ..., -0.5524, -0.5524, -0.5524],\n",
       "         [-0.1691,  0.1579,  0.4075,  ..., -0.5524, -0.5524, -0.5524],\n",
       "         [ 0.4308,  0.4335,  0.6044,  ..., -0.5524, -0.5524, -0.5524],\n",
       "         ...,\n",
       "         [ 0.1697,  0.4623,  0.5141,  ..., -0.5524, -0.5524, -0.5524],\n",
       "         [ 0.1878,  0.3472,  0.5212,  ..., -0.5524, -0.5524, -0.5524],\n",
       "         [-0.0526,  0.0955,  0.2778,  ..., -0.5524, -0.5524, -0.5524]],\n",
       "        device='cuda:0'),\n",
       " tensor([[ 0.2983,  0.4497,  0.6273,  ...,  0.4281,  0.4131,  0.4123],\n",
       "         [ 0.4981,  0.2233,  0.3991,  ...,  0.6186,  0.5787,  0.5754],\n",
       "         [ 0.5036,  0.7576,  0.8500,  ...,  0.8169,  0.7897,  0.7851],\n",
       "         ...,\n",
       "         [-0.6536, -0.5565, -0.3433,  ..., -0.2173, -0.2583, -0.2742],\n",
       "         [-0.7463, -0.4290, -0.3563,  ..., -0.2687, -0.2326, -0.2319],\n",
       "         [-0.7573, -0.4817, -0.4467,  ..., -0.3518, -0.3334, -0.2824]],\n",
       "        device='cuda:0'),\n",
       " tensor([[ 0.1593,  0.4085,  0.4013,  ..., -0.8631, -0.8631, -0.8631],\n",
       "         [-0.0167,  0.5129,  0.5035,  ..., -0.8631, -0.8631, -0.8631],\n",
       "         [ 0.2608,  0.4533,  0.3627,  ..., -0.8631, -0.8631, -0.8631],\n",
       "         ...,\n",
       "         [-0.8596, -0.6130, -0.5198,  ..., -0.8631, -0.8631, -0.8631],\n",
       "         [-0.8136, -0.6120, -0.5520,  ..., -0.8631, -0.8631, -0.8631],\n",
       "         [-0.8631, -0.7739, -0.7179,  ..., -0.8631, -0.8631, -0.8631]],\n",
       "        device='cuda:0'),\n",
       " tensor([[-0.0963, -0.2407, -0.0760,  ..., -0.9372, -0.9372, -0.9372],\n",
       "         [ 0.1569,  0.1667,  0.3168,  ..., -0.9372, -0.9372, -0.9372],\n",
       "         [ 0.1580,  0.4825,  0.4720,  ..., -0.9372, -0.9372, -0.9372],\n",
       "         ...,\n",
       "         [-0.9004, -0.5051, -0.6239,  ..., -0.9372, -0.9372, -0.9372],\n",
       "         [-0.8735, -0.6410, -0.5914,  ..., -0.9372, -0.9372, -0.9372],\n",
       "         [-0.9220, -0.5521, -0.6444,  ..., -0.9372, -0.9372, -0.9372]],\n",
       "        device='cuda:0'),\n",
       " tensor([[ 0.1160,  0.1530,  0.4855,  ..., -0.9567, -0.9567, -0.9567],\n",
       "         [ 0.6158,  0.7153,  0.5615,  ..., -0.9567, -0.9567, -0.9567],\n",
       "         [ 0.4551,  0.8930,  0.9121,  ..., -0.9567, -0.9567, -0.9567],\n",
       "         ...,\n",
       "         [-0.9567, -0.6724, -0.5740,  ..., -0.9567, -0.9567, -0.9567],\n",
       "         [-0.9451, -0.6921, -0.6158,  ..., -0.9567, -0.9567, -0.9567],\n",
       "         [-0.9567, -0.8314, -0.6260,  ..., -0.9567, -0.9567, -0.9567]],\n",
       "        device='cuda:0'),\n",
       " tensor([[ 0.2927,  0.3983,  0.4614,  ..., -0.5916, -0.5916, -0.5916],\n",
       "         [ 0.3838,  0.3450,  0.7199,  ..., -0.5916, -0.5916, -0.5916],\n",
       "         [ 0.3325,  0.5143,  0.7727,  ..., -0.5916, -0.5916, -0.5916],\n",
       "         ...,\n",
       "         [-0.5916, -0.5916, -0.5916,  ..., -0.5916, -0.5916, -0.5916],\n",
       "         [-0.5916, -0.5916, -0.5916,  ..., -0.5916, -0.5916, -0.5916],\n",
       "         [-0.5916, -0.5916, -0.5916,  ..., -0.5916, -0.5916, -0.5916]],\n",
       "        device='cuda:0'),\n",
       " tensor([[ 0.2699,  0.2842,  0.3920,  ..., -0.4460, -0.4460, -0.4460],\n",
       "         [ 0.7331,  0.8330,  0.7542,  ..., -0.4460, -0.4460, -0.4460],\n",
       "         [ 0.5546,  1.0196,  1.0737,  ..., -0.4460, -0.4460, -0.4460],\n",
       "         ...,\n",
       "         [-0.4407, -0.3266, -0.1622,  ..., -0.4460, -0.4460, -0.4460],\n",
       "         [-0.3333, -0.2654, -0.0176,  ..., -0.4460, -0.4460, -0.4460],\n",
       "         [-0.4460, -0.2661, -0.1469,  ..., -0.4460, -0.4460, -0.4460]],\n",
       "        device='cuda:0'),\n",
       " tensor([[ 0.2354,  0.2031,  0.3321,  ..., -0.9657, -0.9657, -0.9657],\n",
       "         [ 0.0111,  0.3962,  0.6137,  ..., -0.9657, -0.9657, -0.9657],\n",
       "         [ 0.3549,  0.2089,  0.7662,  ..., -0.9657, -0.9657, -0.9657],\n",
       "         ...,\n",
       "         [-0.6105, -0.4503, -0.2107,  ..., -0.9657, -0.9657, -0.9657],\n",
       "         [-0.6371, -0.4329, -0.2590,  ..., -0.9657, -0.9657, -0.9657],\n",
       "         [-0.6923, -0.3003, -0.3502,  ..., -0.9657, -0.9657, -0.9657]],\n",
       "        device='cuda:0'))"
      ]
     },
     "metadata": {},
     "execution_count": 39
    }
   ],
   "metadata": {}
  },
  {
   "cell_type": "code",
   "execution_count": 40,
   "source": [
    "list(mel_specs)"
   ],
   "outputs": [
    {
     "output_type": "execute_result",
     "data": {
      "text/plain": [
       "[tensor([[-0.4770, -0.4770, -0.4770,  ..., -0.4770, -0.4770, -0.4770],\n",
       "         [-0.4770, -0.4770, -0.4770,  ..., -0.4770, -0.4770, -0.4770],\n",
       "         [-0.4770, -0.4770, -0.4770,  ..., -0.4770, -0.4770, -0.4770],\n",
       "         ...,\n",
       "         [-0.4770, -0.4770, -0.4770,  ..., -0.4770, -0.4770, -0.4770],\n",
       "         [-0.4770, -0.4770, -0.4770,  ..., -0.4770, -0.4770, -0.4770],\n",
       "         [-0.4770, -0.4770, -0.4770,  ..., -0.4770, -0.4770, -0.4770]],\n",
       "        device='cuda:0'),\n",
       " tensor([[ 0.3252,  0.2922,  0.2629,  ..., -0.5691, -0.5691, -0.5691],\n",
       "         [ 0.5234,  0.7157,  0.7435,  ..., -0.5691, -0.5691, -0.5691],\n",
       "         [ 0.6741,  0.7174,  0.9868,  ..., -0.5691, -0.5691, -0.5691],\n",
       "         ...,\n",
       "         [-0.2623, -0.0566,  0.0435,  ..., -0.5691, -0.5691, -0.5691],\n",
       "         [-0.3610, -0.1951, -0.0284,  ..., -0.5691, -0.5691, -0.5691],\n",
       "         [-0.5691, -0.4011, -0.3263,  ..., -0.5691, -0.5691, -0.5691]],\n",
       "        device='cuda:0'),\n",
       " tensor([[ 0.1043, -0.2558,  0.2228,  ..., -0.5524, -0.5524, -0.5524],\n",
       "         [-0.1691,  0.1579,  0.4075,  ..., -0.5524, -0.5524, -0.5524],\n",
       "         [ 0.4308,  0.4335,  0.6044,  ..., -0.5524, -0.5524, -0.5524],\n",
       "         ...,\n",
       "         [ 0.1697,  0.4623,  0.5141,  ..., -0.5524, -0.5524, -0.5524],\n",
       "         [ 0.1878,  0.3472,  0.5212,  ..., -0.5524, -0.5524, -0.5524],\n",
       "         [-0.0526,  0.0955,  0.2778,  ..., -0.5524, -0.5524, -0.5524]],\n",
       "        device='cuda:0'),\n",
       " tensor([[ 0.2983,  0.4497,  0.6273,  ...,  0.4281,  0.4131,  0.4123],\n",
       "         [ 0.4981,  0.2233,  0.3991,  ...,  0.6186,  0.5787,  0.5754],\n",
       "         [ 0.5036,  0.7576,  0.8500,  ...,  0.8169,  0.7897,  0.7851],\n",
       "         ...,\n",
       "         [-0.6536, -0.5565, -0.3433,  ..., -0.2173, -0.2583, -0.2742],\n",
       "         [-0.7463, -0.4290, -0.3563,  ..., -0.2687, -0.2326, -0.2319],\n",
       "         [-0.7573, -0.4817, -0.4467,  ..., -0.3518, -0.3334, -0.2824]],\n",
       "        device='cuda:0'),\n",
       " tensor([[ 0.1593,  0.4085,  0.4013,  ..., -0.8631, -0.8631, -0.8631],\n",
       "         [-0.0167,  0.5129,  0.5035,  ..., -0.8631, -0.8631, -0.8631],\n",
       "         [ 0.2608,  0.4533,  0.3627,  ..., -0.8631, -0.8631, -0.8631],\n",
       "         ...,\n",
       "         [-0.8596, -0.6130, -0.5198,  ..., -0.8631, -0.8631, -0.8631],\n",
       "         [-0.8136, -0.6120, -0.5520,  ..., -0.8631, -0.8631, -0.8631],\n",
       "         [-0.8631, -0.7739, -0.7179,  ..., -0.8631, -0.8631, -0.8631]],\n",
       "        device='cuda:0'),\n",
       " tensor([[-0.0963, -0.2407, -0.0760,  ..., -0.9372, -0.9372, -0.9372],\n",
       "         [ 0.1569,  0.1667,  0.3168,  ..., -0.9372, -0.9372, -0.9372],\n",
       "         [ 0.1580,  0.4825,  0.4720,  ..., -0.9372, -0.9372, -0.9372],\n",
       "         ...,\n",
       "         [-0.9004, -0.5051, -0.6239,  ..., -0.9372, -0.9372, -0.9372],\n",
       "         [-0.8735, -0.6410, -0.5914,  ..., -0.9372, -0.9372, -0.9372],\n",
       "         [-0.9220, -0.5521, -0.6444,  ..., -0.9372, -0.9372, -0.9372]],\n",
       "        device='cuda:0'),\n",
       " tensor([[ 0.1160,  0.1530,  0.4855,  ..., -0.9567, -0.9567, -0.9567],\n",
       "         [ 0.6158,  0.7153,  0.5615,  ..., -0.9567, -0.9567, -0.9567],\n",
       "         [ 0.4551,  0.8930,  0.9121,  ..., -0.9567, -0.9567, -0.9567],\n",
       "         ...,\n",
       "         [-0.9567, -0.6724, -0.5740,  ..., -0.9567, -0.9567, -0.9567],\n",
       "         [-0.9451, -0.6921, -0.6158,  ..., -0.9567, -0.9567, -0.9567],\n",
       "         [-0.9567, -0.8314, -0.6260,  ..., -0.9567, -0.9567, -0.9567]],\n",
       "        device='cuda:0'),\n",
       " tensor([[ 0.2927,  0.3983,  0.4614,  ..., -0.5916, -0.5916, -0.5916],\n",
       "         [ 0.3838,  0.3450,  0.7199,  ..., -0.5916, -0.5916, -0.5916],\n",
       "         [ 0.3325,  0.5143,  0.7727,  ..., -0.5916, -0.5916, -0.5916],\n",
       "         ...,\n",
       "         [-0.5916, -0.5916, -0.5916,  ..., -0.5916, -0.5916, -0.5916],\n",
       "         [-0.5916, -0.5916, -0.5916,  ..., -0.5916, -0.5916, -0.5916],\n",
       "         [-0.5916, -0.5916, -0.5916,  ..., -0.5916, -0.5916, -0.5916]],\n",
       "        device='cuda:0'),\n",
       " tensor([[ 0.2699,  0.2842,  0.3920,  ..., -0.4460, -0.4460, -0.4460],\n",
       "         [ 0.7331,  0.8330,  0.7542,  ..., -0.4460, -0.4460, -0.4460],\n",
       "         [ 0.5546,  1.0196,  1.0737,  ..., -0.4460, -0.4460, -0.4460],\n",
       "         ...,\n",
       "         [-0.4407, -0.3266, -0.1622,  ..., -0.4460, -0.4460, -0.4460],\n",
       "         [-0.3333, -0.2654, -0.0176,  ..., -0.4460, -0.4460, -0.4460],\n",
       "         [-0.4460, -0.2661, -0.1469,  ..., -0.4460, -0.4460, -0.4460]],\n",
       "        device='cuda:0'),\n",
       " tensor([[ 0.2354,  0.2031,  0.3321,  ..., -0.9657, -0.9657, -0.9657],\n",
       "         [ 0.0111,  0.3962,  0.6137,  ..., -0.9657, -0.9657, -0.9657],\n",
       "         [ 0.3549,  0.2089,  0.7662,  ..., -0.9657, -0.9657, -0.9657],\n",
       "         ...,\n",
       "         [-0.6105, -0.4503, -0.2107,  ..., -0.9657, -0.9657, -0.9657],\n",
       "         [-0.6371, -0.4329, -0.2590,  ..., -0.9657, -0.9657, -0.9657],\n",
       "         [-0.6923, -0.3003, -0.3502,  ..., -0.9657, -0.9657, -0.9657]],\n",
       "        device='cuda:0')]"
      ]
     },
     "metadata": {},
     "execution_count": 40
    }
   ],
   "metadata": {}
  }
 ],
 "nbformat": 4,
 "nbformat_minor": 2,
 "metadata": {
  "language_info": {
   "codemirror_mode": {
    "name": "ipython",
    "version": 3
   },
   "file_extension": ".py",
   "mimetype": "text/x-python",
   "name": "python",
   "nbconvert_exporter": "python",
   "pygments_lexer": "ipython3",
   "version": 3
  }
 }
}