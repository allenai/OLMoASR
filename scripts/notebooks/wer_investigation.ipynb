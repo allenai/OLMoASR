{
 "cells": [
  {
   "cell_type": "code",
   "execution_count": 2,
   "metadata": {},
   "outputs": [],
   "source": [
    "import torch\n",
    "from torcheval.metrics.functional import word_error_rate"
   ]
  },
  {
   "cell_type": "code",
   "execution_count": 5,
   "metadata": {},
   "outputs": [
    {
     "data": {
      "text/plain": [
       "tensor(0.6000, dtype=torch.float64)"
      ]
     },
     "execution_count": 5,
     "metadata": {},
     "output_type": "execute_result"
    }
   ],
   "source": [
    "input = [\"hello world\", \"welcome to the facebook\"]\n",
    "target = [\"hello metaverse\", \"welcome to meta\"]\n",
    "word_error_rate(input, target)\n",
    "# 1 substitution + 1 insertion + 1 substitution / 5 words = 3/5"
   ]
  },
  {
   "cell_type": "code",
   "execution_count": 6,
   "metadata": {},
   "outputs": [
    {
     "data": {
      "text/plain": [
       "tensor(0.5000, dtype=torch.float64)"
      ]
     },
     "execution_count": 6,
     "metadata": {},
     "output_type": "execute_result"
    }
   ],
   "source": [
    "word_error_rate(\"hello world\", \"hello metaverse\")"
   ]
  },
  {
   "cell_type": "code",
   "execution_count": 7,
   "metadata": {},
   "outputs": [
    {
     "data": {
      "text/plain": [
       "tensor(0.6667, dtype=torch.float64)"
      ]
     },
     "execution_count": 7,
     "metadata": {},
     "output_type": "execute_result"
    }
   ],
   "source": [
    "word_error_rate(\"welcome to the facebook\", \"welcome to meta\")"
   ]
  },
  {
   "cell_type": "code",
   "execution_count": 10,
   "metadata": {},
   "outputs": [
    {
     "data": {
      "text/plain": [
       "tensor(1.1667, dtype=torch.float64)"
      ]
     },
     "execution_count": 10,
     "metadata": {},
     "output_type": "execute_result"
    }
   ],
   "source": [
    "word_error_rate(\"hello world\", \"hello metaverse\") + word_error_rate(\n",
    "    \"welcome to the facebook\", \"welcome to meta\"\n",
    ")"
   ]
  },
  {
   "cell_type": "code",
   "execution_count": 12,
   "metadata": {},
   "outputs": [
    {
     "data": {
      "text/plain": [
       "tensor(0.5833, dtype=torch.float64)"
      ]
     },
     "execution_count": 12,
     "metadata": {},
     "output_type": "execute_result"
    }
   ],
   "source": [
    " (word_error_rate(\"hello world\", \"hello metaverse\")\n",
    "    + word_error_rate(\"welcome to the facebook\", \"welcome to meta\")) / 2"
   ]
  },
  {
   "cell_type": "code",
   "execution_count": 7,
   "metadata": {},
   "outputs": [],
   "source": [
    "from jiwer import wer"
   ]
  },
  {
   "cell_type": "code",
   "execution_count": 8,
   "metadata": {},
   "outputs": [
    {
     "data": {
      "text/plain": [
       "0.6666666666666666"
      ]
     },
     "execution_count": 8,
     "metadata": {},
     "output_type": "execute_result"
    }
   ],
   "source": [
    "wer(\"welcome to meta\", \"welcome to the facebook\")"
   ]
  },
  {
   "cell_type": "code",
   "execution_count": 6,
   "metadata": {},
   "outputs": [
    {
     "data": {
      "text/plain": [
       "[('hello world', 'hello metaverse'),\n",
       " ('welcome to the facebook', 'welcome to meta')]"
      ]
     },
     "execution_count": 6,
     "metadata": {},
     "output_type": "execute_result"
    }
   ],
   "source": [
    "list(zip(input, target))"
   ]
  },
  {
   "cell_type": "code",
   "execution_count": 9,
   "metadata": {},
   "outputs": [],
   "source": [
    "calculate_wer = lambda tpl: wer(tpl[1], tpl[0])"
   ]
  },
  {
   "cell_type": "code",
   "execution_count": 12,
   "metadata": {},
   "outputs": [
    {
     "data": {
      "text/plain": [
       "[0.5, 0.6666666666666666]"
      ]
     },
     "execution_count": 12,
     "metadata": {},
     "output_type": "execute_result"
    }
   ],
   "source": [
    "list(map(calculate_wer, zip(input, target)))"
   ]
  },
  {
   "cell_type": "code",
   "execution_count": 13,
   "metadata": {},
   "outputs": [],
   "source": [
    "wer_list = list(map(calculate_wer, zip(input, target)))\n",
    "average_wer = sum(wer_list) / len(wer_list)"
   ]
  },
  {
   "cell_type": "code",
   "execution_count": 14,
   "metadata": {},
   "outputs": [
    {
     "data": {
      "text/plain": [
       "0.5833333333333333"
      ]
     },
     "execution_count": 14,
     "metadata": {},
     "output_type": "execute_result"
    }
   ],
   "source": [
    "average_wer"
   ]
  },
  {
   "cell_type": "code",
   "execution_count": 19,
   "metadata": {},
   "outputs": [
    {
     "data": {
      "text/plain": [
       "1.1666666666666665"
      ]
     },
     "execution_count": 19,
     "metadata": {},
     "output_type": "execute_result"
    }
   ],
   "source": [
    "sum(map(calculate_wer, zip(input, target)))"
   ]
  },
  {
   "cell_type": "code",
   "execution_count": 20,
   "metadata": {},
   "outputs": [
    {
     "data": {
      "text/plain": [
       "1.1666666666666665"
      ]
     },
     "execution_count": 20,
     "metadata": {},
     "output_type": "execute_result"
    }
   ],
   "source": [
    "sum(wer_list)"
   ]
  },
  {
   "cell_type": "code",
   "execution_count": 22,
   "metadata": {},
   "outputs": [
    {
     "data": {
      "text/plain": [
       "2"
      ]
     },
     "execution_count": 22,
     "metadata": {},
     "output_type": "execute_result"
    }
   ],
   "source": [
    "len(list(zip(input, target)))"
   ]
  },
  {
   "cell_type": "code",
   "execution_count": 1,
   "metadata": {},
   "outputs": [],
   "source": [
    "from open_whisper import utils"
   ]
  },
  {
   "cell_type": "code",
   "execution_count": 2,
   "metadata": {},
   "outputs": [],
   "source": [
    "input = [\"hello world\", \"welcome to the facebook\"]\n",
    "target = [\"hello metaverse\", \"welcome to meta\"]"
   ]
  },
  {
   "cell_type": "code",
   "execution_count": 5,
   "metadata": {},
   "outputs": [
    {
     "data": {
      "text/plain": [
       "[('hello world', 'hello metaverse'),\n",
       " ('welcome to the facebook', 'welcome to meta')]"
      ]
     },
     "execution_count": 5,
     "metadata": {},
     "output_type": "execute_result"
    }
   ],
   "source": [
    "pair_list = list(zip(input, target))\n",
    "pair_list"
   ]
  },
  {
   "cell_type": "code",
   "execution_count": 6,
   "metadata": {},
   "outputs": [
    {
     "data": {
      "text/plain": [
       "50.0"
      ]
     },
     "execution_count": 6,
     "metadata": {},
     "output_type": "execute_result"
    }
   ],
   "source": [
    "utils.average_wer(pair_list)"
   ]
  },
  {
   "cell_type": "code",
   "execution_count": 7,
   "metadata": {},
   "outputs": [
    {
     "data": {
      "text/plain": [
       "[('hello metaverse', 'hello world'),\n",
       " ('welcome to meta', 'welcome to the facebook')]"
      ]
     },
     "execution_count": 7,
     "metadata": {},
     "output_type": "execute_result"
    }
   ],
   "source": [
    "pair_list = list(zip(target, input))\n",
    "pair_list"
   ]
  },
  {
   "cell_type": "code",
   "execution_count": 8,
   "metadata": {},
   "outputs": [
    {
     "data": {
      "text/plain": [
       "58.33333333333333"
      ]
     },
     "execution_count": 8,
     "metadata": {},
     "output_type": "execute_result"
    }
   ],
   "source": [
    "utils.average_wer(pair_list)"
   ]
  },
  {
   "cell_type": "code",
   "execution_count": 10,
   "metadata": {},
   "outputs": [],
   "source": [
    "import numpy as np"
   ]
  },
  {
   "cell_type": "code",
   "execution_count": 11,
   "metadata": {},
   "outputs": [
    {
     "data": {
      "text/plain": [
       "58.33"
      ]
     },
     "execution_count": 11,
     "metadata": {},
     "output_type": "execute_result"
    }
   ],
   "source": [
    "np.round(utils.average_wer(pair_list), 2)"
   ]
  },
  {
   "cell_type": "code",
   "execution_count": 1,
   "metadata": {},
   "outputs": [],
   "source": [
    "from open_whisper import normalizers"
   ]
  },
  {
   "cell_type": "code",
   "execution_count": 3,
   "metadata": {},
   "outputs": [
    {
     "data": {
      "text/plain": [
       "'Steve  And now that kickstarter has raised  51 000 dollars  I REPEAT   51 000    Probably'"
      ]
     },
     "execution_count": 3,
     "metadata": {},
     "output_type": "execute_result"
    }
   ],
   "source": [
    "normalizers.BasicTextNormalizer(remove_diacritics=True, split_letters=True).clean(\n",
    "    \"Steve: And now that kickstarter has raised $51,000 dollars, I REPEAT! $51,000!!! Probably\"\n",
    ")"
   ]
  },
  {
   "cell_type": "code",
   "execution_count": 4,
   "metadata": {},
   "outputs": [
    {
     "data": {
      "text/plain": [
       "'Steve  now look  I m willing to do anything for a good joke  but this is insane   I mean'"
      ]
     },
     "execution_count": 4,
     "metadata": {},
     "output_type": "execute_result"
    }
   ],
   "source": [
    "normalizers.BasicTextNormalizer(remove_diacritics=True, split_letters=True).clean(\n",
    "    \"Steve: now look, I�m willing to do anything for a good joke, but this is insane!! I mean\"\n",
    ")"
   ]
  },
  {
   "cell_type": "code",
   "execution_count": 5,
   "metadata": {},
   "outputs": [
    {
     "data": {
      "text/plain": [
       "[('Steve: And now that kickstarter has raised $51,000 dollars, I REPEAT! $51,000!!! Probably',\n",
       "  'Steve: now look, I�m willing to do anything for a good joke, but this is insane!! I mean'),\n",
       " ('more by now!!', 'it has over 4,000 backers�')]"
      ]
     },
     "execution_count": 5,
     "metadata": {},
     "output_type": "execute_result"
    }
   ],
   "source": [
    "pair_list = [\n",
    "    (\n",
    "        \"Steve: And now that kickstarter has raised $51,000 dollars, I REPEAT! $51,000!!! Probably\",\n",
    "        \"Steve: now look, I�m willing to do anything for a good joke, but this is insane!! I mean\",\n",
    "    ),\n",
    "    (\"more by now!!\", \"it has over 4,000 backers�\"),\n",
    "]\n",
    "pair_list"
   ]
  },
  {
   "cell_type": "code",
   "execution_count": 9,
   "metadata": {},
   "outputs": [],
   "source": [
    "from open_whisper.normalizers import BasicTextNormalizer, EnglishTextNormalizer\n",
    "\n",
    "\n",
    "def clean_text(pair_list, normalizer, remove_diacrtics, split_letters):\n",
    "    if normalizer == \"basic\":\n",
    "        normalizer = BasicTextNormalizer(\n",
    "            remove_diacritics=remove_diacrtics, split_letters=split_letters\n",
    "        )\n",
    "    elif normalizer == \"english\":\n",
    "        normalizer = EnglishTextNormalizer(\n",
    "            remove_diacritics=remove_diacrtics, split_letters=split_letters\n",
    "        )\n",
    "    else:\n",
    "        raise ValueError(\"Unsupported normalizer\")\n",
    "\n",
    "    normalize = lambda pair: (\n",
    "        normalizer.clean(pair[0]).lower(),\n",
    "        normalizer.clean(pair[1]).lower(),\n",
    "    )\n",
    "    return list(map(normalize, pair_list))"
   ]
  },
  {
   "cell_type": "code",
   "execution_count": 10,
   "metadata": {},
   "outputs": [
    {
     "data": {
      "text/plain": [
       "[('steve  and now that kickstarter has raised  51 000 dollars  i repeat   51 000    probably',\n",
       "  'steve  now look  i m willing to do anything for a good joke  but this is insane   i mean'),\n",
       " ('more by now  ', 'it has over 4 000 backers ')]"
      ]
     },
     "execution_count": 10,
     "metadata": {},
     "output_type": "execute_result"
    }
   ],
   "source": [
    "clean_text(pair_list, \"basic\", True, True)"
   ]
  }
 ],
 "metadata": {
  "kernelspec": {
   "display_name": "open_whisper",
   "language": "python",
   "name": "python3"
  },
  "language_info": {
   "codemirror_mode": {
    "name": "ipython",
    "version": 3
   },
   "file_extension": ".py",
   "mimetype": "text/x-python",
   "name": "python",
   "nbconvert_exporter": "python",
   "pygments_lexer": "ipython3",
   "version": "3.10.13"
  }
 },
 "nbformat": 4,
 "nbformat_minor": 2
}
