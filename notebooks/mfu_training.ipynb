{
 "cells": [
  {
   "cell_type": "code",
   "execution_count": 1,
   "metadata": {},
   "outputs": [],
   "source": [
    "d = lambda gbs, tps: ((1500 * gbs) + (448 * gbs)) / tps"
   ]
  },
  {
   "cell_type": "code",
   "execution_count": 2,
   "metadata": {},
   "outputs": [],
   "source": [
    "mfu = lambda params, d, gpus: (6 * params * d) / ((900 * 10**12) * gpus)"
   ]
  },
  {
   "cell_type": "code",
   "execution_count": 3,
   "metadata": {},
   "outputs": [
    {
     "name": "stdout",
     "output_type": "stream",
     "text": [
      "865777.7777777778\n"
     ]
    }
   ],
   "source": [
    "d_val = d(320, 0.72)\n",
    "print(d_val)"
   ]
  },
  {
   "cell_type": "code",
   "execution_count": 4,
   "metadata": {},
   "outputs": [
    {
     "name": "stdout",
     "output_type": "stream",
     "text": [
      "0.11255111111111112\n"
     ]
    }
   ],
   "source": [
    "mfu_val = mfu(39 * 10**6, d_val, 2)\n",
    "print(mfu_val)"
   ]
  },
  {
   "cell_type": "code",
   "execution_count": 6,
   "metadata": {},
   "outputs": [
    {
     "name": "stdout",
     "output_type": "stream",
     "text": [
      "0.10389333333333334\n"
     ]
    }
   ],
   "source": [
    "mfu_val = mfu(39 * 10**6, d_val, 1)\n",
    "print(mfu_val)"
   ]
  },
  {
   "cell_type": "code",
   "execution_count": 7,
   "metadata": {},
   "outputs": [
    {
     "name": "stdout",
     "output_type": "stream",
     "text": [
      "389600.0\n"
     ]
    }
   ],
   "source": [
    "d_val = d(80, 0.4)\n",
    "print(d_val)"
   ]
  },
  {
   "cell_type": "code",
   "execution_count": 8,
   "metadata": {},
   "outputs": [
    {
     "name": "stdout",
     "output_type": "stream",
     "text": [
      "0.101296\n"
     ]
    }
   ],
   "source": [
    "mfu_val = mfu(39 * 10**6, d_val, 1)\n",
    "print(mfu_val)"
   ]
  },
  {
   "cell_type": "code",
   "execution_count": 9,
   "metadata": {},
   "outputs": [
    {
     "name": "stdout",
     "output_type": "stream",
     "text": [
      "779200.0\n"
     ]
    }
   ],
   "source": [
    "d_val = d(80, 0.2)\n",
    "print(d_val)"
   ]
  },
  {
   "cell_type": "code",
   "execution_count": 10,
   "metadata": {},
   "outputs": [
    {
     "name": "stdout",
     "output_type": "stream",
     "text": [
      "0.202592\n"
     ]
    }
   ],
   "source": [
    "mfu_val = mfu(39 * 10**6, d_val, 1)\n",
    "print(mfu_val)"
   ]
  },
  {
   "cell_type": "code",
   "execution_count": 11,
   "metadata": {},
   "outputs": [
    {
     "name": "stdout",
     "output_type": "stream",
     "text": [
      "820210.5263157894\n"
     ]
    }
   ],
   "source": [
    "d_val = d(80, 0.19)\n",
    "print(d_val)"
   ]
  },
  {
   "cell_type": "code",
   "execution_count": 12,
   "metadata": {},
   "outputs": [
    {
     "name": "stdout",
     "output_type": "stream",
     "text": [
      "0.21325473684210525\n"
     ]
    }
   ],
   "source": [
    "mfu_val = mfu(39 * 10**6, d_val, 1)\n",
    "print(mfu_val)"
   ]
  },
  {
   "cell_type": "code",
   "execution_count": null,
   "metadata": {},
   "outputs": [],
   "source": []
  }
 ],
 "metadata": {
  "kernelspec": {
   "display_name": "open_whisper",
   "language": "python",
   "name": "python3"
  },
  "language_info": {
   "codemirror_mode": {
    "name": "ipython",
    "version": 3
   },
   "file_extension": ".py",
   "mimetype": "text/x-python",
   "name": "python",
   "nbconvert_exporter": "python",
   "pygments_lexer": "ipython3",
   "version": "3.12.2"
  }
 },
 "nbformat": 4,
 "nbformat_minor": 2
}
