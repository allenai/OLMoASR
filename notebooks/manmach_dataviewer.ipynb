{
 "cells": [
  {
   "cell_type": "code",
   "execution_count": 1,
   "id": "794b76eb-4ecf-4bf2-a5df-bccd35810a99",
   "metadata": {},
   "outputs": [],
   "source": [
    "from smart_open import open\n",
    "import json\n",
    "import boto3\n",
    "from urllib.parse import urlparse\n",
    "from tqdm.auto import tqdm\n",
    "import matplotlib.pyplot as plt"
   ]
  },
  {
   "cell_type": "markdown",
   "id": "2b0dea93-abee-4536-b689-5029ff083f2c",
   "metadata": {},
   "source": [
    "# Some utilities"
   ]
  },
  {
   "cell_type": "code",
   "execution_count": 2,
   "id": "fd5b1652-8a2f-46bf-b0e7-2c1476044a89",
   "metadata": {},
   "outputs": [],
   "source": [
    "def list_s3_files(bucket_name, prefix, extension):\n",
    "    \"\"\"\n",
    "    List all files in an S3 bucket that match the given prefix and extension.\n",
    "    \n",
    "    Args:\n",
    "        bucket_name (str): Name of the S3 bucket\n",
    "        prefix (str): Prefix to filter files (e.g., 'folder/subfolder/')\n",
    "        extension (str): File extension to filter (e.g., '.csv')\n",
    "    \n",
    "    Returns:\n",
    "        list: List of matching file names\n",
    "    \"\"\"\n",
    "    # Initialize S3 client\n",
    "    s3_client = boto3.client('s3')\n",
    "    \n",
    "    # List objects in the bucket with the given prefix\n",
    "    matching_files = []\n",
    "    paginator = s3_client.get_paginator('list_objects_v2')\n",
    "    \n",
    "    # Paginate through results\n",
    "    for page in paginator.paginate(Bucket=bucket_name, Prefix=prefix):\n",
    "        if 'Contents' in page:\n",
    "            for obj in page['Contents']:\n",
    "                # Check if file ends with the specified extension\n",
    "                if obj['Key'].endswith(extension):\n",
    "                    matching_files.append(obj['Key'])\n",
    "    \n",
    "    return matching_files\n",
    "\n",
    "\n",
    "def check_file_exists(bucket_name, file_key):\n",
    "    s3 = boto3.client('s3')\n",
    "    try:\n",
    "        s3.head_object(Bucket=bucket_name, Key=file_key)\n",
    "        return True\n",
    "    except s3.exceptions.ClientError as e:\n",
    "        if e.response['Error']['Code'] == '404':\n",
    "            return False\n",
    "        raise\n",
    "\n",
    "\n",
    "\n",
    "def parse_s3_uri(uri):\n",
    "   parsed = urlparse(uri)\n",
    "   bucket = parsed.netloc\n",
    "   key = parsed.path.lstrip('/')\n",
    "   return bucket, key        \n"
   ]
  },
  {
   "cell_type": "code",
   "execution_count": 3,
   "id": "6a7c5453-cac7-4528-9b89-bc58eacb13a7",
   "metadata": {},
   "outputs": [
    {
     "data": {
      "text/plain": [
       "'openwhisper/pretraining_data/text_heurs_1_manmach_jan_25/shard_00000000.jsonl.gz'"
      ]
     },
     "execution_count": 3,
     "metadata": {},
     "output_type": "execute_result"
    }
   ],
   "source": [
    "manmach_uri = 's3://allennlp-mattj/openwhisper/pretraining_data/text_heurs_1_manmach_jan_25/'\n",
    "\n",
    "manmach_files = list_s3_files(*parse_s3_uri(manmach_uri), '.jsonl.gz')\n",
    "manmach_files[0]"
   ]
  },
  {
   "cell_type": "code",
   "execution_count": 4,
   "id": "a454db02-7393-4ea2-ba2c-3c975a810766",
   "metadata": {},
   "outputs": [
    {
     "data": {
      "text/plain": [
       "'openwhisper/pretraining_data/text_heurs_1_manmach_jan_25/shard_00000000.jsonl.gz'"
      ]
     },
     "execution_count": 4,
     "metadata": {},
     "output_type": "execute_result"
    }
   ],
   "source": [
    "manmach_files[0]"
   ]
  },
  {
   "cell_type": "markdown",
   "id": "9d147038-0e6b-41a8-82c8-aca000aebbea",
   "metadata": {},
   "source": [
    "# Load some data"
   ]
  },
  {
   "cell_type": "code",
   "execution_count": 5,
   "id": "b4074eeb-911b-42e3-ae30-4dc1840e3358",
   "metadata": {},
   "outputs": [
    {
     "data": {
      "application/vnd.jupyter.widget-view+json": {
       "model_id": "1f75cade045b4bdab090518d1b695d86",
       "version_major": 2,
       "version_minor": 0
      },
      "text/plain": [
       "  0%|          | 0/10 [00:00<?, ?it/s]"
      ]
     },
     "metadata": {},
     "output_type": "display_data"
    }
   ],
   "source": [
    "\n",
    "TEST_FILES = manmach_files[:10]\n",
    "data = [json.loads(_) for file in tqdm(TEST_FILES) for _ in open('s3://allennlp-mattj/%s' % file, 'rb').read().splitlines()]"
   ]
  },
  {
   "cell_type": "markdown",
   "id": "344c6f53-4322-4ba5-8829-6e70d458eba7",
   "metadata": {},
   "source": [
    "# Sort by document, and print results"
   ]
  },
  {
   "cell_type": "code",
   "execution_count": 6,
   "id": "e2eb403c-dffd-434b-a2c1-b58fb78ab710",
   "metadata": {},
   "outputs": [],
   "source": [
    "data.sort(key=lambda p: p['man_mach_score'])\n",
    "scores = [_['man_mach_score'] for _ in data]"
   ]
  },
  {
   "cell_type": "code",
   "execution_count": 7,
   "id": "c70e0c98-b64a-4ca5-bd18-ba83c3a55311",
   "metadata": {
    "scrolled": true
   },
   "outputs": [
    {
     "data": {
      "text/plain": [
       "(array([  2.,   1.,   4.,   1.,   1.,   1.,   3.,   4.,   2.,   2.,   4.,\n",
       "          3.,   3.,   4.,   2.,   6.,   7.,   6.,   2.,   3.,   6.,   2.,\n",
       "          6.,   3.,   3.,   2.,   2.,   0.,   0.,   1.,   3.,   0.,   1.,\n",
       "          2.,   2.,   7.,   1.,   3.,   1.,   2.,   4.,   1.,   6.,   1.,\n",
       "          8.,   0.,   3.,   4.,   8.,   5.,   2.,   3.,   4.,   5.,   5.,\n",
       "          4.,   7.,   4.,   5.,   8.,   9.,   7.,  11.,  10.,  11.,  10.,\n",
       "          6.,  12.,  12.,  15.,  27.,  26.,  23.,  26.,  52.,  69.,  68.,\n",
       "         83.,  77., 127., 124., 141., 157., 165., 205., 196., 225., 201.,\n",
       "        226., 255., 276., 267., 230., 221., 145.,  99.,  58.,  20.,   5.,\n",
       "          1.]),\n",
       " array([0.11444206, 0.12329764, 0.13215322, 0.1410088 , 0.14986438,\n",
       "        0.15871996, 0.16757553, 0.17643111, 0.18528669, 0.19414227,\n",
       "        0.20299785, 0.21185343, 0.22070901, 0.22956459, 0.23842017,\n",
       "        0.24727575, 0.25613133, 0.26498691, 0.27384249, 0.28269807,\n",
       "        0.29155365, 0.30040923, 0.30926481, 0.31812038, 0.32697596,\n",
       "        0.33583154, 0.34468712, 0.3535427 , 0.36239828, 0.37125386,\n",
       "        0.38010944, 0.38896502, 0.3978206 , 0.40667618, 0.41553176,\n",
       "        0.42438734, 0.43324292, 0.4420985 , 0.45095408, 0.45980966,\n",
       "        0.46866523, 0.47752081, 0.48637639, 0.49523197, 0.50408755,\n",
       "        0.51294313, 0.52179871, 0.53065429, 0.53950987, 0.54836545,\n",
       "        0.55722103, 0.56607661, 0.57493219, 0.58378777, 0.59264335,\n",
       "        0.60149893, 0.61035451, 0.61921008, 0.62806566, 0.63692124,\n",
       "        0.64577682, 0.6546324 , 0.66348798, 0.67234356, 0.68119914,\n",
       "        0.69005472, 0.6989103 , 0.70776588, 0.71662146, 0.72547704,\n",
       "        0.73433262, 0.7431882 , 0.75204378, 0.76089936, 0.76975494,\n",
       "        0.77861051, 0.78746609, 0.79632167, 0.80517725, 0.81403283,\n",
       "        0.82288841, 0.83174399, 0.84059957, 0.84945515, 0.85831073,\n",
       "        0.86716631, 0.87602189, 0.88487747, 0.89373305, 0.90258863,\n",
       "        0.91144421, 0.92029979, 0.92915536, 0.93801094, 0.94686652,\n",
       "        0.9557221 , 0.96457768, 0.97343326, 0.98228884, 0.99114442,\n",
       "        1.        ]),\n",
       " <BarContainer object of 100 artists>)"
      ]
     },
     "execution_count": 7,
     "metadata": {},
     "output_type": "execute_result"
    },
    {
     "data": {
      "image/png": "[encoded data removed]",
      "text/plain": [
       "<Figure size 640x480 with 1 Axes>"
      ]
     },
     "metadata": {},
     "output_type": "display_data"
    }
   ],
   "source": [
    "plt.hist(scores, bins=100)"
   ]
  },
  {
   "cell_type": "code",
   "execution_count": 8,
   "id": "06f4d703",
   "metadata": {},
   "outputs": [
    {
     "data": {
      "text/plain": [
       "{'subtitle_file': '/weka/huongn/ow_full/00000009/i-SR-1hw0EU/i-SR-1hw0EU.en.srt',\n",
       " 'content': '1\\n00:00:04,880 --> 00:00:10,400\\n\\n2\\n00:00:10,580 --> 00:00:14,680\\nkimchi 200g/ Pork mince 200g/ Pork belly 90g/ Tofu 160g/ Beansprout 150g\\n\\n3\\n00:00:14,800 --> 00:00:19,340\\nGarlic mince 2tsp/ Ginger mince 2tsp/ Kimchi juice 2tbs/ Black pepper/ Soy sauce 2tbs/ Fish sauce 1tbs/ Sesame oil 1tbs/ Dumpling skin\\n\\n4\\n00:00:20,440 --> 00:00:23,160\\nHi guys! I’m going to make Kim-Chi mandoo today.\\n\\n5\\n00:00:23,220 --> 00:00:25,240\\nMandoo is Korean style Dumpling!!\\n\\n6\\n00:00:25,480 --> 00:00:26,740\\nLet’s start!!\\n\\n7\\n00:00:26,920 --> 00:00:35,120\\nFirst, I’ll make Dumpling filling. First please mix pork mince, Tofu and Kimchi. Make sure drain moisture from tofu before mix.\\n\\n8\\n00:00:39,160 --> 00:00:44,500\\nChopped the kimchi, then remove the kimchi juice as well.\\n\\n9\\n00:00:51,200 --> 00:00:55,880\\nThen add into the mixture!!\\n\\n10\\n00:00:56,740 --> 00:01:03,480\\nI’m going to add pork belly oil to the dumplings. Extra pork oil makes juicy dumpling!!\\n\\n11\\n00:01:03,820 --> 00:01:06,160\\nGrill the pork belly!! You can use a pen or air-fryer.\\n\\n12\\n00:01:06,180 --> 00:01:08,840\\nI used air-fryer. It’s a little more comfortable.\\n\\n13\\n00:01:17,960 --> 00:01:25,100\\nSet air-fryer with 180 degree and cook pork belly for 15 mins.\\n\\n14\\n00:01:29,380 --> 00:01:37,220\\nNow cook bean sprout. Make sure add salt to the water.\\n\\n15\\n00:01:40,540 --> 00:01:54,040\\nAnd make sure wait for the water to boil!! Bean sprout makes sure cook with boiling water. And add bean sprout.\\n\\n16\\n00:02:03,660 --> 00:02:10,140\\nCook until the bean sprout is slightly change to light color.\\n\\n17\\n00:02:12,980 --> 00:02:21,780\\nIf the bean sprouts are cooked, rinse them in cold water.\\n\\n18\\n00:02:24,600 --> 00:02:29,420\\nMake sure to drain the rinsed bean sprouts.\\n\\n19\\n00:02:32,660 --> 00:02:38,620\\nCut the bean sprouts into a good size to mix with the dumpling fillings.\\n\\n20\\n00:02:42,760 --> 00:02:45,280\\nThen, please add it to the filling mix.\\n\\n21\\n00:02:48,160 --> 00:02:51,740\\nOk! pork oil is ready!!\\n\\n22\\n00:02:52,860 --> 00:02:55,520\\nNow add all the seasoning and mix all ingredients.\\n\\n23\\n00:02:55,660 --> 00:02:57,020\\n1. Pork oil\\n\\n24\\n00:02:57,760 --> 00:03:13,080\\n2. add egg, garlic, ginger, soy sauce, kimchi juices\\n\\n25\\n00:03:15,600 --> 00:03:27,200\\n3. black pepper will helps pork flavour.                               4. The sesame oil makes the dumpling flavor even more!! 5. Lastly, add fish sauce for seasoning.\\n\\n26\\n00:03:29,640 --> 00:03:35,100\\nNow you can mix!! Then dumpling mix is READY!!!!\\n\\n27\\n00:03:37,840 --> 00:03:43,900\\nNow Dumping Time!! Please prepare dumpling skins!!\\n\\n28\\n00:03:51,980 --> 00:03:58,560\\n1/2 Tbs of fillings are suitable for 1 dumpling.\\n\\n29\\n00:03:59,640 --> 00:04:08,620\\nBTW, the other mixtures next to it are bulgogi mix. I made with Bulgogi instead of pork mince and kimchi, and fresh chopped garlic chive instead of bean sprout. The rest of the ingredients are the same.\\n\\n30\\n00:04:09,680 --> 00:04:17,880\\nMake the shape of the dumplings to your liking. Be CREATIVELY!!\\n\\n31\\n00:04:20,620 --> 00:04:25,160\\nOne more time~~~\\n\\n32\\n00:04:34,820 --> 00:04:36,540\\nVoila~~~~~\\n\\n33\\n00:04:38,860 --> 00:04:41,980\\nI think, i did a good job lol\\n\\n34\\n00:04:43,740 --> 00:04:46,420\\nI love steamed dumpling so I prepared a steamer. But you can pen frying if you prefer.\\n\\n35\\n00:04:46,700 --> 00:04:49,120\\nPlease steam the dumplings when steamer is ready. i cooked for 9 mins with boiling water steamer.\\n\\n36\\n00:04:49,620 --> 00:04:52,560\\nMake sure it cooks through because it contained pork.\\n\\n37\\n00:04:52,840 --> 00:05:04,680\\nMake sure use wet clean towel under dumplings. it makes dumpling doesn’t get stick on tray and keep moisture.\\n\\n38\\n00:05:08,260 --> 00:05:19,180\\nSteam the dumplings for 9 mins when steamer water starts to boil.\\n\\n39\\n00:05:24,140 --> 00:05:26,300\\nNOW ..\\n\\n40\\n00:05:27,800 --> 00:05:30,760\\nOMG!!! it looks amazing!!!\\n\\n41\\n00:05:37,500 --> 00:05:40,500\\nCan’t wait to taste!!\\n\\n42\\n00:05:44,520 --> 00:05:48,440\\nLet’s taste!!! Kimchi Mandoo first!!\\n\\n43\\n00:05:49,480 --> 00:05:51,440\\nIt’s really hot!!\\n\\n44\\n00:05:51,680 --> 00:05:55,220\\nI can’t even hold..lol\\n\\n45\\n00:05:55,680 --> 00:06:00,820\\ni’ll try Bulgogi mandoo as well.\\n\\n46\\n00:06:03,840 --> 00:06:05,180\\nIt’s so juicy~~\\n\\n47\\n00:06:05,260 --> 00:06:06,860\\nDo you see the how juicy it is?? lol\\n\\n48\\n00:06:07,940 --> 00:06:09,520\\nOMG!! it’s so hot~~\\n\\n49\\n00:06:11,300 --> 00:06:16,300\\nIt is really tasty!!\\n\\n50\\n00:06:20,000 --> 00:06:25,840\\nThank you for watching!!\\n\\n51\\n00:06:26,220 --> 00:06:31,020\\nPlease subscribe and like if you happy with this video!! Chao~~\\n\\n',\n",
       " 'length': 386.14,\n",
       " 'audio_file': '/weka/huongn/ow_full/00000009/i-SR-1hw0EU/i-SR-1hw0EU.m4a',\n",
       " 'mach_content': 'WEBVTT\\nKind: captions\\nLanguage: en\\n\\n00:00:11.770 --> 00:02:18.510 align:start position:0%\\n \\n[Music]\\n\\n00:02:18.510 --> 00:02:18.520 align:start position:0%\\n \\n \\n\\n00:02:18.520 --> 00:02:26.060 align:start position:0%\\n \\n[Music]\\n\\n00:02:26.060 --> 00:02:26.070 align:start position:0%\\n \\n \\n\\n00:02:26.070 --> 00:02:39.070 align:start position:0%\\n \\n[Music]\\n\\n00:02:39.070 --> 00:02:39.080 align:start position:0%\\n \\n \\n\\n00:02:39.080 --> 00:03:45.370 align:start position:0%\\n \\n[Music]\\n\\n00:03:45.370 --> 00:03:45.380 align:start position:0%\\n \\n \\n\\n00:03:45.380 --> 00:04:15.050 align:start position:0%\\n \\n[Music]\\n\\n00:04:15.050 --> 00:04:15.060 align:start position:0%\\n \\n \\n\\n00:04:15.060 --> 00:04:24.750 align:start position:0%\\n \\n[Music]\\n\\n00:04:24.750 --> 00:04:24.760 align:start position:0%\\n \\n \\n\\n00:04:24.760 --> 00:04:31.130 align:start position:0%\\n \\n[Music]\\n\\n00:04:31.130 --> 00:04:31.140 align:start position:0%\\n \\n \\n\\n00:04:31.140 --> 00:04:51.230 align:start position:0%\\n \\n[Music]\\n\\n00:04:51.230 --> 00:04:51.240 align:start position:0%\\n \\n \\n\\n00:04:51.240 --> 00:04:56.860 align:start position:0%\\n \\n[Music]\\n\\n00:04:56.860 --> 00:04:56.870 align:start position:0%\\n \\n \\n\\n00:04:56.870 --> 00:06:13.210 align:start position:0%\\n \\n[Music]\\n\\n00:06:13.210 --> 00:06:13.220 align:start position:0%\\n \\n \\n\\n00:06:13.220 --> 00:06:19.300 align:start position:0%\\n \\n[Music]\\n\\n00:06:19.300 --> 00:06:19.310 align:start position:0%\\n \\n \\n\\n00:06:19.310 --> 00:06:32.329 align:start position:0%\\n \\n[Music]\\n\\n',\n",
       " 'id': 'i-SR-1hw0EU',\n",
       " 'man_mach_score': 0.11444205790758133}"
      ]
     },
     "execution_count": 8,
     "metadata": {},
     "output_type": "execute_result"
    }
   ],
   "source": [
    "data[0]"
   ]
  },
  {
   "cell_type": "code",
   "execution_count": 9,
   "id": "62ccc126",
   "metadata": {},
   "outputs": [
    {
     "data": {
      "text/html": [
       "<div>\n",
       "<style scoped>\n",
       "    .dataframe tbody tr th:only-of-type {\n",
       "        vertical-align: middle;\n",
       "    }\n",
       "\n",
       "    .dataframe tbody tr th {\n",
       "        vertical-align: top;\n",
       "    }\n",
       "\n",
       "    .dataframe thead th {\n",
       "        text-align: right;\n",
       "    }\n",
       "</style>\n",
       "<table border=\"1\" class=\"dataframe\">\n",
       "  <thead>\n",
       "    <tr style=\"text-align: right;\">\n",
       "      <th></th>\n",
       "      <th>subtitle_file</th>\n",
       "      <th>content</th>\n",
       "      <th>length</th>\n",
       "      <th>audio_file</th>\n",
       "      <th>mach_content</th>\n",
       "      <th>id</th>\n",
       "      <th>man_mach_score</th>\n",
       "    </tr>\n",
       "  </thead>\n",
       "  <tbody>\n",
       "    <tr>\n",
       "      <th>0</th>\n",
       "      <td>/weka/huongn/ow_full/00000009/i-SR-1hw0EU/i-SR...</td>\n",
       "      <td>1\\n00:00:04,880 --&gt; 00:00:10,400\\n\\n2\\n00:00:1...</td>\n",
       "      <td>386.140</td>\n",
       "      <td>/weka/huongn/ow_full/00000009/i-SR-1hw0EU/i-SR...</td>\n",
       "      <td>WEBVTT\\nKind: captions\\nLanguage: en\\n\\n00:00:...</td>\n",
       "      <td>i-SR-1hw0EU</td>\n",
       "      <td>0.114442</td>\n",
       "    </tr>\n",
       "    <tr>\n",
       "      <th>1</th>\n",
       "      <td>/weka/huongn/ow_full/00000004/dLs602Rte9g/dLs6...</td>\n",
       "      <td>1\\n00:00:03,940 --&gt; 00:00:08,440\\nEgg Dum Biry...</td>\n",
       "      <td>333.640</td>\n",
       "      <td>/weka/huongn/ow_full/00000004/dLs602Rte9g/dLs6...</td>\n",
       "      <td>WEBVTT\\nKind: captions\\nLanguage: en\\n\\n00:00:...</td>\n",
       "      <td>dLs602Rte9g</td>\n",
       "      <td>0.119514</td>\n",
       "    </tr>\n",
       "    <tr>\n",
       "      <th>2</th>\n",
       "      <td>/weka/huongn/ow_full/00000000/3993tVeKd-w/3993...</td>\n",
       "      <td>1\\n00:00:20,320 --&gt; 00:00:23,640\\nPlaza for sa...</td>\n",
       "      <td>14.620</td>\n",
       "      <td>/weka/huongn/ow_full/00000000/3993tVeKd-w/3993...</td>\n",
       "      <td>WEBVTT\\nKind: captions\\nLanguage: en\\n\\n00:00:...</td>\n",
       "      <td>3993tVeKd-w</td>\n",
       "      <td>0.129562</td>\n",
       "    </tr>\n",
       "    <tr>\n",
       "      <th>3</th>\n",
       "      <td>/weka/huongn/ow_full/00000006/49nEjKpdmxc/49nE...</td>\n",
       "      <td>1\\n00:00:00,000 --&gt; 00:00:02,000\\n\\n2\\n00:00:0...</td>\n",
       "      <td>36.003</td>\n",
       "      <td>/weka/huongn/ow_full/00000006/49nEjKpdmxc/49nE...</td>\n",
       "      <td>WEBVTT\\nKind: captions\\nLanguage: en\\n\\n00:00:...</td>\n",
       "      <td>49nEjKpdmxc</td>\n",
       "      <td>0.132286</td>\n",
       "    </tr>\n",
       "    <tr>\n",
       "      <th>4</th>\n",
       "      <td>/weka/huongn/ow_full/00000008/iV8LvOFznEY/iV8L...</td>\n",
       "      <td>1\\n00:00:09,948 --&gt; 00:00:11,812\\nThere was a ...</td>\n",
       "      <td>359.564</td>\n",
       "      <td>/weka/huongn/ow_full/00000008/iV8LvOFznEY/iV8L...</td>\n",
       "      <td>WEBVTT\\nKind: captions\\nLanguage: en\\n\\n00:00:...</td>\n",
       "      <td>iV8LvOFznEY</td>\n",
       "      <td>0.137795</td>\n",
       "    </tr>\n",
       "  </tbody>\n",
       "</table>\n",
       "</div>"
      ],
      "text/plain": [
       "                                       subtitle_file  \\\n",
       "0  /weka/huongn/ow_full/00000009/i-SR-1hw0EU/i-SR...   \n",
       "1  /weka/huongn/ow_full/00000004/dLs602Rte9g/dLs6...   \n",
       "2  /weka/huongn/ow_full/00000000/3993tVeKd-w/3993...   \n",
       "3  /weka/huongn/ow_full/00000006/49nEjKpdmxc/49nE...   \n",
       "4  /weka/huongn/ow_full/00000008/iV8LvOFznEY/iV8L...   \n",
       "\n",
       "                                             content   length  \\\n",
       "0  1\\n00:00:04,880 --> 00:00:10,400\\n\\n2\\n00:00:1...  386.140   \n",
       "1  1\\n00:00:03,940 --> 00:00:08,440\\nEgg Dum Biry...  333.640   \n",
       "2  1\\n00:00:20,320 --> 00:00:23,640\\nPlaza for sa...   14.620   \n",
       "3  1\\n00:00:00,000 --> 00:00:02,000\\n\\n2\\n00:00:0...   36.003   \n",
       "4  1\\n00:00:09,948 --> 00:00:11,812\\nThere was a ...  359.564   \n",
       "\n",
       "                                          audio_file  \\\n",
       "0  /weka/huongn/ow_full/00000009/i-SR-1hw0EU/i-SR...   \n",
       "1  /weka/huongn/ow_full/00000004/dLs602Rte9g/dLs6...   \n",
       "2  /weka/huongn/ow_full/00000000/3993tVeKd-w/3993...   \n",
       "3  /weka/huongn/ow_full/00000006/49nEjKpdmxc/49nE...   \n",
       "4  /weka/huongn/ow_full/00000008/iV8LvOFznEY/iV8L...   \n",
       "\n",
       "                                        mach_content           id  \\\n",
       "0  WEBVTT\\nKind: captions\\nLanguage: en\\n\\n00:00:...  i-SR-1hw0EU   \n",
       "1  WEBVTT\\nKind: captions\\nLanguage: en\\n\\n00:00:...  dLs602Rte9g   \n",
       "2  WEBVTT\\nKind: captions\\nLanguage: en\\n\\n00:00:...  3993tVeKd-w   \n",
       "3  WEBVTT\\nKind: captions\\nLanguage: en\\n\\n00:00:...  49nEjKpdmxc   \n",
       "4  WEBVTT\\nKind: captions\\nLanguage: en\\n\\n00:00:...  iV8LvOFznEY   \n",
       "\n",
       "   man_mach_score  \n",
       "0        0.114442  \n",
       "1        0.119514  \n",
       "2        0.129562  \n",
       "3        0.132286  \n",
       "4        0.137795  "
      ]
     },
     "execution_count": 9,
     "metadata": {},
     "output_type": "execute_result"
    }
   ],
   "source": [
    "import pandas as pd\n",
    "df = pd.DataFrame(data)\n",
    "df.head()"
   ]
  },
  {
   "cell_type": "code",
   "execution_count": 10,
   "id": "b829644b",
   "metadata": {},
   "outputs": [
    {
     "data": {
      "text/plain": [
       "(1304, 7)"
      ]
     },
     "execution_count": 10,
     "metadata": {},
     "output_type": "execute_result"
    }
   ],
   "source": [
    "percentile_25 = df[df[\"man_mach_score\"] < 0.85]\n",
    "percentile_25.shape"
   ]
  },
  {
   "cell_type": "code",
   "execution_count": 12,
   "id": "3e2303cf",
   "metadata": {},
   "outputs": [],
   "source": [
    "import json\n",
    "with open(\"manmach_data.json\", \"w\") as f:\n",
    "    json.dump(data[:10], f, indent=2)"
   ]
  },
  {
   "cell_type": "code",
   "execution_count": 16,
   "id": "c876415f",
   "metadata": {},
   "outputs": [
    {
     "name": "stdout",
     "output_type": "stream",
     "text": [
      "{'path': '/weka/huongn/ow_full/00000009/i-SR-1hw0EU/i-SR-1hw0EU.en.srt', 'text': '1\\n00:00:04,880 --> 00:00:10,400\\n\\n2\\n00:00:10,580 --> 00:00:14,680\\nkimchi 200g/ Pork mince 200g/ Pork belly 90g/ Tofu 160g/ Beansprout 150g\\n\\n3\\n00:00:14,800 --> 00:00:19,340\\nGarlic mince 2tsp/ Ginger mince 2tsp/ Kimchi juice 2tbs/ Black pepper/ Soy sauce 2tbs/ Fish sauce 1tbs/ Sesame oil 1tbs/ Dumpling skin\\n\\n4\\n00:00:20,440 --> 00:00:23,160\\nHi guys! I’m going to make Kim-Chi mandoo today.\\n\\n5\\n00:00:23,220 --> 00:00:25,240\\nMandoo is Korean style Dumpling!!\\n\\n6\\n00:00:25,480 --> 00:00:26,740\\nLet’s start!!\\n\\n7\\n00:00:26,920 --> 00:00:35,120\\nFirst, I’ll make Dumpling filling. First please mix pork mince, Tofu and Kimchi. Make sure drain moisture from tofu before mix.\\n\\n8\\n00:00:39,160 --> 00:00:44,500\\nChopped the kimchi, then remove the kimchi juice as well.\\n\\n9\\n00:00:51,200 --> 00:00:55,880\\nThen add into the mixture!!\\n\\n10\\n00:00:56,740 --> 00:01:03,480\\nI’m going to add pork belly oil to the dumplings. Extra pork oil makes juicy dumpling!!\\n\\n11\\n00:01:03,820 --> 00:01:06,160\\nGrill the pork belly!! You can use a pen or air-fryer.\\n\\n12\\n00:01:06,180 --> 00:01:08,840\\nI used air-fryer. It’s a little more comfortable.\\n\\n13\\n00:01:17,960 --> 00:01:25,100\\nSet air-fryer with 180 degree and cook pork belly for 15 mins.\\n\\n14\\n00:01:29,380 --> 00:01:37,220\\nNow cook bean sprout. Make sure add salt to the water.\\n\\n15\\n00:01:40,540 --> 00:01:54,040\\nAnd make sure wait for the water to boil!! Bean sprout makes sure cook with boiling water. And add bean sprout.\\n\\n16\\n00:02:03,660 --> 00:02:10,140\\nCook until the bean sprout is slightly change to light color.\\n\\n17\\n00:02:12,980 --> 00:02:21,780\\nIf the bean sprouts are cooked, rinse them in cold water.\\n\\n18\\n00:02:24,600 --> 00:02:29,420\\nMake sure to drain the rinsed bean sprouts.\\n\\n19\\n00:02:32,660 --> 00:02:38,620\\nCut the bean sprouts into a good size to mix with the dumpling fillings.\\n\\n20\\n00:02:42,760 --> 00:02:45,280\\nThen, please add it to the filling mix.\\n\\n21\\n00:02:48,160 --> 00:02:51,740\\nOk! pork oil is ready!!\\n\\n22\\n00:02:52,860 --> 00:02:55,520\\nNow add all the seasoning and mix all ingredients.\\n\\n23\\n00:02:55,660 --> 00:02:57,020\\n1. Pork oil\\n\\n24\\n00:02:57,760 --> 00:03:13,080\\n2. add egg, garlic, ginger, soy sauce, kimchi juices\\n\\n25\\n00:03:15,600 --> 00:03:27,200\\n3. black pepper will helps pork flavour.                               4. The sesame oil makes the dumpling flavor even more!! 5. Lastly, add fish sauce for seasoning.\\n\\n26\\n00:03:29,640 --> 00:03:35,100\\nNow you can mix!! Then dumpling mix is READY!!!!\\n\\n27\\n00:03:37,840 --> 00:03:43,900\\nNow Dumping Time!! Please prepare dumpling skins!!\\n\\n28\\n00:03:51,980 --> 00:03:58,560\\n1/2 Tbs of fillings are suitable for 1 dumpling.\\n\\n29\\n00:03:59,640 --> 00:04:08,620\\nBTW, the other mixtures next to it are bulgogi mix. I made with Bulgogi instead of pork mince and kimchi, and fresh chopped garlic chive instead of bean sprout. The rest of the ingredients are the same.\\n\\n30\\n00:04:09,680 --> 00:04:17,880\\nMake the shape of the dumplings to your liking. Be CREATIVELY!!\\n\\n31\\n00:04:20,620 --> 00:04:25,160\\nOne more time~~~\\n\\n32\\n00:04:34,820 --> 00:04:36,540\\nVoila~~~~~\\n\\n33\\n00:04:38,860 --> 00:04:41,980\\nI think, i did a good job lol\\n\\n34\\n00:04:43,740 --> 00:04:46,420\\nI love steamed dumpling so I prepared a steamer. But you can pen frying if you prefer.\\n\\n35\\n00:04:46,700 --> 00:04:49,120\\nPlease steam the dumplings when steamer is ready. i cooked for 9 mins with boiling water steamer.\\n\\n36\\n00:04:49,620 --> 00:04:52,560\\nMake sure it cooks through because it contained pork.\\n\\n37\\n00:04:52,840 --> 00:05:04,680\\nMake sure use wet clean towel under dumplings. it makes dumpling doesn’t get stick on tray and keep moisture.\\n\\n38\\n00:05:08,260 --> 00:05:19,180\\nSteam the dumplings for 9 mins when steamer water starts to boil.\\n\\n39\\n00:05:24,140 --> 00:05:26,300\\nNOW ..\\n\\n40\\n00:05:27,800 --> 00:05:30,760\\nOMG!!! it looks amazing!!!\\n\\n41\\n00:05:37,500 --> 00:05:40,500\\nCan’t wait to taste!!\\n\\n42\\n00:05:44,520 --> 00:05:48,440\\nLet’s taste!!! Kimchi Mandoo first!!\\n\\n43\\n00:05:49,480 --> 00:05:51,440\\nIt’s really hot!!\\n\\n44\\n00:05:51,680 --> 00:05:55,220\\nI can’t even hold..lol\\n\\n45\\n00:05:55,680 --> 00:06:00,820\\ni’ll try Bulgogi mandoo as well.\\n\\n46\\n00:06:03,840 --> 00:06:05,180\\nIt’s so juicy~~\\n\\n47\\n00:06:05,260 --> 00:06:06,860\\nDo you see the how juicy it is?? lol\\n\\n48\\n00:06:07,940 --> 00:06:09,520\\nOMG!! it’s so hot~~\\n\\n49\\n00:06:11,300 --> 00:06:16,300\\nIt is really tasty!!\\n\\n50\\n00:06:20,000 --> 00:06:25,840\\nThank you for watching!!\\n\\n51\\n00:06:26,220 --> 00:06:31,020\\nPlease subscribe and like if you happy with this video!! Chao~~\\n\\n', 'duration': 386.14, 'audio_file': '/weka/huongn/ow_full/00000009/i-SR-1hw0EU/i-SR-1hw0EU.m4a', 'mach_content': 'WEBVTT\\nKind: captions\\nLanguage: en\\n\\n00:00:11.770 --> 00:02:18.510 align:start position:0%\\n \\n[Music]\\n\\n00:02:18.510 --> 00:02:18.520 align:start position:0%\\n \\n \\n\\n00:02:18.520 --> 00:02:26.060 align:start position:0%\\n \\n[Music]\\n\\n00:02:26.060 --> 00:02:26.070 align:start position:0%\\n \\n \\n\\n00:02:26.070 --> 00:02:39.070 align:start position:0%\\n \\n[Music]\\n\\n00:02:39.070 --> 00:02:39.080 align:start position:0%\\n \\n \\n\\n00:02:39.080 --> 00:03:45.370 align:start position:0%\\n \\n[Music]\\n\\n00:03:45.370 --> 00:03:45.380 align:start position:0%\\n \\n \\n\\n00:03:45.380 --> 00:04:15.050 align:start position:0%\\n \\n[Music]\\n\\n00:04:15.050 --> 00:04:15.060 align:start position:0%\\n \\n \\n\\n00:04:15.060 --> 00:04:24.750 align:start position:0%\\n \\n[Music]\\n\\n00:04:24.750 --> 00:04:24.760 align:start position:0%\\n \\n \\n\\n00:04:24.760 --> 00:04:31.130 align:start position:0%\\n \\n[Music]\\n\\n00:04:31.130 --> 00:04:31.140 align:start position:0%\\n \\n \\n\\n00:04:31.140 --> 00:04:51.230 align:start position:0%\\n \\n[Music]\\n\\n00:04:51.230 --> 00:04:51.240 align:start position:0%\\n \\n \\n\\n00:04:51.240 --> 00:04:56.860 align:start position:0%\\n \\n[Music]\\n\\n00:04:56.860 --> 00:04:56.870 align:start position:0%\\n \\n \\n\\n00:04:56.870 --> 00:06:13.210 align:start position:0%\\n \\n[Music]\\n\\n00:06:13.210 --> 00:06:13.220 align:start position:0%\\n \\n \\n\\n00:06:13.220 --> 00:06:19.300 align:start position:0%\\n \\n[Music]\\n\\n00:06:19.300 --> 00:06:19.310 align:start position:0%\\n \\n \\n\\n00:06:19.310 --> 00:06:32.329 align:start position:0%\\n \\n[Music]\\n\\n', 'id': 'i-SR-1hw0EU', 'man_mach_score': 0.11444205790758133}\n",
      "{'path': '/weka/huongn/ow_full/00000004/dLs602Rte9g/dLs602Rte9g.en-IN.srt', 'text': '1\\n00:00:03,940 --> 00:00:08,440\\nEgg Dum Biryani\\n\\n2\\n00:00:08,820 --> 00:00:14,580\\nEggs\\n\\n3\\n00:00:15,060 --> 00:00:23,320\\nCoriander Leaves\\n\\n4\\n00:00:23,960 --> 00:00:32,660\\nCloves - 10, Cinnamon - 2  and Cardamom - 2\\n\\n5\\n00:00:33,060 --> 00:00:39,200\\nGinger and Garlic Cloves\\n\\n6\\n00:00:43,100 --> 00:00:52,500\\nAdd  Ginger, Garlic Cloves,  powder of Cloves - 10, Cinnamon - 2  and Cardamom - 2  in blender\\n\\n7\\n00:00:52,720 --> 00:01:00,740\\nChopped Coriander Leaves - 1 Cup\\n\\n8\\n00:01:01,280 --> 00:01:08,900\\nBlend well untill for smooth paste. I have prepared masala more for other dish also . But here will use only 2 tsp of masala.\\n\\n9\\n00:01:09,440 --> 00:01:22,880\\nAdd 4 tsp of Oil into heavy bottom Pan\\n\\n10\\n00:01:24,940 --> 00:01:31,100\\nOnce Oil hot add Cloves - 1, Cinnamon - 1  and Cardamom - 1\\n\\n11\\n00:01:33,820 --> 00:01:45,700\\nSlicely Chopped Onions - 2 Medium\\n\\n12\\n00:01:47,580 --> 00:01:57,420\\nFry it well untill it turns into golden brown colour\\n\\n13\\n00:01:57,920 --> 00:02:10,220\\nAdd 2 tsp of prepared Masala Paste\\n\\n14\\n00:02:10,780 --> 00:02:32,140\\nFry it well untill  the raw smell goes off\\n\\n15\\n00:02:33,320 --> 00:02:39,760\\nSalt For Taste \\n\\n16\\n00:02:40,280 --> 00:02:48,200\\nRed Chilli Powder - 2 tsp\\n\\n17\\n00:02:52,800 --> 00:03:27,480\\nMix it well and cook it for 10 mins\\n\\n18\\n00:03:28,080 --> 00:03:33,000\\nAdd Boiled Eggs into this mixture\\n\\n19\\n00:03:33,280 --> 00:03:47,320\\nMix gently and coat the mixture well to Eggs and cook it for 5 mins\\n\\n20\\n00:03:47,580 --> 00:03:51,520\\nAdd 3 tsp of Food Colour  into water and add it in mixture\\n\\n21\\n00:03:52,120 --> 00:04:13,260\\nCook it for 5 mins\\n\\n22\\n00:04:14,100 --> 00:04:40,100\\nOnce its cooked take out the eggs on separate plate\\n\\n23\\n00:04:40,680 --> 00:04:55,760\\nAdd 80% of Cooked Rice into the mixture\\n\\n24\\n00:04:56,460 --> 00:04:58,120\\nMix it well\\n\\n25\\n00:04:59,640 --> 00:05:05,760\\nPlace the Fried Eggs on top of the rice\\n\\n26\\n00:05:06,460 --> 00:05:15,040\\nCover it with Lid/Plate and put some weight on it to hold heat and cook it for 10 mins\\n\\n27\\n00:05:21,500 --> 00:05:32,060\\nEgg Dum Biryani is ready to serve hot\\n\\n28\\n00:05:32,240 --> 00:05:37,580\\nIt can be served with DalCha/Gongura Bhaji/Raitha\\n\\n', 'duration': 333.64, 'audio_file': '/weka/huongn/ow_full/00000004/dLs602Rte9g/dLs602Rte9g.m4a', 'mach_content': 'WEBVTT\\nKind: captions\\nLanguage: en\\n\\n00:00:00.930 --> 00:01:05.530 align:start position:0%\\n \\n[Music]\\n\\n00:01:05.530 --> 00:01:05.540 align:start position:0%\\n \\n \\n\\n00:01:05.540 --> 00:01:12.080 align:start position:0%\\n \\nyou\\n\\n00:01:12.080 --> 00:01:12.090 align:start position:0%\\n \\n \\n\\n00:01:12.090 --> 00:01:16.290 align:start position:0%\\n \\nyou\\n\\n00:01:16.290 --> 00:01:16.300 align:start position:0%\\n \\n \\n\\n00:01:16.300 --> 00:02:03.800 align:start position:0%\\n \\n[Music]\\n\\n00:02:03.800 --> 00:02:03.810 align:start position:0%\\n \\n \\n\\n00:02:03.810 --> 00:02:09.379 align:start position:0%\\n \\nyou\\n\\n00:02:09.379 --> 00:02:09.389 align:start position:0%\\n \\n \\n\\n00:02:09.389 --> 00:05:39.910 align:start position:0%\\n \\n[Music]\\n\\n', 'id': 'dLs602Rte9g', 'man_mach_score': 0.11951418220996857}\n",
      "{'path': '/weka/huongn/ow_full/00000000/3993tVeKd-w/3993tVeKd-w.en-US.srt', 'text': '1\\n00:00:20,320 --> 00:00:23,640\\nPlaza for sale at Model town link road Lahore,\\nPakistan\\n\\n2\\n00:00:23,640 --> 00:00:24,960\\nBest opportunity for investment\\n\\n3\\n00:00:24,960 --> 00:00:26,619\\nTotal land area 20.75 Marla\\n\\n4\\n00:00:26,619 --> 00:00:28,619\\nTotal 6 floors alongwith 2 basements\\n\\n5\\n00:00:28,619 --> 00:00:29,949\\nOwn transfer own parking\\n\\n6\\n00:00:29,949 --> 00:00:31,939\\nTotal Rent income 1.9 Million monthly\\n\\n7\\n00:00:31,939 --> 00:00:32,939\\nDemand 2,093,431 USD\\n\\n8\\n00:00:32,939 --> 00:00:33,939\\nContact Ch.\\n\\n9\\n00:00:33,939 --> 00:00:34,939\\nAbrar Hussain\\n\\n10\\n00:00:34,939 --> 00:00:34,940\\n+923004335205\\n\\n', 'duration': 14.62, 'audio_file': '/weka/huongn/ow_full/00000000/3993tVeKd-w/3993tVeKd-w.m4a', 'mach_content': 'WEBVTT\\nKind: captions\\nLanguage: en\\n\\n00:00:00.000 --> 00:00:01.250 align:start position:0%\\n \\nforeign\\n\\n00:00:01.250 --> 00:00:01.260 align:start position:0%\\nforeign\\n \\n\\n00:00:01.260 --> 00:00:14.990 align:start position:0%\\nforeign\\n[Music]\\n\\n00:00:14.990 --> 00:00:15.000 align:start position:0%\\n \\n \\n\\n00:00:15.000 --> 00:00:34.190 align:start position:0%\\n \\n[Music]\\n\\n00:00:34.190 --> 00:00:34.200 align:start position:0%\\n \\n \\n\\n00:00:34.200 --> 00:00:36.860 align:start position:0%\\n \\nthank<00:00:34.559><c> you</c>\\n\\n', 'id': '3993tVeKd-w', 'man_mach_score': 0.12956184148788452}\n",
      "{'path': '/weka/huongn/ow_full/00000006/49nEjKpdmxc/49nEjKpdmxc.en.srt', 'text': '1\\n00:00:00,000 --> 00:00:02,000\\n\\n2\\n00:00:05,659 --> 00:00:07,659\\njb Double Sided Box Type Met Polypropylene Film Capacitor reach to 2000VDC\\n\\n3\\n00:00:10,835 --> 00:00:12,446\\nCompare with JFQ series, JFQD is Met Polypropylene Film Capacitor\\n\\n4\\n00:00:12,447 --> 00:00:14,447\\nwith double sided metallized polypropylene structure can safely withstand\\n\\n5\\n00:00:14,925 --> 00:00:16,925\\nhigh pressure environments and widely used in high voltage\\n\\n6\\n00:00:17,381 --> 00:00:19,381\\nhigh frequency and pulse circuit\\n\\n7\\n00:00:19,974 --> 00:00:24,625\\nWe can reach to 2000VDC and temperature can reach to 105C\\n\\n8\\n00:00:33,256 --> 00:00:36,003\\nJFQD - Double Sided Box Type Met Polypropylene Film Capacitor\\nFeatures:\\n•Metallized structure, widely used in high voltage, high frequency and pulse circuit.\\n•Negative temperature coefficient of capacitance.\\n•Excellent active and passive flame resistant abilities.\\n•Low loss and small inherent temperature rise.\\n\\n', 'duration': 36.003, 'audio_file': '/weka/huongn/ow_full/00000006/49nEjKpdmxc/49nEjKpdmxc.m4a', 'mach_content': 'WEBVTT\\nKind: captions\\nLanguage: en\\n\\n00:00:00.480 --> 00:00:51.510 align:start position:0%\\n \\n[Music]\\n\\n00:00:51.510 --> 00:00:51.520 align:start position:0%\\n[Music]\\n \\n\\n00:00:51.520 --> 00:00:53.600 align:start position:0%\\n[Music]\\nyou\\n\\n', 'id': '49nEjKpdmxc', 'man_mach_score': 0.13228565454483032}\n",
      "{'path': '/weka/huongn/ow_full/00000008/iV8LvOFznEY/iV8LvOFznEY.en-US.srt', 'text': '1\\n00:00:09,948 --> 00:00:11,812\\nThere was a temple in a city,\\n\\n2\\n00:00:11,903 --> 00:00:17,259\\nevery day a large number of devotees came to that temple from inside and outside the city.\\n\\n3\\n00:00:17,259 --> 00:00:20,524\\nAn old beggar used to beg in front of the temple.\\n\\n4\\n00:00:20,524 --> 00:00:26,520\\nThe beggars received from the devotees who came to the temple and the priests of the temple used to give him fruit offerings on certain days.\\n\\n5\\n00:00:26,596 --> 00:00:29,805\\nThe old beggar was very annoyed\\nabout his life\\n\\n6\\n00:00:29,805 --> 00:00:33,658\\nbecause he had a hard time because he had no money.\\n\\n7\\n00:00:33,779 --> 00:00:38,091\\nEvery day he would complain to the temple god for his troubles.\\n\\n8\\n00:00:38,227 --> 00:00:41,750\\nthe beggar stood in front of the temple and looked at the statue\\n\\n9\\n00:00:41,750 --> 00:00:43,553\\nHow beautiful is your life?\\n\\n10\\n00:00:43,644 --> 00:00:49,336\\nYou are comfortable in one place in the temple, you don\\'t have to suffer from stormy rain or sun at all.\\n\\n11\\n00:00:49,412 --> 00:00:53,537\\nAnd look at me, living in a very difficult situation.\\n\\n12\\n00:00:53,537 --> 00:01:00,039\\nI beg all day in my old age for only four rice with stormy sun on my head.\\n\\n13\\n00:01:00,039 --> 00:01:03,162\\nIf only my life were like yours. Then I would have survived.\\n\\n14\\n00:01:03,162 --> 00:01:09,086\\nOne day an old beggar suddenly heard something from the idol of the temple.\\n\\n15\\n00:01:09,237 --> 00:01:11,546\\nGod said, not what you think.\\n\\n16\\n00:01:11,712 --> 00:01:13,674\\nMy life is not easy at all.\\n\\n17\\n00:01:13,674 --> 00:01:17,470\\nI have a lot to look after and a lot to arrange.\\n\\n18\\n00:01:17,470 --> 00:01:21,684\\nThe beggar said your job is easy. Like you, I can stand here all day.\\n\\n19\\n00:01:21,760 --> 00:01:24,309\\nThe idol of the temple answered, Can you do this?\\n\\n20\\n00:01:24,400 --> 00:01:26,590\\nThis requires a lot of patience.\\n\\n21\\n00:01:26,590 --> 00:01:31,360\\nThe beggar said I can do your job for sure. Give me a chance one day.\\n\\n22\\n00:01:31,466 --> 00:01:32,821\\nGod agreed;\\n\\n23\\n00:01:32,821 --> 00:01:36,328\\nAll right. Tomorrow you and I will change our place,\\n\\n24\\n00:01:36,388 --> 00:01:40,119\\nyou will stand in my place and I will begging your place\\n\\n25\\n00:01:40,119 --> 00:01:42,530\\nThe beggar agreed to the word of God.\\n\\n26\\n00:01:42,530 --> 00:01:46,159\\nThe idol of the temple said, OK, but I have a condition.\\n\\n27\\n00:01:46,325 --> 00:01:47,341\\nlisten carefully.\\n\\n28\\n00:01:47,341 --> 00:01:51,612\\nCome to the temple all day and tell you many things.\\n\\n29\\n00:01:51,718 --> 00:01:54,388\\nSome will call you good, some will call you bad.\\n\\n30\\n00:01:54,388 --> 00:01:57,291\\nYou have to be patient and listen to everyone\\n\\n31\\n00:01:57,397 --> 00:01:59,331\\nand not react.\\n\\n32\\n00:01:59,331 --> 00:02:00,674\\nThe condition is that you can\\'t say anything.\\n\\n33\\n00:02:00,674 --> 00:02:03,617\\nWhatever happens, will remain silent.\\n\\n34\\n00:02:03,617 --> 00:02:07,073\\nThe beggar replied, \"I am ready to accept all the conditions.\"\\n\\n35\\n00:02:07,073 --> 00:02:12,217\\nThe next day, God and the beggar exchanged their lives and changed their place.\\n\\n36\\n00:02:12,323 --> 00:02:14,846\\nThe beggar went and stood inside the idol\\n\\n37\\n00:02:14,922 --> 00:02:17,132\\nand God went to the beggar\\'s place.\\n\\n38\\n00:02:17,132 --> 00:02:21,624\\nAfter a while a rich man came to the temple and prayed to God,\\n\\n39\\n00:02:21,624 --> 00:02:24,101\\nI am going to start a new work.\\n\\n40\\n00:02:24,101 --> 00:02:29,690\\nBless me that I get this job and by doing this I can gain more.\\n\\n41\\n00:02:29,796 --> 00:02:35,677\\nAfter praying, he bowed down, and at that moment ,the bag of money lying on his waist fell to the ground.\\n\\n42\\n00:02:35,677 --> 00:02:39,076\\nWhen the rich man was leaving without paying attention to the bag of money,\\n\\n43\\n00:02:39,076 --> 00:02:43,103\\nThe beggar of the temple standing in the place of God thought\\n\\n44\\n00:02:43,103 --> 00:02:45,873\\nthat he would call him and talk about his bag of money\\n\\n45\\n00:02:45,873 --> 00:02:49,691\\nbut he remained silent on the condition that he was silent.\\n\\n46\\n00:02:49,691 --> 00:02:52,586\\nAfter that a poor man came and said to God\\n\\n47\\n00:02:52,586 --> 00:02:54,792\\nI am very poor and in dire need,\\n\\n48\\n00:02:54,792 --> 00:02:57,309\\nI have no money to run this family,\\n\\n49\\n00:02:57,309 --> 00:03:01,504\\non top of that I have to arrange medicine for my sick daughter.\\n\\n50\\n00:03:01,504 --> 00:03:04,233\\nI don\\'t understand how to handle all this, God.\\n\\n51\\n00:03:04,233 --> 00:03:08,018\\nPlease do something to arrange my money.\\n\\n52\\n00:03:08,109 --> 00:03:12,000\\nWhile praying, the poor man saw the bag.\\n\\n53\\n00:03:12,000 --> 00:03:17,491\\nHe picked up the money bag and said, Thank you, God, you heard my prayer quickly.\\n\\n54\\n00:03:17,491 --> 00:03:21,851\\nWith this money I will be able to buy some medicine for my daughter.\\n\\n55\\n00:03:21,851 --> 00:03:26,433\\nThe beggar in the place of God saw this\\nand tried to told the poor man\\n\\n56\\n00:03:26,433 --> 00:03:28,054\\nthat the bag of money belonged to someone else\\n\\n57\\n00:03:28,145 --> 00:03:30,460\\nand God did not give him that bag of money,\\n\\n58\\n00:03:30,596 --> 00:03:33,537\\nbut he was forced to remain silent on condition.\\n\\n59\\n00:03:33,537 --> 00:03:37,463\\nSoon after, another man came to the temple, who was a good man.\\n\\n60\\n00:03:37,584 --> 00:03:49,010\\nhe came to pray to God for a safe journey and return as usual.\\n\\n61\\n00:03:49,010 --> 00:03:53,626\\nWhile he was praying, the rich man came to the temple with the police.\\n\\n62\\n00:03:53,626 --> 00:03:58,222\\nThe rich man showed the good man who was praying in the temple and told the police\\n\\n63\\n00:03:58,222 --> 00:04:00,527\\nthat this man had come to the temple after me.\\n\\n64\\n00:04:00,527 --> 00:04:03,870\\nHe stole my money bag. Arrest him.\\n\\n65\\n00:04:03,870 --> 00:04:07,890\\nThe good guy said he didn\\'t steal anyone\\'s money,\\n\\n66\\n00:04:07,981 --> 00:04:10,875\\nthe police could search his body if they wanted to.\\n\\n67\\n00:04:10,875 --> 00:04:15,203\\nThe police were preparing to arrest him without hearing anything.\\n\\n68\\n00:04:15,203 --> 00:04:18,780\\nThe beggar who had become God could no longer bear this injustice,\\n\\n69\\n00:04:18,780 --> 00:04:21,862\\nbut as he remembered the condition, he could not speak.\\n\\n70\\n00:04:21,862 --> 00:04:25,282\\nBut he thought that if he remained silent now, it would be a big mistake.\\n\\n71\\n00:04:25,282 --> 00:04:27,579\\nSo, he was forced to break his silence\\n\\n72\\n00:04:27,579 --> 00:04:30,709\\nand a voice came from the idol of God addressed to the police,\\n\\n73\\n00:04:30,709 --> 00:04:32,753\\nthe wrong person being caught,\\n\\n74\\n00:04:32,753 --> 00:04:34,971\\nthe bag of money not stolen.\\n\\n75\\n00:04:35,062 --> 00:04:38,651\\nA poor man who had come earlier had taken the bag of money.\\n\\n76\\n00:04:38,651 --> 00:04:39,946\\nI saw it all.\\n\\n77\\n00:04:39,946 --> 00:04:42,727\\nAfter hearing God\\'s word, the police released the good man\\n\\n78\\n00:04:42,727 --> 00:04:45,185\\nWhen God returned to the temple in the evening,\\n\\n79\\n00:04:45,306 --> 00:04:50,711\\nthe beggar standing in God\\'s place proudly recounted the details of the day,\\n\\n80\\n00:04:50,711 --> 00:04:53,011\\ntelling how he had resisted injustice\\n\\n81\\n00:04:53,011 --> 00:04:55,900\\nHearing his words, God said, what did you do?\\n\\n82\\n00:04:55,960 --> 00:04:59,512\\nI told you to stand silently as an idol.\\n\\n83\\n00:04:59,648 --> 00:05:02,689\\nBut by talking you have ruined my whole plan.\\n\\n84\\n00:05:02,689 --> 00:05:10,827\\nThe rich man made a lot of money all his life by cheating people, harming people, doing all kinds of bad things\\n\\n85\\n00:05:10,827 --> 00:05:14,685\\n.If the poor man got some money from it,\\n\\n86\\n00:05:14,776 --> 00:05:18,240\\nhis daughter would be better off and the sins of the merchant would be lessened.\\n\\n87\\n00:05:18,331 --> 00:05:24,000\\nThe man will not be able to return alive from work today because he will have a bike accident today\\n\\n88\\n00:05:24,000 --> 00:05:24,822\\nand he will die .\\n\\n89\\n00:05:24,822 --> 00:05:28,989\\nI wanted him to stay in jail for a few days after his arrest.\\n\\n90\\n00:05:29,367 --> 00:05:31,626\\nThe same thing happens with us,\\n\\n91\\n00:05:31,762 --> 00:05:36,100\\nwe as beggars only see what is happening in front of us,\\n\\n92\\n00:05:36,191 --> 00:05:40,827\\nwe never see the reality behind the events.\\n\\n93\\n00:05:40,934 --> 00:05:45,840\\nWhether it is God or someone who manages or considers every aspect of our lives,\\n\\n94\\n00:05:45,840 --> 00:05:48,734\\nsomeone in our family or in our workplace,\\n\\n95\\n00:05:48,734 --> 00:05:52,411\\nthey make plans and manage our lives\\n\\n96\\n00:05:52,411 --> 00:05:55,870\\nso that all things can go smoothly,\\n\\n97\\n00:05:55,870 --> 00:05:58,096\\nwithout harming anyone.\\n\\n98\\n00:05:58,096 --> 00:06:01,218\\nWe often do not understand the plans.\\n\\n99\\n00:06:01,218 --> 00:06:03,256\\nWhen something goes wrong with us\\n\\n100\\n00:06:03,256 --> 00:06:05,520\\nor something is not going our way,\\n\\n101\\n00:06:05,520 --> 00:06:09,512\\nwe lose our temper and start blaming.\\n\\n', 'duration': 359.564, 'audio_file': '/weka/huongn/ow_full/00000008/iV8LvOFznEY/iV8LvOFznEY.m4a', 'mach_content': 'WEBVTT\\nKind: captions\\nLanguage: en\\n\\n00:00:00.660 --> 00:00:13.910 align:start position:0%\\n \\n[Music]\\n\\n00:00:13.910 --> 00:00:13.920 align:start position:0%\\n \\n \\n\\n00:00:13.920 --> 00:00:20.290 align:start position:0%\\n \\nforeign\\n\\n00:00:20.290 --> 00:00:20.300 align:start position:0%\\n \\n \\n\\n00:00:20.300 --> 00:00:51.029 align:start position:0%\\n \\n[Music]\\n\\n00:00:51.029 --> 00:00:51.039 align:start position:0%\\n \\n \\n\\n00:00:51.039 --> 00:01:17.030 align:start position:0%\\n \\nforeign\\n\\n00:01:17.030 --> 00:01:17.040 align:start position:0%\\n \\n \\n\\n00:01:17.040 --> 00:02:47.110 align:start position:0%\\n \\nforeign\\n\\n00:02:47.110 --> 00:02:47.120 align:start position:0%\\n \\n \\n\\n00:02:47.120 --> 00:02:54.430 align:start position:0%\\n \\nforeign\\n\\n00:02:54.430 --> 00:02:54.440 align:start position:0%\\n \\n \\n\\n00:02:54.440 --> 00:03:30.390 align:start position:0%\\n \\n[Music]\\n\\n00:03:30.390 --> 00:03:30.400 align:start position:0%\\n \\n \\n\\n00:03:30.400 --> 00:04:13.270 align:start position:0%\\n \\nis\\n\\n00:04:13.270 --> 00:04:13.280 align:start position:0%\\n \\n \\n\\n00:04:13.280 --> 00:05:06.230 align:start position:0%\\n \\nforeign\\n\\n00:05:06.230 --> 00:05:06.240 align:start position:0%\\n \\n \\n\\n00:05:06.240 --> 00:05:23.830 align:start position:0%\\n \\nforeign\\n\\n00:05:23.830 --> 00:05:23.840 align:start position:0%\\n \\n \\n\\n00:05:23.840 --> 00:06:04.469 align:start position:0%\\n \\nforeign\\n\\n00:06:04.469 --> 00:06:04.479 align:start position:0%\\n \\n \\n\\n00:06:04.479 --> 00:06:19.029 align:start position:0%\\n \\nforeign\\n\\n00:06:19.029 --> 00:06:19.039 align:start position:0%\\n \\n \\n\\n00:06:19.039 --> 00:06:21.840 align:start position:0%\\n \\nnamaskar\\n\\n', 'id': 'iV8LvOFznEY', 'man_mach_score': 0.13779526948928833}\n",
      "{'path': '/weka/huongn/ow_full/00000005/aWSUWbvw7gQ/aWSUWbvw7gQ.en.srt', 'text': '1\\n00:00:00,000 --> 00:00:09,086\\nFormer reality\\\\hstar Melyssa Ford suffered injuries in a nearly fatal car crash on Thursday, according to People magazine\\n\\n2\\n00:00:09,086 --> 00:00:24,172\\nThe star of Bravo’s 2014 series Blood, Sweat and Heels was driving on a Los Angeles freeway when an 18-wheeler truck clipped her back right tire while merging, causing Ford’s 2017 Jeep Wrangler Sahara Unlimited to flip over three times before eventually landing on the highway upside down\\n\\n3\\n00:00:24,172 --> 00:00:32,258\\nThe 41-year-old\\\\hsuffered\\\\ha fractured skull, bleeding on the brain and bodily abrasions\\n\\n4\\n00:00:32,258 --> 00:00:41,344\\nFord\\'s face and head\\\\hsustained a 10-inch cut, which doctors had to surgically close with stitches and staples\\n\\n5\\n00:00:41,344 --> 00:00:53,430\\nFord’s friend and fellow reality star Claudia Jordan, who formerly appeared on Bravo’s Real Housewives of Atlanta, shared photos of the horrific accident on Instagram, including one image in\\\\hwhich Ford’s vehicle is seen overturned\\n\\n6\\n00:00:53,430 --> 00:01:04,516\\n“It’s actually a miracle she survived,” Jordan wrote. “She doesn’t even remember this as she has a huge gash in her head and blood on the brain\\n\\n7\\n00:01:04,516 --> 00:01:12,602\\n\"Ford’s family members\\\\hshared graphic photos of the accident with People magazine\\n\\n8\\n00:01:12,602 --> 00:01:20,688\\nIn one photo, Ford’s Jeep is\\\\hstanding right-side-up with a smashed-in roof and front windshield\\n\\n9\\n00:01:20,688 --> 00:01:30,774\\nAnother photo shows Ford\\\\hwith an incredibly bloody face\\\\hlying limp on the concrete while witnesses and EMS workers attend to her\\n\\n10\\n00:01:30,774 --> 00:01:40,860\\nThe photos were captured by James Harris, a man who stopped to help Ford as he passed by the scene of the accident\\n\\n11\\n00:01:40,860 --> 00:01:50,946\\n\\\\hFord’s mother, Barbara Ford, who lives in Toronto,\\\\htold People that her family would do all they could to help the former model recover\\n\\n12\\n00:01:50,946 --> 00:02:00,032\\n“It’s so difficult in circumstances like these to live 2,500 miles away from my only daughter,” Barbara Ford said\\n\\n13\\n00:02:00,032 --> 00:02:14,118\\n“Melyssa is strong, always has been. We are going to get through this together.\"See all of the best photos of the week in these slideshowsThe Canadian model first rose to fame after appearing in hip-hop music videos, including Jay-Z’s 2000 hit, “Big Pimpin\\n\\n14\\n00:02:14,118 --> 00:02:27,204\\n” She later went on land a number of small roles in independent films and guest spots on TV series including Showtime’s Soul Food and Entourage on HBO\\\\hbefore appearing on two seasons of the Bravo reality show\\n\\n15\\n00:02:27,204 --> 00:02:38,290\\nFord’s family and friends are asking members of the public to come forward with any information they may have on the truck driver, who has not been identified\\n\\n16\\n00:02:38,290 --> 00:02:51,376\\nA GoFundMe page was also launched to help cover Ford’s medical care.  Model Melyssa Ford attends the Sports Illustrated & Jaguar Super Saturday VIP Event at The Diageo Liquid Cellar in New York City on February 1, 2014\\n\\n17\\n00:02:51,376 --> 00:03:00,462\\nFord was involved in a nearly fatal accident on June 28, 2018.   Craig Barritt/Getty Images\\n\\n', 'duration': 180.462, 'audio_file': '/weka/huongn/ow_full/00000005/aWSUWbvw7gQ/aWSUWbvw7gQ.m4a', 'mach_content': 'WEBVTT\\nKind: captions\\nLanguage: en\\n\\n00:00:12.400 --> 00:00:26.570 align:start position:0%\\n \\n[Music]\\n\\n00:00:26.570 --> 00:00:26.580 align:start position:0%\\n \\n \\n\\n00:00:26.580 --> 00:00:33.100 align:start position:0%\\n \\n[Music]\\n\\n00:00:33.100 --> 00:00:33.110 align:start position:0%\\n \\n \\n\\n00:00:33.110 --> 00:00:54.190 align:start position:0%\\n \\n[Music]\\n\\n00:00:54.190 --> 00:00:54.200 align:start position:0%\\n \\n \\n\\n00:00:54.200 --> 00:01:24.390 align:start position:0%\\n \\n[Music]\\n\\n00:01:24.390 --> 00:01:24.400 align:start position:0%\\n \\n \\n\\n00:01:24.400 --> 00:01:38.580 align:start position:0%\\n \\n[Music]\\n\\n00:01:38.580 --> 00:01:38.590 align:start position:0%\\n \\n \\n\\n00:01:38.590 --> 00:01:45.110 align:start position:0%\\n \\n[Music]\\n\\n00:01:45.110 --> 00:01:45.120 align:start position:0%\\n \\n \\n\\n00:01:45.120 --> 00:01:50.770 align:start position:0%\\n \\n[Music]\\n\\n00:01:50.770 --> 00:01:50.780 align:start position:0%\\n \\n \\n\\n00:01:50.780 --> 00:02:06.190 align:start position:0%\\n \\n[Music]\\n\\n00:02:06.190 --> 00:02:06.200 align:start position:0%\\n \\n \\n\\n00:02:06.200 --> 00:02:36.400 align:start position:0%\\n \\n[Music]\\n\\n00:02:36.400 --> 00:02:36.410 align:start position:0%\\n \\n \\n\\n00:02:36.410 --> 00:02:50.590 align:start position:0%\\n \\n[Music]\\n\\n00:02:50.590 --> 00:02:50.600 align:start position:0%\\n \\n \\n\\n00:02:50.600 --> 00:02:57.120 align:start position:0%\\n \\n[Music]\\n\\n00:02:57.120 --> 00:02:57.130 align:start position:0%\\n \\n \\n\\n00:02:57.130 --> 00:03:00.730 align:start position:0%\\n \\n[Music]\\n\\n00:03:00.730 --> 00:03:00.740 align:start position:0%\\n \\n \\n\\n00:03:00.740 --> 00:03:02.800 align:start position:0%\\n \\nyou\\n\\n', 'id': 'aWSUWbvw7gQ', 'man_mach_score': 0.1396859884262085}\n",
      "{'path': '/weka/huongn/ow_full/00000005/nPbcQUb1-_U/nPbcQUb1-_U.en.srt', 'text': '1\\n00:00:01,320 --> 00:00:08,820\\nCarissa & Douglas Properties\\nwww.CarissaAndDouglas.com\\n\\n2\\n00:00:13,480 --> 00:00:18,260\\nBuying Your Home\\nin\\nRidgefield, CT\\n\\n3\\n00:00:19,000 --> 00:00:24,480\\nFind Your Dream Home in Ridgefield, CT\\nColdwell Banker is a global real estate partner.\\n\\n4\\n00:00:26,840 --> 00:00:30,100\\nColdwell Banker Brand Power\\n#1 Online #1 on Social Media\\n\\n5\\n00:00:30,580 --> 00:00:32,740\\nColdwell Banker /NRT\\nOnline Power\\n\\n6\\n00:00:32,920 --> 00:00:37,800\\n101 million site visits to ColdwellBankerHomes.com\\n900 websites where properties are marketed\\n50 plus additional luxury\\n\\n7\\n00:00:38,260 --> 00:00:41,800\\nColdwell Banker Global Strength\\n92,000 Affiliated Agents\\n\\n8\\n00:00:42,080 --> 00:00:46,160\\n3000 Offices\\n47 Countries & Territories\\nColdwell Banker: A Leader in Luxury\\n28,700 $1M+ Property Transaction Sides\\n\\n9\\n00:00:46,420 --> 00:00:50,600\\nColdwell Banker: A Leader in Luxury\\n28,700 $1M+ Property Transaction Sides\\n\\n10\\n00:00:50,800 --> 00:00:52,220\\n$1.9M Average Sales Price of $1M Properties\\n\\n11\\n00:00:52,600 --> 00:00:55,540\\nColdwell Banker Proven Results\\n$242.6 Billion in United States Volume, 2017\\n\\n12\\n00:00:55,720 --> 00:00:58,800\\n$332,000 Average Sales Price\\n14.8% Higher than National Average\\n\\n13\\n00:00:58,900 --> 00:01:01,680\\n730,736 U.S. Transaction Sides, 2017\\n\\n14\\n00:01:01,680 --> 00:01:05,980\\n20+ Years at the Top: #1 Nationwide\\nNRT, LLC parent company of Coldwell Banker\\n\\n15\\n00:01:05,980 --> 00:01:09,760\\nRidgefield, CT Residential Real Estate\\nWhat do these numbers mean for you?\\nRidgefield, CT Coldwell Banker\\n\\n16\\n00:01:09,900 --> 00:01:13,300\\nColdwell Banker knows how to sell homes. And can help you find your dream home too.\\n\\n17\\n00:01:13,300 --> 00:01:15,200\\n\"A synergistic power team.\"\\n\"Best broker. Dream partners.\"\\n\\n18\\n00:01:15,200 --> 00:01:20,080\\n\"Amazing Experience. Beyond Thrilled\"\\n\"We Are So Happy!\"\\n\\n19\\n00:01:20,960 --> 00:01:26,980\\nContact us today: Carissa & Douglas Properties\\nwww.CarissaAndDouglas.com\\n\\n20\\n00:01:27,360 --> 00:01:32,100\\nColdwell Banker Residential Brokerage\\nProviding Exceptional Real Estate Service Since 2001\\n\\n21\\n00:01:32,260 --> 00:01:35,240\\nColdwellBankerHomes.com\\n\\n22\\n00:01:35,600 --> 00:01:45,320\\nTwitter Facebook Google Plus\\nWebsite Instagram Linked In YouTube\\n\\n23\\n00:01:45,320 --> 00:01:49,180\\nwww.CARISSAandDOUGLAS.com\\n\\n24\\n00:01:49,920 --> 00:01:54,760\\nSearch Our Website for\\nYOUR RIDGEFIELD DREAM HOME\\n\\n25\\n00:01:59,120 --> 00:02:10,480\\nwww.CARISSAandDOUGLAS.com\\nYour Ridgefield, CT Real Estate Partners\\n\\n', 'duration': 129.16, 'audio_file': '/weka/huongn/ow_full/00000005/nPbcQUb1-_U/nPbcQUb1-_U.m4a', 'mach_content': 'WEBVTT\\nKind: captions\\nLanguage: en\\n\\n00:00:09.130 --> 00:00:17.090 align:start position:0%\\n \\n[Music]\\n\\n00:00:17.090 --> 00:00:17.100 align:start position:0%\\n \\n \\n\\n00:00:17.100 --> 00:00:25.060 align:start position:0%\\n \\n[Music]\\n\\n00:00:25.060 --> 00:00:25.070 align:start position:0%\\n \\n \\n\\n00:00:25.070 --> 00:00:33.720 align:start position:0%\\n \\n[Music]\\n\\n00:00:33.720 --> 00:00:33.730 align:start position:0%\\n \\n \\n\\n00:00:33.730 --> 00:00:53.220 align:start position:0%\\n \\n[Music]\\n\\n00:00:53.220 --> 00:00:53.230 align:start position:0%\\n \\n \\n\\n00:00:53.230 --> 00:01:09.220 align:start position:0%\\n \\n[Music]\\n\\n00:01:09.220 --> 00:01:09.230 align:start position:0%\\n \\n \\n\\n00:01:09.230 --> 00:01:28.740 align:start position:0%\\n \\n[Music]\\n\\n00:01:28.740 --> 00:01:28.750 align:start position:0%\\n \\n \\n\\n00:01:28.750 --> 00:01:52.710 align:start position:0%\\n \\n[Music]\\n\\n00:01:52.710 --> 00:01:52.720 align:start position:0%\\n \\n \\n\\n00:01:52.720 --> 00:02:04.860 align:start position:0%\\n \\n[Music]\\n\\n00:02:04.860 --> 00:02:04.870 align:start position:0%\\n \\n \\n\\n00:02:04.870 --> 00:02:05.940 align:start position:0%\\n \\nyou\\n\\n00:02:05.940 --> 00:02:05.950 align:start position:0%\\nyou\\n \\n\\n00:02:05.950 --> 00:02:10.080 align:start position:0%\\nyou\\n[Music]\\n\\n', 'id': 'nPbcQUb1-_U', 'man_mach_score': 0.1408442258834839}\n",
      "{'path': '/weka/huongn/ow_full/00000002/POLn3YN0ZfE/POLn3YN0ZfE.en-zL7EZQmMa4Q.srt', 'text': '1\\n00:00:00,000 --> 00:00:07,000\\nHI GUYS THIS IS MY HOT STORY\\nTIME VIDEO AND IM GONNA TELL\\nTHE TIME WHEN MY MOM SOLD MY\\n\\n2\\n00:00:07,000 --> 00:00:14,000\\nprecious CHEESCAKE ON THE\\nDARKWEB.. TO MY DAD!\\n\\n3\\n00:00:14,000 --> 00:00:21,000\\nOK SO IT WAS A NORMAL AWESOME\\nDAY IN ALL OF THE MOUNTAINS\\n\\n4\\n00:00:21,000 --> 00:00:28,000\\nAND I GOT CHEESCAKE AT A\\nRESTURAUNT\\n\\n5\\n00:00:47,000 --> 00:00:54,000\\n?????????????\\nBUT THEN I ??????\\n\\n6\\n00:00:54,000 --> 00:01:01,000\\n??????????????????????\\n[something about taking the chesecake in\\na box home\\n\\n7\\n00:01:19,066 --> 00:01:26,066\\nAND\\nTHEN ?????????????????????????\\n\\n8\\n00:01:26,066 --> 00:01:33,066\\nSO I\\n\\n9\\n00:01:33,066 --> 00:01:40,066\\n[woke up the next morning and my\\ncheescake was gone?]\\n\\n10\\n00:01:55,033 --> 00:01:59,033\\nI WAS HORRIBLE INDESCRIBEABLE\\nSHOCK WHEN I  DESCOVERED MY\\nCHEESCAKE WAS GONE\\n\\n11\\n00:02:09,033 --> 00:02:13,033\\nSO I ASKED AROUND THE HOUSE\\nWHO DID IT, AND I WAS VERY\\nSUSPICIOUS OF MY MOM\\n\\n12\\n00:02:13,033 --> 00:02:17,033\\nSO I STALKED AND EAVESDROPPED\\nON HER AND I FOUND OUT SHE\\nWAS SELLING MY CHEESECAKE TO\\n\\n13\\n00:02:17,033 --> 00:02:21,033\\nMY DAD ON THE DARKWEB FOR\\nBITCOIN!!!!\\n\\n14\\n00:02:21,033 --> 00:02:25,033\\nI CALLED 911 AND THE POLICE GOT\\nINVOLVED\\n\\n15\\n00:02:25,033 --> 00:02:29,033\\nMY MOM AND DAD WAS ARRESTED\\nAND NOW IM AT A ADOPTION\\nCENTER.\\n\\n16\\n00:02:50,000 --> 00:02:57,000\\nSHARE YOUR HOT EPIC STORY IN\\nTHE COMMENTS\\n\\n', 'duration': 177.0, 'audio_file': '/weka/huongn/ow_full/00000002/POLn3YN0ZfE/POLn3YN0ZfE.m4a', 'mach_content': 'WEBVTT\\nKind: captions\\nLanguage: en\\n\\n00:00:54.970 --> 00:01:06.860 align:start position:0%\\n \\n[Music]\\n\\n00:01:06.860 --> 00:01:06.870 align:start position:0%\\n \\n \\n\\n00:01:06.870 --> 00:01:21.200 align:start position:0%\\n \\n[Music]\\n\\n00:01:21.200 --> 00:01:21.210 align:start position:0%\\n \\n \\n\\n00:01:21.210 --> 00:02:29.630 align:start position:0%\\n \\n[Music]\\n\\n00:02:29.630 --> 00:02:29.640 align:start position:0%\\n \\n \\n\\n00:02:29.640 --> 00:02:54.810 align:start position:0%\\n \\n[Music]\\n\\n00:02:54.810 --> 00:02:54.820 align:start position:0%\\n \\n \\n\\n00:02:54.820 --> 00:02:58.039 align:start position:0%\\n \\n[Music]\\n\\n', 'id': 'POLn3YN0ZfE', 'man_mach_score': 0.1456298530101776}\n",
      "{'path': '/weka/huongn/ow_full/00000000/48_u42JFNYs/48_u42JFNYs.en.srt', 'text': \"1\\n00:00:05,728 --> 00:00:11,452\\nWe have all read about Cheras, Cholas, Pandyas, and Pallavas\\nin our history class!\\n\\n2\\n00:00:11,882 --> 00:00:17,129\\nBut is the book Ponniyin Selvan only about the Cholas?\\n\\n3\\n00:00:17,596 --> 00:00:26,768\\nWe need to look into few interesting facts\\nto find the answer to this question!\\n\\n4\\n00:00:26,934 --> 00:00:36,895\\nDuring the reign of Karikala Cholan in the 2nd Century AD,\\nKallanai was built. \\n\\n5\\n00:00:37,050 --> 00:00:47,797\\nIt was re-modelled by a British general in the 19th century\\nand it is still in use.\\n\\n6\\n00:00:47,985 --> 00:00:57,731\\nThe Kallanai which was built,\\nin the 2nd century by king Karikala Cholan is our pride.\\n\\n7\\n00:00:58,101 --> 00:01:04,503\\nLet's see the answer to the previous question, in this video!\\n\\n8\\n00:01:09,596 --> 00:01:21,524\\nThough we classify Cheras, Cholas, Pandyas, and Pallavas\\nas four different dynasties, together they were called Dravidians.\\n\\n9\\n00:01:21,701 --> 00:01:44,969\\nMonarchies allowed only male succession, usually from father to son.\\nCommon Public or women were not allowed to rule the country.\\n\\n10\\n00:01:45,158 --> 00:01:53,411\\nWe have no clue about how it would have been\\nif they had followed democracy instead of monarchy.\\n\\n11\\n00:01:53,610 --> 00:02:00,410\\nOne particular type of evolution was constant throughout\\nthe world at that time.\\n\\n12\\n00:02:00,595 --> 00:02:07,737\\nAnd as monarchy has been widely followed by different parts\\nof the world for ages,\\n\\n13\\n00:02:08,038 --> 00:02:11,247\\nwe too had monarchy system till the advent of the British.\\n\\n14\\n00:02:11,563 --> 00:02:13,784\\nThere are Pros and cons to the monarchy system.\\n\\n15\\n00:02:13,988 --> 00:02:16,779\\nBut our kings have done a lot for the welfare of our country.\\n\\n16\\n00:02:17,088 --> 00:02:26,121\\nThough we always comment about rich powerful people,\\nIn those days kings who had wealth brought about changes.\\n\\n17\\n00:02:26,278 --> 00:02:28,949\\nBut few kings failed to utilize it for good!\\n\\n18\\n00:02:28,980 --> 00:02:37,312\\nOur land was once ruled by many great kings.\\nLet's see how it started and how Ponniyin Selvan happened!\\n\\n19\\n00:02:37,633 --> 00:02:45,288\\nThough Karikala Cholan built The Great Kallanai in the 2nd century,\\nthe Chola Dynasty didn't flourish at that time.\\n\\n20\\n00:02:45,476 --> 00:03:09,914\\nPandyas and\\n Pallavas fought often during\\nthe 6-7th century.\\n\\n21\\n00:03:10,067 --> 00:03:28,455\\nVijayalaya Chola uses this opportunity to defeat Pandyas,\\nconquers Tanjore and announces it as their capital.\\n\\n22\\n00:03:28,633 --> 00:03:37,567\\nHe also conquers Madurai, and the 6-7th centuries are all\\nabout Pandyas and Pallavas only.\\n\\n23\\n00:03:37,875 --> 00:03:43,940\\nKalki's 'Parthiban Kanavu' is all about these wars,\\n\\n24\\n00:03:44,256 --> 00:03:54,803\\nIt talks about the dream of a Chola king Parthiban who wanted\\nto establish the Chola dynasty as the dominant force.\\n\\n25\\n00:03:54,948 --> 00:04:11,750\\nParthiban dies in Warfield and mentions, that his dream\\nwill be made true by a king 300 years from now.\\n\\n26\\n00:04:12,040 --> 00:04:13,818\\nAnd the story of Ponniyin Selvan begins there.\\n\\n27\\n00:04:14,095 --> 00:04:24,005\\nDuring the 6-7th centuries,\\nthe Chola dynasty, was under Pallava- Pandyas rule.\\n\\n28\\n00:04:24,189 --> 00:04:32,960\\nAnd with burning desire, Vijayalaya Chola fought and defeated the Pandyas\\nto conquer Tanjore.\\n\\n29\\n00:04:33,242 --> 00:04:37,707\\nThen Parantaka Chola, the successor of Vijayalaya Chola\\ndefeats Pallavas.\\n\\n30\\n00:04:37,858 --> 00:04:44,504\\nThe advent of the Chola dynasty begins with this victory\\nSundara Cholan is the grand son of Parantaka Cholan.\\n\\n31\\n00:04:44,825 --> 00:04:50,862\\nAnd Ponniyin Selvan is the son of Sundara Cholan.\\nAnd this is where the story of Ponniyin Selvan begins.\\n\\n32\\n00:04:51,180 --> 00:05:01,200\\nThough many Chola kings ruled us, only Raja Raja Cholan,\\nand Rajendra Cholan were celebrated kings.\\n\\n33\\n00:05:01,520 --> 00:05:09,375\\nRaja raja Cholan conquers, expands the kingdom to Sri Lanka,\\n\\n34\\n00:05:09,520 --> 00:05:15,436\\nand Rajendra Cholan conquers and expands their kingdom\\nto Malaysia and Sumatra.\\n\\n35\\n00:05:15,668 --> 00:05:25,685\\nThe Father-Son duo plays a great role\\nin the expansion of the Chola dynasty.\\n\\n36\\n00:05:25,835 --> 00:05:28,313\\nYou can learn about Raja Raja Cholan's water management,\\n\\n37\\n00:05:28,463 --> 00:05:42,656\\nElectoral system and architecture in the book 'Raja raja Cholan'\\nby Mannar Mannan and in Balakumaran's 'Udaiyar'.\\n\\n38\\n00:05:42,947 --> 00:05:51,033\\nThese books give us explanations of\\nwhy Cholas are best among other kings.\\n\\n39\\n00:05:51,354 --> 00:05:55,275\\nRaja raja Cholan was a marketing king.\\n\\n40\\n00:05:55,453 --> 00:06:06,454\\na pioneer in architectural technics. Even now we admire\\nTanjore Brihadishvara temple, for it's artistic and\\narchitectural excellence.\\n\\n41\\n00:06:06,774 --> 00:06:24,460\\nMannar mannan mentions Raja Raja Cholan as a visionary,\\nfor building a temple which would stand tall even after 1000 years.\\n\\n42\\n00:06:24,778 --> 00:06:27,733\\nAncient kings followed a practice of 'Meikeerthi'\\nTamil inscriptions of grants issued by kings of South India.\\n\\n43\\n00:06:27,893 --> 00:06:43,662\\nAnd Raja raja Cholan wrote about his welfare activities\\nin his 'Meikeerthi', so that the future generations\\nwill learn about his deeds.\\n\\n44\\n00:06:43,958 --> 00:07:14,533\\nBut Rajendra Cholan's son aimed to establish his father's fame,\\nused coins in which the face of Raja raja cholan is engraved.\\n\\n45\\n00:07:15,377 --> 00:07:33,460\\nThe successors of Raja Raja Cholan further spread\\nhis fame, his knowledge in science, architecture, etc.\\n\\n46\\n00:07:33,662 --> 00:07:46,947\\nHe mentions the names of contributors to the construction\\nof the Tanjore temple in the inscription but not the techniques used!\\n\\n47\\n00:07:47,122 --> 00:07:50,993\\nbecause that was his secret formula.\\n\\n48\\n00:07:51,148 --> 00:08:21,286\\nBut information like place of acquisition, the type of rocks,\\nand sand used and techniques used to determine the weight of rock\\nfor handy usage is mentioned.\\n\\n49\\n00:08:21,450 --> 00:08:39,486\\nAs Cholas lost a few cities in flood,\\nTanjore was the safest spot so, they built the Big Temple in Tanjore.\\n\\n50\\n00:08:39,808 --> 00:08:58,514\\nPonniyin Selvan talks about all four dynasties.\\nFor eg, Sundaracholan's grandmother is a Chera princess.\\n\\n51\\n00:08:58,660 --> 00:09:11,427\\nAnd here comes the Chinna and Periya Pazhuvettaraiyar.\\nPeriya Pazhuvettairaiyar belonged to the Chera dynasty\\n\\n52\\n00:09:11,810 --> 00:09:24,434\\nVeerapandiyan chops off Uthamaseeli's head\\nand gains a title,\\n\\n53\\n00:09:24,738 --> 00:09:27,844\\n'Uthamaseeli Thalaikonda Kopperungesari Veerapandiyan'!\\n\\n54\\n00:09:28,140 --> 00:09:44,467\\nAnd that is when Cholas decide to seek revenge,\\nand Sundara cholan defeats Pandyas\\nwithout cutting Veerapandiyan's head.\\n\\n55\\n00:09:44,775 --> 00:09:54,084\\nHe implants the seeds of hatred in Adhitha Karikalan\\nfrom a very young age, to avenge the death of Uthamaseeli,\\n\\n56\\n00:09:54,415 --> 00:10:03,336\\nand he chops off Veerapandiyan's head!\\n\\n57\\n00:10:03,499 --> 00:10:08,722\\nAnd he was named as,\\n'Veerapandiyan Thalai Konda Kopparakesari Adhitha Karikalan'.\\n\\n58\\n00:10:09,013 --> 00:10:21,904\\nPandyas plots to kill Aditha Karikalan for assasination of Veerapandian.\\nAnd they aimed to bring down the Chola dynasty.\\n\\n59\\n00:10:22,228 --> 00:10:26,764\\nKalki has created fictional characters for the assassination\\nof Aaditha Karikalan, we have found the inscriptional evidence against,\\n\\n60\\n00:10:27,098 --> 00:10:38,643\\nVeerapandyan, Ravidasan, Soman Sambavan.\\nlinking them to Aaditha Karikalan's death,\\n\\n61\\n00:10:38,786 --> 00:10:42,430\\nThe fight between the Pandyas and the Cholas \\n\\n62\\n00:10:42,609 --> 00:10:48,653\\nThe mystery around Aaditha Karikalan's death.\\n\\n63\\n00:10:49,136 --> 00:10:53,905\\nRaja Raja cholan doesn't come to power after\\nthe death of Aaditha Karikalan\\n\\n64\\n00:10:54,014 --> 00:10:58,837\\nUthama Cholan aka Madurandangan the king\\nof the Cholas.\\n\\n65\\n00:10:59,157 --> 00:11:02,771\\nNo one knows where Raja Raja Cholan disappeared\\nduring those 14 years.\\n\\n66\\n00:11:02,915 --> 00:11:06,645\\nThese mysteries are there as a story and in real.\\n\\n67\\n00:11:07,088 --> 00:11:34,173\\nThe fact that we are still praising Raja Raja Cholan is a\\nresult of his vision and his actions which made the vision\\na reality.\\n\\n68\\n00:11:34,317 --> 00:11:50,194\\nHe built statues of himself and had drawings of him.\\nA statue of his is still there in Pondicherry.\\n\\n69\\n00:11:50,571 --> 00:11:54,240\\nThe statue has been recreated in Tanjore as well.\\n\\n70\\n00:11:54,520 --> 00:12:01,351\\nHe took efforts to spread his fame to people\\nand we are seeing the results of those efforts now.\\n\\n71\\n00:12:01,493 --> 00:12:19,123\\nThough we are not sure that his intent back then, his fame has\\nnow spread to Las Vegas through the film and it's trailer.\\n\\n72\\n00:12:19,433 --> 00:12:33,913\\nWe were not alive back then but the actors in PS-1 will\\nbe the faces of those famous characters from now onwwards.\\n\\n73\\n00:12:34,201 --> 00:12:41,904\\nThis book has readers across the world and there are\\nothers who are familiar with the history.\\n\\n74\\n00:12:42,208 --> 00:12:46,526\\nA person attempts to write a book on the Cholas\\nwhich leads to research.\\n\\n75\\n00:12:47,300 --> 00:12:50,002\\nSo many people have attempted to make a film\\nbased on Ponniyin Selvan before\\n\\n76\\n00:12:50,268 --> 00:12:55,382\\nwhich has been made possible by Mani Ratnam\\nwith a huge star cast.\\n\\n77\\n00:12:55,843 --> 00:13:16,617\\nThe fact that the actors playing the roles are the ones\\nwe grew up with is wonderful.\\n\\n78\\n00:13:16,773 --> 00:13:22,916\\nThe vision to make a film on Ponniyin Selvan started with MGR\\nBut it was destined to happen now.\\n\\n79\\n00:13:23,080 --> 00:13:29,679\\nThe film Ponniyin Selvan must be close to the heart\\nfor everyone involved.\\n\\n80\\n00:13:29,825 --> 00:13:49,406\\nIt is being said that all of us are linked to\\none old lady's DNA.\\n\\n81\\n00:13:49,718 --> 00:14:07,982\\nPeople from the same gene have fought, betrayed\\nand schemed against each other.\\n\\n82\\n00:14:08,291 --> 00:14:24,376\\nThe reign of the Cholas coincided with events across the globe\\nbut the Chola reign is still a wonder.\\n\\n83\\n00:14:24,592 --> 00:14:38,497\\nBesides watching the film, you can all take efforts\\nto know about the achievements of Cholas.\\n\\n\", 'duration': 872.769, 'audio_file': '/weka/huongn/ow_full/00000000/48_u42JFNYs/48_u42JFNYs.m4a', 'mach_content': 'WEBVTT\\nKind: captions\\nLanguage: en\\n\\n00:00:00.000 --> 00:01:04.960 align:start position:0%\\n \\nforeign\\n\\n00:01:04.960 --> 00:01:04.970 align:start position:0%\\n \\n \\n\\n00:01:04.970 --> 00:02:05.170 align:start position:0%\\n \\n[Music]\\n\\n00:02:05.170 --> 00:02:05.180 align:start position:0%\\n \\n \\n\\n00:02:05.180 --> 00:03:05.050 align:start position:0%\\n \\nforeign\\n\\n00:03:05.050 --> 00:03:05.060 align:start position:0%\\n \\n \\n\\n00:03:05.060 --> 00:04:06.050 align:start position:0%\\n \\nregion<00:03:06.120><c> foreign</c>\\n\\n00:04:06.050 --> 00:04:06.060 align:start position:0%\\n \\n \\n\\n00:04:06.060 --> 00:06:04.930 align:start position:0%\\n \\nforeign\\n\\n00:06:04.930 --> 00:06:04.940 align:start position:0%\\n \\n \\n\\n00:06:04.940 --> 00:07:05.870 align:start position:0%\\n \\nforeign<00:06:05.940><c> foreign</c>\\n\\n00:07:05.870 --> 00:07:05.880 align:start position:0%\\n \\n \\n\\n00:07:05.880 --> 00:08:15.110 align:start position:0%\\n \\nforeign\\n\\n00:08:15.110 --> 00:08:15.120 align:start position:0%\\n \\n \\n\\n00:08:15.120 --> 00:10:13.990 align:start position:0%\\n \\nforeign\\n\\n00:10:13.990 --> 00:10:14.000 align:start position:0%\\n \\n \\n\\n00:10:14.000 --> 00:11:13.930 align:start position:0%\\n \\nforeign\\n\\n00:11:13.930 --> 00:11:13.940 align:start position:0%\\n \\n \\n\\n00:11:13.940 --> 00:12:13.870 align:start position:0%\\n \\nforeign\\n\\n00:12:13.870 --> 00:12:13.880 align:start position:0%\\n \\n \\n\\n00:12:13.880 --> 00:13:46.030 align:start position:0%\\n \\nforeign<00:12:14.880><c> research</c>\\n\\n00:13:46.030 --> 00:13:46.040 align:start position:0%\\n \\n \\n\\n00:13:46.040 --> 00:14:45.550 align:start position:0%\\n \\nforeign\\n\\n00:14:45.550 --> 00:14:45.560 align:start position:0%\\n \\n \\n\\n00:14:45.560 --> 00:15:11.310 align:start position:0%\\n \\nFacebook<00:14:46.560><c> Instagram</c><00:14:46.980><c> foreign</c>\\n\\n00:15:11.310 --> 00:15:11.320 align:start position:0%\\n \\n \\n\\n00:15:11.320 --> 00:15:14.269 align:start position:0%\\n \\n[Music]\\n\\n00:15:14.269 --> 00:15:14.279 align:start position:0%\\n[Music]\\n \\n\\n00:15:14.279 --> 00:15:16.519 align:start position:0%\\n[Music]\\nthank<00:15:14.399><c> you</c>\\n\\n', 'id': '48_u42JFNYs', 'man_mach_score': 0.15395398437976837}\n",
      "{'path': '/weka/huongn/ow_full/00000008/k_RxXqNv4q0/k_RxXqNv4q0.en-US.srt', 'text': '1\\n00:00:28,480 --> 00:00:31,726\\nThe project of expanding Tieng Giang Tongwei\\n\\n2\\n00:00:31,726 --> 00:00:34,420\\nis entering the roofing stage.\\n\\n3\\n00:01:04,320 --> 00:01:07,300\\nAll the stages are always implemented sequencely,\\n\\n4\\n00:01:07,360 --> 00:01:10,080\\nensuring quality and labor safety.\\n\\n5\\n00:02:08,100 --> 00:02:10,220\\nWorldSteel always tries to bring customers\\n\\n6\\n00:02:10,280 --> 00:02:12,740\\nthe qualified construction works.\\n\\n7\\n00:02:42,100 --> 00:02:44,440\\nAfter this project,\\n\\n8\\n00:02:44,540 --> 00:02:47,200\\nWorldSteel hopes to continue to cooperate\\n\\n9\\n00:02:47,220 --> 00:02:49,920\\nwith Tongwei to produce more qualified construction works.\\n\\n10\\n00:03:08,940 --> 00:03:11,700\\nThank you for being the WorldSteel’s companion during the past time\\n\\n', 'duration': 163.22, 'audio_file': '/weka/huongn/ow_full/00000008/k_RxXqNv4q0/k_RxXqNv4q0.m4a', 'mach_content': 'WEBVTT\\nKind: captions\\nLanguage: en\\n\\n00:00:14.580 --> 00:00:37.820 align:start position:0%\\n \\n[Music]\\n\\n00:00:37.820 --> 00:00:37.830 align:start position:0%\\n \\n \\n\\n00:00:37.830 --> 00:00:43.630 align:start position:0%\\n \\n[Music]\\n\\n00:00:43.630 --> 00:00:43.640 align:start position:0%\\n \\n \\n\\n00:00:43.640 --> 00:00:54.610 align:start position:0%\\n \\n[Music]\\n\\n00:00:54.610 --> 00:00:54.620 align:start position:0%\\n \\n \\n\\n00:00:54.620 --> 00:00:59.890 align:start position:0%\\n \\n[Music]\\n\\n00:00:59.890 --> 00:00:59.900 align:start position:0%\\n \\n \\n\\n00:00:59.900 --> 00:01:09.790 align:start position:0%\\n \\n[Music]\\n\\n00:01:09.790 --> 00:01:09.800 align:start position:0%\\n \\n \\n\\n00:01:09.800 --> 00:01:17.730 align:start position:0%\\n \\n[Music]\\n\\n00:01:17.730 --> 00:01:17.740 align:start position:0%\\n \\n \\n\\n00:01:17.740 --> 00:02:00.420 align:start position:0%\\n \\n[Music]\\n\\n00:02:00.420 --> 00:02:00.430 align:start position:0%\\n \\n \\n\\n00:02:00.430 --> 00:02:44.340 align:start position:0%\\n \\n[Music]\\n\\n00:02:44.340 --> 00:02:44.350 align:start position:0%\\n \\n \\n\\n00:02:44.350 --> 00:03:13.000 align:start position:0%\\n \\n[Music]\\n\\n00:03:13.000 --> 00:03:13.010 align:start position:0%\\n \\n \\n\\n00:03:13.010 --> 00:03:24.340 align:start position:0%\\n \\n[Music]\\n\\n00:03:24.340 --> 00:03:24.350 align:start position:0%\\n \\n \\n\\n00:03:24.350 --> 00:03:26.910 align:start position:0%\\n \\n[Music]\\n\\n', 'id': 'k_RxXqNv4q0', 'man_mach_score': 0.16214269399642944}\n"
     ]
    }
   ],
   "source": [
    "key_mapping = {'subtitle_file': 'path', 'content': 'text', 'length': 'duration'}  # Mapping of old keys to new keys\n",
    "\n",
    "new_data = []\n",
    "for d in data[:10]:\n",
    "    new_dict = {key_mapping.get(k, k): v for k, v in d.items()}\n",
    "    new_data.append(new_dict)\n",
    "    print(new_dict)"
   ]
  },
  {
   "cell_type": "code",
   "execution_count": 17,
   "id": "4d873a25",
   "metadata": {},
   "outputs": [
    {
     "data": {
      "text/plain": [
       "{'path': '/weka/huongn/ow_full/00000009/i-SR-1hw0EU/i-SR-1hw0EU.en.srt',\n",
       " 'text': '1\\n00:00:04,880 --> 00:00:10,400\\n\\n2\\n00:00:10,580 --> 00:00:14,680\\nkimchi 200g/ Pork mince 200g/ Pork belly 90g/ Tofu 160g/ Beansprout 150g\\n\\n3\\n00:00:14,800 --> 00:00:19,340\\nGarlic mince 2tsp/ Ginger mince 2tsp/ Kimchi juice 2tbs/ Black pepper/ Soy sauce 2tbs/ Fish sauce 1tbs/ Sesame oil 1tbs/ Dumpling skin\\n\\n4\\n00:00:20,440 --> 00:00:23,160\\nHi guys! I’m going to make Kim-Chi mandoo today.\\n\\n5\\n00:00:23,220 --> 00:00:25,240\\nMandoo is Korean style Dumpling!!\\n\\n6\\n00:00:25,480 --> 00:00:26,740\\nLet’s start!!\\n\\n7\\n00:00:26,920 --> 00:00:35,120\\nFirst, I’ll make Dumpling filling. First please mix pork mince, Tofu and Kimchi. Make sure drain moisture from tofu before mix.\\n\\n8\\n00:00:39,160 --> 00:00:44,500\\nChopped the kimchi, then remove the kimchi juice as well.\\n\\n9\\n00:00:51,200 --> 00:00:55,880\\nThen add into the mixture!!\\n\\n10\\n00:00:56,740 --> 00:01:03,480\\nI’m going to add pork belly oil to the dumplings. Extra pork oil makes juicy dumpling!!\\n\\n11\\n00:01:03,820 --> 00:01:06,160\\nGrill the pork belly!! You can use a pen or air-fryer.\\n\\n12\\n00:01:06,180 --> 00:01:08,840\\nI used air-fryer. It’s a little more comfortable.\\n\\n13\\n00:01:17,960 --> 00:01:25,100\\nSet air-fryer with 180 degree and cook pork belly for 15 mins.\\n\\n14\\n00:01:29,380 --> 00:01:37,220\\nNow cook bean sprout. Make sure add salt to the water.\\n\\n15\\n00:01:40,540 --> 00:01:54,040\\nAnd make sure wait for the water to boil!! Bean sprout makes sure cook with boiling water. And add bean sprout.\\n\\n16\\n00:02:03,660 --> 00:02:10,140\\nCook until the bean sprout is slightly change to light color.\\n\\n17\\n00:02:12,980 --> 00:02:21,780\\nIf the bean sprouts are cooked, rinse them in cold water.\\n\\n18\\n00:02:24,600 --> 00:02:29,420\\nMake sure to drain the rinsed bean sprouts.\\n\\n19\\n00:02:32,660 --> 00:02:38,620\\nCut the bean sprouts into a good size to mix with the dumpling fillings.\\n\\n20\\n00:02:42,760 --> 00:02:45,280\\nThen, please add it to the filling mix.\\n\\n21\\n00:02:48,160 --> 00:02:51,740\\nOk! pork oil is ready!!\\n\\n22\\n00:02:52,860 --> 00:02:55,520\\nNow add all the seasoning and mix all ingredients.\\n\\n23\\n00:02:55,660 --> 00:02:57,020\\n1. Pork oil\\n\\n24\\n00:02:57,760 --> 00:03:13,080\\n2. add egg, garlic, ginger, soy sauce, kimchi juices\\n\\n25\\n00:03:15,600 --> 00:03:27,200\\n3. black pepper will helps pork flavour.                               4. The sesame oil makes the dumpling flavor even more!! 5. Lastly, add fish sauce for seasoning.\\n\\n26\\n00:03:29,640 --> 00:03:35,100\\nNow you can mix!! Then dumpling mix is READY!!!!\\n\\n27\\n00:03:37,840 --> 00:03:43,900\\nNow Dumping Time!! Please prepare dumpling skins!!\\n\\n28\\n00:03:51,980 --> 00:03:58,560\\n1/2 Tbs of fillings are suitable for 1 dumpling.\\n\\n29\\n00:03:59,640 --> 00:04:08,620\\nBTW, the other mixtures next to it are bulgogi mix. I made with Bulgogi instead of pork mince and kimchi, and fresh chopped garlic chive instead of bean sprout. The rest of the ingredients are the same.\\n\\n30\\n00:04:09,680 --> 00:04:17,880\\nMake the shape of the dumplings to your liking. Be CREATIVELY!!\\n\\n31\\n00:04:20,620 --> 00:04:25,160\\nOne more time~~~\\n\\n32\\n00:04:34,820 --> 00:04:36,540\\nVoila~~~~~\\n\\n33\\n00:04:38,860 --> 00:04:41,980\\nI think, i did a good job lol\\n\\n34\\n00:04:43,740 --> 00:04:46,420\\nI love steamed dumpling so I prepared a steamer. But you can pen frying if you prefer.\\n\\n35\\n00:04:46,700 --> 00:04:49,120\\nPlease steam the dumplings when steamer is ready. i cooked for 9 mins with boiling water steamer.\\n\\n36\\n00:04:49,620 --> 00:04:52,560\\nMake sure it cooks through because it contained pork.\\n\\n37\\n00:04:52,840 --> 00:05:04,680\\nMake sure use wet clean towel under dumplings. it makes dumpling doesn’t get stick on tray and keep moisture.\\n\\n38\\n00:05:08,260 --> 00:05:19,180\\nSteam the dumplings for 9 mins when steamer water starts to boil.\\n\\n39\\n00:05:24,140 --> 00:05:26,300\\nNOW ..\\n\\n40\\n00:05:27,800 --> 00:05:30,760\\nOMG!!! it looks amazing!!!\\n\\n41\\n00:05:37,500 --> 00:05:40,500\\nCan’t wait to taste!!\\n\\n42\\n00:05:44,520 --> 00:05:48,440\\nLet’s taste!!! Kimchi Mandoo first!!\\n\\n43\\n00:05:49,480 --> 00:05:51,440\\nIt’s really hot!!\\n\\n44\\n00:05:51,680 --> 00:05:55,220\\nI can’t even hold..lol\\n\\n45\\n00:05:55,680 --> 00:06:00,820\\ni’ll try Bulgogi mandoo as well.\\n\\n46\\n00:06:03,840 --> 00:06:05,180\\nIt’s so juicy~~\\n\\n47\\n00:06:05,260 --> 00:06:06,860\\nDo you see the how juicy it is?? lol\\n\\n48\\n00:06:07,940 --> 00:06:09,520\\nOMG!! it’s so hot~~\\n\\n49\\n00:06:11,300 --> 00:06:16,300\\nIt is really tasty!!\\n\\n50\\n00:06:20,000 --> 00:06:25,840\\nThank you for watching!!\\n\\n51\\n00:06:26,220 --> 00:06:31,020\\nPlease subscribe and like if you happy with this video!! Chao~~\\n\\n',\n",
       " 'duration': 386.14,\n",
       " 'audio_file': '/weka/huongn/ow_full/00000009/i-SR-1hw0EU/i-SR-1hw0EU.m4a',\n",
       " 'mach_content': 'WEBVTT\\nKind: captions\\nLanguage: en\\n\\n00:00:11.770 --> 00:02:18.510 align:start position:0%\\n \\n[Music]\\n\\n00:02:18.510 --> 00:02:18.520 align:start position:0%\\n \\n \\n\\n00:02:18.520 --> 00:02:26.060 align:start position:0%\\n \\n[Music]\\n\\n00:02:26.060 --> 00:02:26.070 align:start position:0%\\n \\n \\n\\n00:02:26.070 --> 00:02:39.070 align:start position:0%\\n \\n[Music]\\n\\n00:02:39.070 --> 00:02:39.080 align:start position:0%\\n \\n \\n\\n00:02:39.080 --> 00:03:45.370 align:start position:0%\\n \\n[Music]\\n\\n00:03:45.370 --> 00:03:45.380 align:start position:0%\\n \\n \\n\\n00:03:45.380 --> 00:04:15.050 align:start position:0%\\n \\n[Music]\\n\\n00:04:15.050 --> 00:04:15.060 align:start position:0%\\n \\n \\n\\n00:04:15.060 --> 00:04:24.750 align:start position:0%\\n \\n[Music]\\n\\n00:04:24.750 --> 00:04:24.760 align:start position:0%\\n \\n \\n\\n00:04:24.760 --> 00:04:31.130 align:start position:0%\\n \\n[Music]\\n\\n00:04:31.130 --> 00:04:31.140 align:start position:0%\\n \\n \\n\\n00:04:31.140 --> 00:04:51.230 align:start position:0%\\n \\n[Music]\\n\\n00:04:51.230 --> 00:04:51.240 align:start position:0%\\n \\n \\n\\n00:04:51.240 --> 00:04:56.860 align:start position:0%\\n \\n[Music]\\n\\n00:04:56.860 --> 00:04:56.870 align:start position:0%\\n \\n \\n\\n00:04:56.870 --> 00:06:13.210 align:start position:0%\\n \\n[Music]\\n\\n00:06:13.210 --> 00:06:13.220 align:start position:0%\\n \\n \\n\\n00:06:13.220 --> 00:06:19.300 align:start position:0%\\n \\n[Music]\\n\\n00:06:19.300 --> 00:06:19.310 align:start position:0%\\n \\n \\n\\n00:06:19.310 --> 00:06:32.329 align:start position:0%\\n \\n[Music]\\n\\n',\n",
       " 'id': 'i-SR-1hw0EU',\n",
       " 'man_mach_score': 0.11444205790758133}"
      ]
     },
     "execution_count": 17,
     "metadata": {},
     "output_type": "execute_result"
    }
   ],
   "source": [
    "new_data[0]"
   ]
  },
  {
   "cell_type": "code",
   "execution_count": 19,
   "id": "77680192",
   "metadata": {},
   "outputs": [],
   "source": [
    "for d in new_data:\n",
    "    d[\"categories\"] = \"\""
   ]
  },
  {
   "cell_type": "code",
   "execution_count": 21,
   "id": "b0aee979",
   "metadata": {},
   "outputs": [],
   "source": [
    "import json\n",
    "with open(\"manmach_data.json\", \"w\") as f:\n",
    "    json.dump(new_data, f, indent=2)"
   ]
  },
  {
   "cell_type": "code",
   "execution_count": 23,
   "id": "a939febd",
   "metadata": {},
   "outputs": [],
   "source": [
    "import json\n",
    "with open(\"manmach_data.json\", \"w\") as f:\n",
    "    json.dump(data, f, indent=2)"
   ]
  },
  {
   "cell_type": "code",
   "execution_count": null,
   "id": "ee2400e7",
   "metadata": {},
   "outputs": [],
   "source": []
  }
 ],
 "metadata": {
  "kernelspec": {
   "display_name": "open_whisper",
   "language": "python",
   "name": "python3"
  },
  "language_info": {
   "codemirror_mode": {
    "name": "ipython",
    "version": 3
   },
   "file_extension": ".py",
   "mimetype": "text/x-python",
   "name": "python",
   "nbconvert_exporter": "python",
   "pygments_lexer": "ipython3",
   "version": "3.12.2"
  }
 },
 "nbformat": 4,
 "nbformat_minor": 5
}
